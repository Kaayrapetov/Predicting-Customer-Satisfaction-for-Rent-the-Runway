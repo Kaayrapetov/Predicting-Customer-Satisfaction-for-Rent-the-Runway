{
 "cells": [
  {
   "cell_type": "markdown",
   "id": "e0e01fd5",
   "metadata": {},
   "source": [
    "<img src=\"https://m1.quebecormedia.com/emp/emp/bender8175858f-7dbd-4927-85c5-85557e800b98_ORIGINAL.jpg?impolicy=crop-resize&x=0&y=0&w=1000&h=745&width=925&height=925\" style=\"float: left; margin: 30px; height: 75px\">\n",
    "\n",
    "# Predicting Customer Satisfaction on Rent the Runway\n",
    "\n",
    "## III. Modeling\n",
    "### Katrin Ayrapetov\n",
    "\n",
    "\n",
    "<font style=\"font-size: 2rem; color: blue\">\n",
    "\n",
    "\n",
    " \n",
    "</font>"
   ]
  },
  {
   "cell_type": "code",
   "execution_count": 1,
   "id": "db9f0369",
   "metadata": {},
   "outputs": [],
   "source": [
    "import pandas as pd\n",
    "import numpy as np\n",
    "import seaborn as sns\n",
    "import xgboost as xgb\n",
    "from sklearn.model_selection import train_test_split, GridSearchCV\n",
    "from sklearn.metrics import accuracy_score, recall_score, precision_score, roc_auc_score, balanced_accuracy_score, ConfusionMatrixDisplay\n"
   ]
  },
  {
   "cell_type": "code",
   "execution_count": 2,
   "id": "8d628c45",
   "metadata": {},
   "outputs": [],
   "source": [
    "import warnings\n",
    "warnings.filterwarnings('ignore')"
   ]
  },
  {
   "cell_type": "code",
   "execution_count": 3,
   "id": "64cd51e3",
   "metadata": {},
   "outputs": [],
   "source": [
    "import os\n",
    "import gc\n",
    "import joblib\n",
    "import pandas as pd\n",
    "import numpy as np\n",
    "from sklearn import metrics, preprocessing\n",
    "from tensorflow.keras import layers\n",
    "from tensorflow.keras import optimizers\n",
    "from tensorflow.keras.models import Model, load_model\n",
    "from tensorflow.keras import callbacks\n",
    "from tensorflow.keras import backend as K\n",
    "from tensorflow.keras import utils"
   ]
  },
  {
   "cell_type": "code",
   "execution_count": 4,
   "id": "00f738ae",
   "metadata": {},
   "outputs": [],
   "source": [
    "from sklearn import preprocessing"
   ]
  },
  {
   "cell_type": "code",
   "execution_count": 5,
   "id": "ce290465",
   "metadata": {},
   "outputs": [],
   "source": [
    "from sklearn import model_selection"
   ]
  },
  {
   "cell_type": "code",
   "execution_count": 6,
   "id": "581db735",
   "metadata": {},
   "outputs": [],
   "source": [
    "import itertools"
   ]
  },
  {
   "cell_type": "code",
   "execution_count": 7,
   "id": "4476bb81",
   "metadata": {},
   "outputs": [],
   "source": [
    "df =  pd.read_csv('../Data/df_clean.csv')"
   ]
  },
  {
   "cell_type": "code",
   "execution_count": 8,
   "id": "ec3edefb",
   "metadata": {},
   "outputs": [],
   "source": [
    "#Binarize the Predictor Variable: Satisfaction Rating \n",
    "# 1: Not Satisfied with Rental (Satisfaction Rating of 1,2,3) \n",
    "# 0: Satisfied with Rental (Satisfaction Rating 4,5)\n",
    "df['Rating'] = np.where(df['Rating'] <= 3, 1, 0)"
   ]
  },
  {
   "cell_type": "code",
   "execution_count": 9,
   "id": "b79f85cc",
   "metadata": {},
   "outputs": [
    {
     "data": {
      "text/plain": [
       "0    0.833589\n",
       "1    0.166411\n",
       "Name: Rating, dtype: float64"
      ]
     },
     "execution_count": 9,
     "metadata": {},
     "output_type": "execute_result"
    }
   ],
   "source": [
    "#We are dealing with an unbalanced class. \n",
    "df[\"Rating\"].value_counts(normalize=True)"
   ]
  },
  {
   "cell_type": "code",
   "execution_count": 10,
   "id": "6e5c4fbf",
   "metadata": {},
   "outputs": [],
   "source": [
    "#Create a target variable vector. \n",
    "y = df.Rating.values"
   ]
  },
  {
   "cell_type": "code",
   "execution_count": 11,
   "id": "8902f93e",
   "metadata": {},
   "outputs": [],
   "source": [
    "#initiate the kfold class from model_selection module\n",
    "#The folds are made by preserving the percentage of samples for each class.\n",
    "kf = model_selection.StratifiedKFold(n_splits=5)"
   ]
  },
  {
   "cell_type": "code",
   "execution_count": 12,
   "id": "03f10429",
   "metadata": {},
   "outputs": [],
   "source": [
    "#Create a column to hold kfold labels \n",
    "df[\"kfold\"] = -1"
   ]
  },
  {
   "cell_type": "code",
   "execution_count": 13,
   "id": "0241148f",
   "metadata": {},
   "outputs": [],
   "source": [
    "#Reshuffle the rows. \n",
    "df = df.sample(frac=1).reset_index(drop=True)"
   ]
  },
  {
   "cell_type": "code",
   "execution_count": 14,
   "id": "36146cce",
   "metadata": {},
   "outputs": [],
   "source": [
    "for f, (t_,v_) in enumerate(kf.split(X=df,y=y)):\n",
    "    df.loc[v_,\"kfold\"] = f"
   ]
  },
  {
   "cell_type": "code",
   "execution_count": 15,
   "id": "fa3c7104",
   "metadata": {},
   "outputs": [
    {
     "data": {
      "text/plain": [
       "0    32266\n",
       "1    32266\n",
       "2    32266\n",
       "3    32266\n",
       "4    32265\n",
       "Name: kfold, dtype: int64"
      ]
     },
     "execution_count": 15,
     "metadata": {},
     "output_type": "execute_result"
    }
   ],
   "source": [
    "#Check that the same number of observations is in each fold. \n",
    "df.kfold.value_counts()"
   ]
  },
  {
   "cell_type": "code",
   "execution_count": 16,
   "id": "2a757c41",
   "metadata": {},
   "outputs": [
    {
     "name": "stdout",
     "output_type": "stream",
     "text": [
      "fold: k = 0\n",
      "0    0.833137\n",
      "1    0.166863\n",
      "Name: Rating, dtype: float64\n",
      "fold: k = 1\n",
      "0    0.83385\n",
      "1    0.16615\n",
      "Name: Rating, dtype: float64\n",
      "fold: k = 2\n",
      "0    0.831432\n",
      "1    0.168568\n",
      "Name: Rating, dtype: float64\n",
      "fold: k = 3\n",
      "0    0.834687\n",
      "1    0.165313\n",
      "Name: Rating, dtype: float64\n",
      "fold: k = 4\n",
      "0    0.834837\n",
      "1    0.165163\n",
      "Name: Rating, dtype: float64\n"
     ]
    }
   ],
   "source": [
    "#Check that the target variable has the same distribution  the same in each fold. \n",
    "for k in range(5):\n",
    "    print(f\"fold: k = {k}\")\n",
    "    print(df[df.kfold==k].Rating.value_counts(normalize=True))\n",
    "    "
   ]
  },
  {
   "cell_type": "code",
   "execution_count": 17,
   "id": "21415bca",
   "metadata": {},
   "outputs": [],
   "source": [
    "#Create a set of features \n",
    "df.drop(columns=[\"Brand\",\"Dress_Description\"],inplace=True)"
   ]
  },
  {
   "cell_type": "code",
   "execution_count": 18,
   "id": "698b800b",
   "metadata": {},
   "outputs": [],
   "source": [
    "df.dropna(inplace=True)"
   ]
  },
  {
   "cell_type": "code",
   "execution_count": 19,
   "id": "16772131",
   "metadata": {},
   "outputs": [],
   "source": [
    "df_train = df[df.kfold != 3].reset_index(drop=True)\n",
    "df_valid = df[df.kfold == 3].reset_index(drop=True)"
   ]
  },
  {
   "cell_type": "code",
   "execution_count": 24,
   "id": "bbe2baae",
   "metadata": {},
   "outputs": [],
   "source": [
    "df_train.drop(columns=[\"kfold\"],inplace=True)\n",
    "df_valid.drop(columns=[\"kfold\"],inplace=True)"
   ]
  },
  {
   "cell_type": "code",
   "execution_count": 26,
   "id": "448c4016",
   "metadata": {},
   "outputs": [],
   "source": [
    "#Export as an excel file \n",
    "df_train.to_csv('../Data/df_train_fashion.csv', header=True, index=False)\n",
    "df_valid.to_csv('../Data/df_valid_fashion.csv', header=True, index=False)"
   ]
  },
  {
   "cell_type": "code",
   "execution_count": 25,
   "id": "af5f363c",
   "metadata": {},
   "outputs": [],
   "source": [
    "df =  pd.read_csv('df_with_k_folds.csv')"
   ]
  },
  {
   "cell_type": "code",
   "execution_count": 42,
   "id": "cac2e955",
   "metadata": {},
   "outputs": [],
   "source": [
    "# This function creates the Neural Network model using Entity embedding. \n",
    "def create_model(data, catcols):\n",
    "    inputs = []\n",
    "    outputs = []\n",
    "    for c in catcols:\n",
    "        num_unique_values = int(data[c].nunique())\n",
    "        embed_dim = int(min(np.ceil((num_unique_values)/2), 60))\n",
    "        inp = layers.Input(shape=(1,))\n",
    "        out = layers.Embedding(num_unique_values + 1, embed_dim, name=c)(inp)\n",
    "        out = layers.SpatialDropout1D(0.3)(out)\n",
    "        out = layers.Reshape(target_shape=(embed_dim, ))(out)\n",
    "        inputs.append(inp)\n",
    "        outputs.append(out)\n",
    "    x = layers.Concatenate()(outputs)\n",
    "    x = layers.BatchNormalization()(x)\n",
    "    x = layers.Dense(45, activation=\"relu\")(x)\n",
    "    x = layers.Dropout(0.3)(x)\n",
    "    x = layers.BatchNormalization()(x)\n",
    "    x = layers.Dense(45, activation=\"relu\")(x)\n",
    "    x = layers.Dropout(0.3)(x)\n",
    "    x = layers.BatchNormalization()(x)\n",
    "    y = layers.Dense(2, activation=\"softmax\")(x)\n",
    "    model = Model(inputs=inputs, outputs=y)\n",
    "    model.compile(loss='binary_crossentropy', optimizer='adam')\n",
    "    return model"
   ]
  },
  {
   "cell_type": "code",
   "execution_count": 39,
   "id": "b0ba2c84",
   "metadata": {},
   "outputs": [
    {
     "data": {
      "text/plain": [
       "('Height', 'Age', 'Weight', 'Retail_price', 'Rent_price', 'Number_of_reviews')"
      ]
     },
     "execution_count": 39,
     "metadata": {},
     "output_type": "execute_result"
    }
   ],
   "source": [
    "\"Height\",\"Age\",\"Weight\",\"Retail_price\",\"Rent_price\",\"Number_of_reviews\","
   ]
  },
  {
   "cell_type": "code",
   "execution_count": 40,
   "id": "4badbbbe",
   "metadata": {},
   "outputs": [],
   "source": [
    "# This function label encodes categorical features. It fits the training data with a model. \n",
    "# then uses the model to make predictions on the submissions data set. \n",
    "def neural_network_model(fold):\n",
    "   \n",
    "    #list of numeric columns \n",
    "    num_cols = [\"Height\",\"Age\",\"Weight\",\"Retail_price\",\"Rent_price\",\"Number_of_reviews\"]\n",
    "    #List of categorical columns \n",
    "    #cat_cols = [c for c in df.columns if c not in num_cols and c not in (\"kfold\", \"Rating\")]\n",
    "    #All columns are features except the target column and the kfold column \n",
    "    features = [f for f in df.columns if f not in (\"kfold\", \"Rating\")]\n",
    "    #[f for f in df.columns if f not in ('kfold',\"Rating\")]\n",
    "    \n",
    "    #convert the categorical variables to strings\n",
    "    for col in features:\n",
    "        df.loc[:,col] = df[col].astype(str)  \n",
    "    #Use label encoder on categorical features. \n",
    "    for feat in features:\n",
    "        lbl_enc = preprocessing.LabelEncoder()\n",
    "        df.loc[:,feat]=lbl_enc.fit_transform(df[feat].values)\n",
    "    \n",
    "        \n",
    "    #Hold one of the five folds as validation set and four folds as training sets \n",
    "    df_train = df[df.kfold != fold].reset_index(drop=True)\n",
    "    df_valid = df[df.kfold == fold].reset_index(drop=True)\n",
    "    \n",
    "    model = create_model(df,features)\n",
    "    \n",
    "    # Features \n",
    "    xtrain = [\n",
    "     df_train[features].values[:, k] for k in range(len(features))\n",
    "    ]\n",
    "    xvalid = [\n",
    "    df_valid[features].values[:, k] for k in range(len(features))\n",
    "    ]\n",
    "\n",
    "    # get target columns\n",
    "    ytrain = df_train.Rating.values\n",
    "    yvalid = df_valid.Rating.values\n",
    "    \n",
    "    # convert target columns to categories\n",
    "\n",
    "    ytrain_cat = utils.to_categorical(ytrain)\n",
    "    yvalid_cat = utils.to_categorical(yvalid)\n",
    "    \n",
    "    # fit the model\n",
    "    model.fit(xtrain,\n",
    "    ytrain_cat,\n",
    "    validation_data=(xvalid, yvalid_cat),\n",
    "    verbose=0,\n",
    "    batch_size=32,\n",
    "    epochs=100)\n",
    "    \n",
    "    valid_preds = model.predict(xvalid)[:, 1]\n",
    "    auc = metrics.roc_auc_score(yvalid, valid_preds)\n",
    "    #accuracy = metrics.accuracy_score(df_valid.Rating.values, model.predict(xvalid))\n",
    "    #precision = metrics.precision_score(df_valid.Rating.values, model.predict(xvalid))\n",
    "    #recall= metrics.recall_score(df_valid.Rating.values, model.predict(xvalid))\n",
    "    #Ouput the Result\n",
    "    print(f\"Fold = {fold}, AUC = {auc}\")\n",
    "\n"
   ]
  },
  {
   "cell_type": "code",
   "execution_count": 41,
   "id": "2c681ac9",
   "metadata": {},
   "outputs": [
    {
     "name": "stdout",
     "output_type": "stream",
     "text": [
      "Fold = 0, AUC = 0.8146743783699307\n"
     ]
    }
   ],
   "source": [
    "neural_network_model(0)"
   ]
  },
  {
   "cell_type": "code",
   "execution_count": null,
   "id": "7dbfaaf7",
   "metadata": {},
   "outputs": [],
   "source": []
  }
 ],
 "metadata": {
  "kernelspec": {
   "display_name": "Python 3 (ipykernel)",
   "language": "python",
   "name": "python3"
  },
  "language_info": {
   "codemirror_mode": {
    "name": "ipython",
    "version": 3
   },
   "file_extension": ".py",
   "mimetype": "text/x-python",
   "name": "python",
   "nbconvert_exporter": "python",
   "pygments_lexer": "ipython3",
   "version": "3.9.11"
  }
 },
 "nbformat": 4,
 "nbformat_minor": 5
}
