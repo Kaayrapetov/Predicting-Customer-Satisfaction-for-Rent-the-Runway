{
 "cells": [
  {
   "cell_type": "markdown",
   "id": "e0e01fd5",
   "metadata": {},
   "source": [
    "<img src=\"https://m1.quebecormedia.com/emp/emp/bender8175858f-7dbd-4927-85c5-85557e800b98_ORIGINAL.jpg?impolicy=crop-resize&x=0&y=0&w=1000&h=745&width=925&height=925\" style=\"float: left; margin: 30px; height: 75px\">\n",
    "\n",
    "# Predicting Customer Satisfaction on Rent the Runway\n",
    "\n",
    "## III. Modeling\n",
    "### Katrin Ayrapetov\n",
    "\n",
    "\n",
    "<font style=\"font-size: 2rem; color: blue\">\n",
    "\n",
    "\n",
    " \n",
    "</font>"
   ]
  },
  {
   "cell_type": "code",
   "execution_count": 38,
   "id": "db9f0369",
   "metadata": {},
   "outputs": [],
   "source": [
    "import pandas as pd\n",
    "import numpy as np\n",
    "import seaborn as sns\n",
    "import xgboost as xgb\n",
    "from sklearn.model_selection import train_test_split, GridSearchCV\n",
    "from sklearn.metrics import accuracy_score, recall_score, precision_score, roc_auc_score, balanced_accuracy_score, ConfusionMatrixDisplay\n"
   ]
  },
  {
   "cell_type": "code",
   "execution_count": 39,
   "id": "8d628c45",
   "metadata": {},
   "outputs": [],
   "source": [
    "import warnings\n",
    "warnings.filterwarnings('ignore')"
   ]
  },
  {
   "cell_type": "code",
   "execution_count": 40,
   "id": "64cd51e3",
   "metadata": {},
   "outputs": [],
   "source": [
    "import os\n",
    "import gc\n",
    "import joblib\n",
    "import pandas as pd\n",
    "import numpy as np\n",
    "from sklearn import metrics, preprocessing\n",
    "from tensorflow.keras import layers\n",
    "from tensorflow.keras import optimizers\n",
    "from tensorflow.keras.models import Model, load_model\n",
    "from tensorflow.keras import callbacks\n",
    "from tensorflow.keras import backend as K\n",
    "from tensorflow.keras import utils"
   ]
  },
  {
   "cell_type": "code",
   "execution_count": 41,
   "id": "00f738ae",
   "metadata": {},
   "outputs": [],
   "source": [
    "from sklearn import preprocessing"
   ]
  },
  {
   "cell_type": "code",
   "execution_count": 42,
   "id": "ce290465",
   "metadata": {},
   "outputs": [],
   "source": [
    "from sklearn import model_selection"
   ]
  },
  {
   "cell_type": "code",
   "execution_count": 43,
   "id": "c8f4fd54",
   "metadata": {},
   "outputs": [],
   "source": [
    "import itertools"
   ]
  },
  {
   "cell_type": "code",
   "execution_count": 44,
   "id": "5e929408",
   "metadata": {},
   "outputs": [],
   "source": [
    "df =  pd.read_csv('df_clean.csv')"
   ]
  },
  {
   "cell_type": "code",
   "execution_count": 45,
   "id": "bd61dbe1",
   "metadata": {},
   "outputs": [
    {
     "data": {
      "text/plain": [
       "Label                object\n",
       "Size                 object\n",
       "Overall_fit          object\n",
       "Rented_for           object\n",
       "Size_usually_worn    object\n",
       "Height                int64\n",
       "Age                   int64\n",
       "Bust_size            object\n",
       "Body_type            object\n",
       "Weight                int64\n",
       "Rating                int64\n",
       "Brand                object\n",
       "Dress_Description    object\n",
       "Retail_price          int64\n",
       "Rent_price            int64\n",
       "Number_of_reviews     int64\n",
       "Sleeves              object\n",
       "Neckline             object\n",
       "Dress_Style          object\n",
       "dtype: object"
      ]
     },
     "execution_count": 45,
     "metadata": {},
     "output_type": "execute_result"
    }
   ],
   "source": [
    "df.dtypes"
   ]
  },
  {
   "cell_type": "code",
   "execution_count": 46,
   "id": "4132f6fe",
   "metadata": {},
   "outputs": [
    {
     "data": {
      "text/plain": [
       "5    0.598433\n",
       "4    0.232948\n",
       "3    0.098390\n",
       "2    0.040305\n",
       "1    0.029924\n",
       "Name: Rating, dtype: float64"
      ]
     },
     "execution_count": 46,
     "metadata": {},
     "output_type": "execute_result"
    }
   ],
   "source": [
    "df[\"Rating\"].value_counts(normalize=True)"
   ]
  },
  {
   "cell_type": "code",
   "execution_count": 47,
   "id": "5e390c8c",
   "metadata": {},
   "outputs": [],
   "source": [
    "#Binarize the Predictor Variable: Satisfaction Rating \n",
    "# 1: Not Satisfied with Rental (Satisfaction Rating of 1,2,3) \n",
    "# 0: Satisfied with Rental (Satisfaction Rating 4,5)\n",
    "\n",
    "df['Rating'] = np.where(df['Rating'] <= 3, 1, 0)\n"
   ]
  },
  {
   "cell_type": "code",
   "execution_count": 48,
   "id": "0b38995d",
   "metadata": {},
   "outputs": [
    {
     "data": {
      "text/plain": [
       "0    0.831381\n",
       "1    0.168619\n",
       "Name: Rating, dtype: float64"
      ]
     },
     "execution_count": 48,
     "metadata": {},
     "output_type": "execute_result"
    }
   ],
   "source": [
    "#We are dealing with an unbalanced class. \n",
    "df[\"Rating\"].value_counts(normalize=True)"
   ]
  },
  {
   "cell_type": "code",
   "execution_count": 49,
   "id": "835c8009",
   "metadata": {},
   "outputs": [],
   "source": [
    "#Create a target variable vector. \n",
    "y = df.Rating.values"
   ]
  },
  {
   "cell_type": "code",
   "execution_count": 50,
   "id": "8902f93e",
   "metadata": {},
   "outputs": [],
   "source": [
    "#initiate the kfold class from model_selection module\n",
    "#The folds are made by preserving the percentage of samples for each class.\n",
    "kf = model_selection.StratifiedKFold(n_splits=5)"
   ]
  },
  {
   "cell_type": "code",
   "execution_count": 51,
   "id": "03f10429",
   "metadata": {},
   "outputs": [],
   "source": [
    "#Create a column to hold kfold labels \n",
    "df[\"kfold\"] = -1"
   ]
  },
  {
   "cell_type": "code",
   "execution_count": 52,
   "id": "0241148f",
   "metadata": {},
   "outputs": [],
   "source": [
    "#Reshuffle the rows. \n",
    "df = df.sample(frac=1).reset_index(drop=True)"
   ]
  },
  {
   "cell_type": "code",
   "execution_count": 53,
   "id": "36146cce",
   "metadata": {},
   "outputs": [],
   "source": [
    "for f, (t_,v_) in enumerate(kf.split(X=df,y=y)):\n",
    "    df.loc[v_,\"kfold\"] = f"
   ]
  },
  {
   "cell_type": "code",
   "execution_count": 54,
   "id": "a00e0a4d",
   "metadata": {},
   "outputs": [
    {
     "data": {
      "text/plain": [
       "0    30404\n",
       "1    30404\n",
       "2    30403\n",
       "3    30403\n",
       "4    30403\n",
       "Name: kfold, dtype: int64"
      ]
     },
     "execution_count": 54,
     "metadata": {},
     "output_type": "execute_result"
    }
   ],
   "source": [
    "#Check that the same number of observations is in each fold. \n",
    "df.kfold.value_counts()"
   ]
  },
  {
   "cell_type": "code",
   "execution_count": 55,
   "id": "62ac1d4a",
   "metadata": {},
   "outputs": [
    {
     "name": "stdout",
     "output_type": "stream",
     "text": [
      "fold: k = 0\n",
      "0    0.835548\n",
      "1    0.164452\n",
      "Name: Rating, dtype: float64\n",
      "fold: k = 1\n",
      "0    0.829562\n",
      "1    0.170438\n",
      "Name: Rating, dtype: float64\n",
      "fold: k = 2\n",
      "0    0.829523\n",
      "1    0.170477\n",
      "Name: Rating, dtype: float64\n",
      "fold: k = 3\n",
      "0    0.830609\n",
      "1    0.169391\n",
      "Name: Rating, dtype: float64\n",
      "fold: k = 4\n",
      "0    0.831661\n",
      "1    0.168339\n",
      "Name: Rating, dtype: float64\n"
     ]
    }
   ],
   "source": [
    "#Check that the target variable has the same distribution  the same in each fold. \n",
    "for k in range(5):\n",
    "    print(f\"fold: k = {k}\")\n",
    "    print(df[df.kfold==k].Rating.value_counts(normalize=True))\n",
    "    "
   ]
  },
  {
   "cell_type": "code",
   "execution_count": 56,
   "id": "f7e069fa",
   "metadata": {},
   "outputs": [],
   "source": [
    "#Create a set of features \n",
    "df.drop(columns=[\"Brand\",\"Dress_Description\"],inplace=True)"
   ]
  },
  {
   "cell_type": "code",
   "execution_count": 57,
   "id": "273e5658",
   "metadata": {},
   "outputs": [],
   "source": [
    "df.dropna(inplace=True)"
   ]
  },
  {
   "cell_type": "code",
   "execution_count": 24,
   "id": "4a31c28b",
   "metadata": {},
   "outputs": [],
   "source": [
    "#Export as an excel file \n",
    "#df.to_csv('df_with_k_folds.csv', header=True, index=False)"
   ]
  },
  {
   "cell_type": "code",
   "execution_count": 25,
   "id": "9e12a6aa",
   "metadata": {},
   "outputs": [],
   "source": [
    "#df =  pd.read_csv('df_with_k_folds.csv')"
   ]
  },
  {
   "cell_type": "code",
   "execution_count": 61,
   "id": "6a947aa2",
   "metadata": {},
   "outputs": [],
   "source": []
  },
  {
   "cell_type": "code",
   "execution_count": null,
   "id": "79f1f10e",
   "metadata": {},
   "outputs": [],
   "source": [
    "features = [f for f in df.columns if f not in (\"Height\",\"Age\",\"Weight\",\"Retail_price\",\"Rent_price\",\"Number_of_reviews\",\"kfold\", \"Rating\")]"
   ]
  },
  {
   "cell_type": "code",
   "execution_count": 66,
   "id": "39b714cb",
   "metadata": {},
   "outputs": [],
   "source": []
  },
  {
   "cell_type": "code",
   "execution_count": 67,
   "id": "8424bd64",
   "metadata": {},
   "outputs": [
    {
     "name": "stdout",
     "output_type": "stream",
     "text": [
      "Fold = 0, AUC = 0.8040345264815908\n"
     ]
    }
   ],
   "source": [
    "neural_network_model(0)"
   ]
  },
  {
   "cell_type": "code",
   "execution_count": null,
   "id": "e22ab213",
   "metadata": {},
   "outputs": [],
   "source": []
  },
  {
   "cell_type": "code",
   "execution_count": null,
   "id": "9d60fd6b",
   "metadata": {},
   "outputs": [],
   "source": []
  },
  {
   "cell_type": "code",
   "execution_count": null,
   "id": "81014e43",
   "metadata": {},
   "outputs": [],
   "source": []
  },
  {
   "cell_type": "code",
   "execution_count": null,
   "id": "79aa018d",
   "metadata": {},
   "outputs": [],
   "source": []
  },
  {
   "cell_type": "code",
   "execution_count": null,
   "id": "2ec31a38",
   "metadata": {},
   "outputs": [],
   "source": []
  },
  {
   "cell_type": "code",
   "execution_count": null,
   "id": "bd02c64a",
   "metadata": {},
   "outputs": [],
   "source": []
  },
  {
   "cell_type": "code",
   "execution_count": null,
   "id": "00815391",
   "metadata": {},
   "outputs": [],
   "source": []
  },
  {
   "cell_type": "code",
   "execution_count": 26,
   "id": "04bb6630",
   "metadata": {},
   "outputs": [],
   "source": [
    "def model(fold):\n",
    "    df =  pd.read_csv('df_with_k_folds.csv')\n",
    "    #list of numeric columns \n",
    "    num_cols = [\"Height\",\"Age\",\"Weight\",\"Retail_price\",\"Rent_price\",\"Number_of_reviews\"]\n",
    "    #List of categorical columns \n",
    "    cat_cols = [c for c in df.columns if c not in num_cols and c not in (\"kfold\", \"Rating\")]\n",
    "    #All columns are features except the target column and the kfold column \n",
    "    features = [f for f in df.columns if f not in ('kfold',\"Rating\")]\n",
    "    #Convert all the categorical columns to strings. \n",
    "    for col in features:\n",
    "     # do not encode the numerical columns\n",
    "        if col not in num_cols:\n",
    "            df.loc[:, col] = df[col].astype(str)\n",
    "    #Label Encode the Cateogrical Features \n",
    "    for col in features:\n",
    "        if col not in num_cols:\n",
    "     # initialize LabelEncoder for each feature column\n",
    "            lbl = preprocessing.LabelEncoder()\n",
    "     # fit label encoder on all data\n",
    "            lbl.fit(df[col])\n",
    "     # transform all the data\n",
    "            df.loc[:, col] = lbl.transform(df[col])\n",
    "    #These is the training data comprised of 4 out of 5 folds. \n",
    "    df_train = df[df.kfold != fold].reset_index(drop=True)\n",
    "    #This is the validation data comprised of 1 out of 5 folds. \n",
    "    df_valid = df[df.kfold == fold].reset_index(drop=True)\n",
    "    \n",
    "    x_train = df_train[features].values\n",
    "    x_valid = df_valid[features].values\n",
    "    \n",
    "    #Initialize XGBoost \n",
    "    model = xgb.XGBClassifier(random_state=42,\n",
    "                          max_depth=7,\n",
    "                          n_jobs=-1)\n",
    "    \n",
    "    #Fit Model on the training data \n",
    "    model.fit(x_train, df_train.Rating.values)\n",
    "    #Predict the Validation Data\n",
    "    valid_preds = model.predict_proba(x_valid)[:, 1]\n",
    "    #Get the ROC AUC Score \n",
    "    auc = metrics.roc_auc_score(df_valid.Rating.values, valid_preds)\n",
    "    accuracy = metrics.accuracy_score(df_valid.Rating.values, model.predict(x_valid))\n",
    "    precision = metrics.precision_score(df_valid.Rating.values, model.predict(x_valid))\n",
    "    recall= metrics.recall_score(df_valid.Rating.values, model.predict(x_valid))\n",
    "    #Ouput the Result\n",
    "    print(f\"Fold = {fold}, AUC = {auc}, Accuracy = {accuracy}, Recall = {recall}, Precision = {precision}\")"
   ]
  },
  {
   "cell_type": "code",
   "execution_count": null,
   "id": "412429b4",
   "metadata": {},
   "outputs": [],
   "source": []
  }
 ],
 "metadata": {
  "kernelspec": {
   "display_name": "Python 3 (ipykernel)",
   "language": "python",
   "name": "python3"
  },
  "language_info": {
   "codemirror_mode": {
    "name": "ipython",
    "version": 3
   },
   "file_extension": ".py",
   "mimetype": "text/x-python",
   "name": "python",
   "nbconvert_exporter": "python",
   "pygments_lexer": "ipython3",
   "version": "3.9.11"
  }
 },
 "nbformat": 4,
 "nbformat_minor": 5
}
