{
 "cells": [
  {
   "cell_type": "markdown",
   "id": "bfcd88a2",
   "metadata": {},
   "source": [
    "\n",
    "# Predicting Customer Satisfaction on Rent the Runway\n",
    "\n",
    "##  II. Data Cleaning for Garment Data \n",
    "### Katrin Ayrapetov\n",
    "\n",
    "\n",
    "<font style=\"font-size: 2rem; color: blue\">\n",
    "\n",
    "\n",
    " \n",
    "</font>"
   ]
  },
  {
   "cell_type": "markdown",
   "id": "65928128",
   "metadata": {},
   "source": [
    "### Overview of the Notebook: \n",
    "\n",
    "Data was scraped from the website Rent_the_Runway. There is a total of  208,747 observations. In the notebook, I_Data_Cleaning_Customer_Information, features describing the customer were cleaned. The new data set has 161,418 features. \n",
    "\n",
    "In this notebook, features describing the dress will be cleaned. \n",
    "\n",
    "**Features describing the customer:**  Nickname, Type_of_customer, Size of the garment customer rented, Size the customer usually wears, Height, Age, Bust Size, Body Type, Weight, Date the customer rented the garment, Reason the garment was rented, Overall fit of the garment  \n",
    "\n",
    "**Features describing the dress:** Retail Price of the garment, Rent price of the garment, Product Details, Number of Reviews left for that Garment \n",
    "\n",
    "In this notebook, the features describing the dress will be cleaned.  \n",
    "* The Retail price of the dress, the Rent price of dress, the number of reviews left for the dress will be stripped off extra symbols and just turned into an integer. \n",
    "* The product description will be broken up into three additional features: Sleeves, Neckline and Dress Style. \n",
    "* For example:\n",
    "<br> &emsp;&emsp; **Product Detail:** 'Blue printed cotton (69% Cotton, 27% Nylon, 4% Spandex). Hourglass. Sleeveless. Square neckline. 45\" from shoulder to hemline.' <br>\n",
    "becomes \n",
    "<br> &emsp;&emsp; **New Features:** \n",
    "<br> &emsp;&emsp; **Sleeves:** Sleeveless, \n",
    "<br>&emsp;&emsp; **Neckline:** Square Neckline, \n",
    "<br>&emsp;&emsp; **Dress_Style:** Hourglass \n",
    "* At the end of the garment data cleaning, the data set has: 156,433 observations. "
   ]
  },
  {
   "cell_type": "code",
   "execution_count": 635,
   "id": "1bb83611",
   "metadata": {},
   "outputs": [],
   "source": [
    "#Import the libraries needed\n",
    "import pandas as pd\n",
    "import re\n",
    "pd.set_option(\"display.max_columns\",None)\n",
    "pd.set_option(\"display.max_rows\",None)"
   ]
  },
  {
   "cell_type": "code",
   "execution_count": 636,
   "id": "33801aee",
   "metadata": {},
   "outputs": [],
   "source": [
    "#Import the Data Set \n",
    "df =  pd.read_csv('../Data/df_customer_data_cleaned.csv')"
   ]
  },
  {
   "cell_type": "code",
   "execution_count": 637,
   "id": "30fbf384",
   "metadata": {},
   "outputs": [
    {
     "data": {
      "text/plain": [
       "(151499, 21)"
      ]
     },
     "execution_count": 637,
     "metadata": {},
     "output_type": "execute_result"
    }
   ],
   "source": [
    "df.shape"
   ]
  },
  {
   "cell_type": "code",
   "execution_count": 638,
   "id": "2554a1fc",
   "metadata": {},
   "outputs": [],
   "source": [
    "df = df.drop_duplicates(subset='Dress_Description', keep='first')\n",
    "df = df.reset_index()\n",
    "df.drop(columns=[\"index\"],inplace=True)"
   ]
  },
  {
   "cell_type": "code",
   "execution_count": 639,
   "id": "73f92f3d",
   "metadata": {},
   "outputs": [],
   "source": [
    "maternity_index = []\n",
    "for i in range(df.shape[0]):\n",
    "    if \"maternity\" in df['Dress_Description'][i]:\n",
    "        maternity_index.append(i)\n",
    "df = df.drop(labels=maternity_index, axis=0)\n",
    "df = df.reset_index()\n",
    "df.drop(columns=[\"index\"],inplace=True)"
   ]
  },
  {
   "cell_type": "code",
   "execution_count": 640,
   "id": "da69d635",
   "metadata": {},
   "outputs": [],
   "source": [
    "#Fix Typos in the Product Detail \n",
    "# Hit the hand entries here. \n",
    "df['Product_details'] = df['Product_details'].str.lower()\n",
    "df[\"Product_details\"]=df[\"Product_details\"].replace(\"sleeve slit\",\"\", regex=True)\n",
    "df[\"Product_details\"]=df[\"Product_details\"].replace(\"sleees\",\"sleeves\", regex=True)\n",
    "df[\"Product_details\"]=df[\"Product_details\"].replace(\"sleves\",\"sleeves\", regex=True)\n",
    "df[\"Product_details\"]=df[\"Product_details\"].replace(\"necline\",\"neckline\", regex=True)\n",
    "df[\"Product_details\"]=df[\"Product_details\"].replace(\"slevees\",\"sleeves\", regex=True)\n",
    "df[\"Product_details\"]=df[\"Product_details\"].replace(\"shoudler\",\"shoulder\", regex=True)\n",
    "df[\"Product_details\"]=df[\"Product_details\"].replace(\"sleevleess\",\"sleeveless\", regex=True)\n",
    "df[\"Product_details\"]=df[\"Product_details\"].replace(\"sleevess\",\"sleeveless\", regex=True)\n",
    "df[\"Product_details\"]=df[\"Product_details\"].replace(\"sleevelss\",\"sleeveless\", regex=True)\n",
    "df[\"Product_details\"]=df[\"Product_details\"].replace(\"sleevless\",\"sleeveless\", regex=True)\n",
    "df[\"Product_details\"]=df[\"Product_details\"].replace(\"recycled\",\"\", regex=True)\n",
    "df[\"Product_details\"]=df[\"Product_details\"].replace(\"organic \",\"\", regex=True)\n",
    "df[\"Product_details\"]=df[\"Product_details\"].replace(\"merino \",\"\", regex=True)\n",
    "df[\"Product_details\"]=df[\"Product_details\"].replace(\"virgin \",\"\", regex=True)\n",
    "df[\"Product_details\"]=df[\"Product_details\"].replace(\"metallic fibers\",\"metallic_fibers\", regex=True)\n",
    "df[\"Product_details\"]=df[\"Product_details\"].replace(\"metallic fiber\",\"metallic_fibers\", regex=True)\n",
    "df[\"Product_details\"]=df[\"Product_details\"].replace(\"metallic thread\",\"metallic_fibers\", regex=True)\n",
    "df[\"Product_details\"]=df[\"Product_details\"].replace(\"metallic threads\",\"metallic_fibers\", regex=True)\n",
    "df[\"Product_details\"]=df[\"Product_details\"].replace(\"tencel modal\",\"tencel_modal\", regex=True)\n",
    "df[\"Product_details\"]=df[\"Product_details\"].replace(\"other fibers\",\"other_fibers\", regex=True)\n",
    "df[\"Product_details\"]=df[\"Product_details\"].replace(\"bci\",\"\", regex=True)\n",
    "df[\"Product_details\"]=df[\"Product_details\"].replace(\"sustainable \",\"\", regex=True)\n",
    "df[\"Product_details\"]=df[\"Product_details\"].replace(\"extrafine\",\"\", regex=True)\n",
    "df[\"Product_details\"]=df[\"Product_details\"].replace(\"mettalized fiber\",\"metallic_fibers\", regex=True)\n",
    "df[\"Product_details\"]=df[\"Product_details\"].replace(\"elite\",\"\", regex=True)\n",
    "df[\"Product_details\"]=df[\"Product_details\"].replace(\"alpaca\",\"\", regex=True)\n",
    "df[\"Product_details\"]=df[\"Product_details\"].replace(\"other fibers\",\"metallic_fibers\", regex=True)\n",
    "df[\"Product_details\"]=df[\"Product_details\"].replace(\"recycled \",\"\", regex=True)\n",
    "df[\"Product_details\"]=df[\"Product_details\"].replace(\"cady\",\"\", regex=True)\n",
    "df[\"Product_details\"]=df[\"Product_details\"].replace(\"french\",\"\", regex=True)\n",
    "df[\"Product_details\"]=df[\"Product_details\"].replace(\"995% polyester\",\"(95% polyester\", regex=True)"
   ]
  },
  {
   "cell_type": "code",
   "execution_count": 641,
   "id": "664ae729",
   "metadata": {},
   "outputs": [],
   "source": [
    "product_correction_df =  pd.read_csv('../Data/product_details_correction_df.csv')"
   ]
  },
  {
   "cell_type": "code",
   "execution_count": 642,
   "id": "08133cf3",
   "metadata": {},
   "outputs": [],
   "source": [
    "for i in range(product_correction_df.shape[0]):\n",
    "    num = df[df['Dress_Description'] ==product_correction_df[\"dress\"][i]].index[0]\n",
    "    df.at[num, \"Product_details\"] = product_correction_df[\"details\"][i]"
   ]
  },
  {
   "cell_type": "code",
   "execution_count": 643,
   "id": "076a1160",
   "metadata": {},
   "outputs": [],
   "source": [
    "for i in range(df.shape[0]):\n",
    "    if \"opening ceremony\" in df[\"Brand\"][i] and \"novelty rib knit dress\" in df[\"Dress_Description\"][i]:\n",
    "         df.at[i, \"Product_details\"] = \"black knit (40% wool, 33% viscose, 27% nylon). sheath. long sleeves. crew neckline, 46 from shoulder to hemline. imported.\"\n",
    "    if \"badgley mischka\" in df[\"Brand\"][i] and \"rosalind peplum gown\" in df[\"Dress_Description\"][i]:\n",
    "         df.at[i, \"Product_details\"] = \"black stretch crepe (98% polyester, 2% spandex). strapless. sweetheart neckline. 58\"\n",
    "    if \"parker\" in df[\"Brand\"][i] and \"black rory dress\" in df[\"Dress_Description\"][i]:\n",
    "         df.at[i, \"Product_details\"] = 'black crepe (89% polyester, 11% elastane). cap sleeves. 35 '\n",
    "    if \"area stars\" in df[\"Brand\"][i] and \"grey tia dress\" in df[\"Dress_Description\"][i]:\n",
    "         df.at[i, \"Product_details\"] = 'grey and white cotton(100% cotton). hourglass. long sleeves. v-neckline. 33\" from shoulder to hemline. imported.'\n",
    "    if \"hervé léger\" in df[\"Brand\"][i] and \"cutout gown\" in df[\"Dress_Description\"][i]:   \n",
    "         df.at[i, \"Product_details\"] = 'brown knit (22% viscose, 22% nylon, 3% spandex). sheath. halter neck. sleeveless.  49\" from shoulder to hemline. '\n",
    "    if \"area stars\" in df[\"Brand\"][i] and \"grey tia dress\" in df[\"Dress_Description\"][i]:    \n",
    "        df.at[i, \"Product_details\"] = \"embroidery details (100% cotton). hourglass. long sleeves. v-neckline. 33 from\"\n",
    "    if \"j.crew\" in df[\"Brand\"][i] and \"pink turtleneck dress\" in df[\"Dress_Description\"][i]:     \n",
    "        df.at[i, \"Product_details\"] = \"pink knit (56% nylon, 30% wool, 4% spandex). shift. long sleeves. high neck. 43 shoulder\"\n",
    "    if \"goen. j\" in df[\"Brand\"][i] and \"vegas python printed dress\" in df[\"Dress_Description\"][i]:\n",
    "        df.at[i, \"Product_details\"] = \"python printed chiffon (100% polyester). shift. sleeveless. v-neckline. hidden back zipper closure.  40 from\"\n",
    "    if \"badgley mischka\" in df[\"Brand\"][i] and \"ivy gown\" in df[\"Dress_Description\"][i]:\n",
    "        df.at[i, \"Product_details\"] ='green . (100% polyester, 97% polyester, 3% spandex). sleeveless. crew neckline. 61'\n",
    "    if \"ml monique lhuillier\" in df[\"Brand\"][i] and \"ruffle skirt day dress\" in df[\"Dress_Description\"][i]:\n",
    "        df.at[i, \"Product_details\"] ='cayenne multi woven (100% viscose). blouson. three quarter sleeves. crew neckline. 44\" from shoulder to hemline. imported.'\n"
   ]
  },
  {
   "cell_type": "markdown",
   "id": "10b527ce",
   "metadata": {},
   "source": [
    "#### Fabrics "
   ]
  },
  {
   "cell_type": "code",
   "execution_count": 644,
   "id": "b7db0d17",
   "metadata": {},
   "outputs": [],
   "source": [
    "#Create a column for things that are inside the parentheses\n",
    "df[\"Fabric\"] = \"unknown\"\n",
    "df[\"Fabric\"] = df[\"Fabric\"].astype('object')\n",
    "for i in range(df.shape[0]):\n",
    "    s = df[\"Product_details\"][i]\n",
    "    result = re.findall('\\\\(.*?\\\\)', s)\n",
    "    df.at[i, 'Fabric'] = result\n",
    "    for item in result:\n",
    "           s = s.replace(item,\"\")\n",
    "    df.at[i, 'Product_details'] = s   \n"
   ]
  },
  {
   "cell_type": "code",
   "execution_count": 645,
   "id": "62680115",
   "metadata": {},
   "outputs": [],
   "source": [
    "for i in range(df.shape[0]):\n",
    "    if len(df[\"Fabric\"][i])>0:\n",
    "        df.at[i, \"Fabric\"] = df[\"Fabric\"][i][0].replace(\")\",\"\").replace(\"(\",\"\")\n",
    "    else:\n",
    "        df.at[i, \"Fabric\"] = \"unknown\""
   ]
  },
  {
   "cell_type": "code",
   "execution_count": 646,
   "id": "ba92c4ca",
   "metadata": {},
   "outputs": [],
   "source": [
    "Missing_Fabric =  pd.read_csv('../Data/Missing_Fabric.csv')\n",
    "Missing_Fabric['dress'] = Missing_Fabric['dress'].str.lower()\n",
    "for i in range(Missing_Fabric.shape[0]):\n",
    "    num = df[df['Dress_Description'] == Missing_Fabric[\"dress\"][i]].index[0]\n",
    "    df.at[num, \"Fabric\"] = Missing_Fabric[\"fabric\"][i]"
   ]
  },
  {
   "cell_type": "code",
   "execution_count": 647,
   "id": "3780f8d8",
   "metadata": {},
   "outputs": [],
   "source": [
    "Missing_Fabric_2 =  pd.read_csv('../Data/Missing_Fabric_2.csv')\n",
    "for i in range(Missing_Fabric_2.shape[0]):\n",
    "    num = df[df['Dress_Description'] == Missing_Fabric_2[\"dress\"][i]].index[0]\n",
    "    df.at[num, \"Fabric\"] = Missing_Fabric_2[\"fabrics\"][i]"
   ]
  },
  {
   "cell_type": "code",
   "execution_count": 648,
   "id": "0a3325a7",
   "metadata": {},
   "outputs": [
    {
     "data": {
      "text/plain": [
       "'56% nylon, 30% wool, 4% spandex'"
      ]
     },
     "execution_count": 648,
     "metadata": {},
     "output_type": "execute_result"
    }
   ],
   "source": [
    "df[\"Fabric\"][4547]"
   ]
  },
  {
   "cell_type": "code",
   "execution_count": 649,
   "id": "20ef19b2",
   "metadata": {},
   "outputs": [],
   "source": [
    "df[\"Fabric\"]=df[\"Fabric\"].replace(\"%\",\" \", regex=True).replace(\",\",\"\",regex=True).replace(\";\",\"\",regex=True).replace(\";\",\"\",regex=True).replace(\"elastane;\",\"\",regex=True)\n",
    "for i in range(df.shape[0]):\n",
    "    df.at[i, \"Fabric\"] = df[\"Fabric\"][i].split()"
   ]
  },
  {
   "cell_type": "code",
   "execution_count": 650,
   "id": "bcfb5732",
   "metadata": {},
   "outputs": [],
   "source": [
    "for i in range(df.shape[0]):\n",
    "    df.at[i,\"Fabric\"] = df[\"Fabric\"][i][:6]"
   ]
  },
  {
   "cell_type": "code",
   "execution_count": 651,
   "id": "df0d0d6b",
   "metadata": {},
   "outputs": [],
   "source": [
    "df_fabrics =  pd.read_csv('../Data/fabrics.csv')"
   ]
  },
  {
   "cell_type": "code",
   "execution_count": 652,
   "id": "3377c3c9",
   "metadata": {},
   "outputs": [],
   "source": [
    "df_fabrics =  pd.read_csv('../Data/fabrics.csv')\n",
    "current_fabrics = list(df_fabrics[\"Fabric\"])\n",
    "edited_fabrics = list(df_fabrics[\"Translate\"])\n",
    "dict_of_fabrics = {k:v for k,v in zip(current_fabrics,edited_fabrics)}\n",
    "\n",
    "for i in range(df.shape[0]):\n",
    "    df.at[i,\"Fabric\"] = \" \".join(df[\"Fabric\"][i])\n",
    "for i in range(df.shape[0]):\n",
    "    res = \" \".join(dict_of_fabrics.get(ele, ele) for ele in df[\"Fabric\"][i].split())\n",
    "    df.at[i,\"Fabric\"] = str(res)"
   ]
  },
  {
   "cell_type": "code",
   "execution_count": 653,
   "id": "2e5b0294",
   "metadata": {},
   "outputs": [],
   "source": [
    "# Create a column for each fabric type in the dictionary. \n",
    "fabrics_columns = list(set(edited_fabrics))\n",
    "for fabric in fabrics_columns:\n",
    "    df[fabric] = 0\n",
    "    df[fabric] = df[fabric].astype('int')\n",
    "for i in range(df.shape[0]):\n",
    "    df.at[i,\"Fabric\"] = df[\"Fabric\"][i].split()\n",
    "for i in range(df.shape[0]):\n",
    "    if len(df[\"Fabric\"][i])==2:\n",
    "        df.at[i,df[\"Fabric\"][i][1]] = int(df[\"Fabric\"][i][0])\n",
    "    elif len(df[\"Fabric\"][i])==4:\n",
    "        df.at[i,df[\"Fabric\"][i][1]] = int(df[\"Fabric\"][i][0]) \n",
    "        df.at[i,df[\"Fabric\"][i][3]] = int(df[\"Fabric\"][i][2])\n",
    "    elif len(df[\"Fabric\"][i])==6:\n",
    "        df.at[i,df[\"Fabric\"][i][1]] = int(df[\"Fabric\"][i][0]) \n",
    "        df.at[i,df[\"Fabric\"][i][3]] = int(df[\"Fabric\"][i][2]) \n",
    "        df.at[i,df[\"Fabric\"][i][5]] = int(df[\"Fabric\"][i][4])"
   ]
  },
  {
   "cell_type": "code",
   "execution_count": 654,
   "id": "e762e66f",
   "metadata": {},
   "outputs": [],
   "source": [
    "df[\"Length\"] = \"unknown\"\n",
    "df[\"Length\"] = df[\"Length\"].astype('object')\n",
    "for i in range(df.shape[0]):\n",
    "    s = df[\"Product_details\"][i]\n",
    "    result = re.findall(r'\\d+', s)\n",
    "    if len(result)>0:\n",
    "        df.at[i, 'Length'] = int(result[0])"
   ]
  },
  {
   "cell_type": "code",
   "execution_count": 655,
   "id": "a50272c6",
   "metadata": {},
   "outputs": [],
   "source": [
    "df['Brand'] = df['Brand'].str.lower()"
   ]
  },
  {
   "cell_type": "code",
   "execution_count": 656,
   "id": "f31fc2f2",
   "metadata": {},
   "outputs": [],
   "source": [
    "#Fill in values without product descriptions by hand. \n",
    "for i in range(df.shape[0]):\n",
    "    if \"victor alfaro collective\" in df[\"Brand\"][i] and \"tea length shirtdress\" in df[\"Dress_Description\"][i]:\n",
    "         df.at[i, \"Product_details\"] = \"Shirtdress. three_quarter_sleeves. shirt_collar_neckline\"\n",
    "    if \"nicole miller\" in df[\"Brand\"][i] and \"velvet mini dress\" in df[\"Dress_Description\"][i]:       \n",
    "        df.at[i, \"Product_details\"] = \"sheath. high neckline. long sleeves\"\n",
    "    if \"adam lippes collective\" in df[\"Brand\"][i] and \"birds of prey dress\" in df[\"Dress_Description\"][i]:       \n",
    "        df.at[i, \"Product_details\"] = \"hourglass.crew neckline. short sleeves\"\n",
    "    if \"area stars\" in df[\"Brand\"][i] and \"lara leopard print dress\" in df[\"Dress_Description\"][i]:       \n",
    "        df.at[i, \"Product_details\"] = \"maxi.v-neckline. short sleeves\"\n",
    "    if \"tibi\" in df[\"Brand\"][i] and \"rolled sleeve shirtdress\" in df[\"Dress_Description\"][i]:       \n",
    "        df.at[i, \"Product_details\"] = \"shirt dress. collared neckline.  short sleeves\" \n",
    "    if \"jonathan simkhai\" in df[\"Brand\"][i] and \"lucy cutout midi dress\" in df[\"Dress_Description\"][i]:       \n",
    "        df.at[i, \"Product_details\"] = \"sheath. straight neckling. sleeveless\"   \n",
    "    if \"allsaints\" in df[\"Brand\"][i] and \"juela dress\" in df[\"Dress_Description\"][i]:       \n",
    "        df.at[i, \"Product_details\"] = \"shift dress. mock neck. long sleeves.\"   \n",
    "    if \"allsaints\" in df[\"Brand\"][i] and \"rosetta tinsel dress\" in df[\"Dress_Description\"][i]:       \n",
    "        df.at[i, \"Product_details\"] = \"maxi. crew neck. long sleeves.\"     \n",
    "    if \"tibi\" in df[\"Brand\"][i] and \"serpentine tank dress\" in df[\"Dress_Description\"][i]:\n",
    "         df.at[i, \"Product_details\"] = \" Sheath. sleeveless. crew neck.\"\n",
    "    if \"marchesa notte\" in df[\"Brand\"][i] and \"off the shoulder corset gown\" in df[\"Dress_Description\"][i]:\n",
    "         df.at[i, \"Product_details\"] = \" gown. sleeveless. off_shoulder. \" \n",
    "    if \"fifteen twenty\" in df[\"Brand\"][i] and \"green handkerchief hem dress\" in df[\"Dress_Description\"][i]:\n",
    "         df.at[i, \"Product_details\"] = \"Hourglass. sleeveless. Shift. V-neckline.\"\n",
    "    if \"elliatt\" in df[\"Brand\"][i] and \"paige sequin mesh dress\" in df[\"Dress_Description\"][i]:\n",
    "         df.at[i, \"Product_details\"] = \"sheath. sleeveless. Square neckline.\"\n",
    "    if \"badgley mischka\" in df[\"Brand\"][i] and \"butterfly belted gown\" in df[\"Dress_Description\"][i]:\n",
    "         df.at[i, \"Product_details\"] = \"gown. sleeveless. v-neck.\"\n",
    "    if \"rejina pyo\" in df[\"Brand\"][i] and \"astrid trench dress\" in df[\"Dress_Description\"][i]:\n",
    "         df.at[i, \"Product_details\"] = \"wrap. sleeveless. collared neckline.\"\n",
    "    if \"aidan aidan mattox\" in df[\"Brand\"][i] and \"floral print satin midi dress\" in df[\"Dress_Description\"][i]: \n",
    "        df.at[i, \"Product_details\"] = \"sleeveless. hourglass. square neck.\"\n",
    "    if \"hugo boss\" in df[\"Brand\"][i] and \"dalissa dress\" in df[\"Dress_Description\"][i]:\n",
    "        df.at[i, \"Product_details\"] = \"short_sleeves. hourglass.  v-neckline.\"\n",
    "    if \"allsaints\" in df[\"Brand\"][i] and \"lilliana kettu dress\" in df[\"Dress_Description\"][i]:\n",
    "        df.at[i, \"Product_details\"] = \"hourglass. short_sleeves. Hourglass. v-neckline.\"\n",
    "    if \"shoshanna\" in df[\"Brand\"][i] and \"catalaya sequin dress\" in df[\"Dress_Description\"][i]:\n",
    "        df.at[i, \"Product_details\"] = \"Sheath. sleeveless. off the shoulder.\"\n",
    "    if \"bardot\" in df[\"Brand\"][i] and \"beckett sequin dress\" in df[\"Dress_Description\"][i]:\n",
    "        df.at[i, \"Product_details\"] = \"Sheath. sleeveless. scoop neck.\"\n",
    "    if \"officine générale\" in df[\"Brand\"][i] and \"camo bonnie dress\"in df[\"Dress_Description\"][i]:\n",
    "        df.at[i, \"Product_details\"] = \"Shirtdress. Long sleeves. Shirt collar neckline.\"\n",
    "    if \"badgley mischka\" in df[\"Brand\"][i] and \"glitz gown\" in df[\"Dress_Description\"][i]:\n",
    "        df.at[i, \"Product_details\"] = \"gown. V-neckline. sleeveless.\"\n",
    "    if \"badgley mischka\" in df[\"Brand\"][i] and \"midnight glamour dress\" in df[\"Dress_Description\"][i]:\n",
    "        df.at[i, \"Product_details\"] = \"hourglass. Sleeveless. V neckline.\"\n",
    "    if \"aijek\" in df[\"Brand\"][i] and \"rylee lace toga dress\" in df[\"Dress_Description\"][i]:\n",
    "        df.at[i, \"Product_details\"] = \"Hourglass. One shoulder neckline. Sleeveless.\"\n",
    "    if \"mark & james by badgley mischka\" in df[\"Brand\"][i] and \"dancing til daylight dress\" in df[\"Dress_Description\"][i]:\n",
    "        df.at[i, \"Product_details\"] = \"Hourglass. Sleeveless. V neckline.\"\n",
    "    if \"slate & willow\" in df[\"Brand\"][i] and \"corey wrap dress\" in df[\"Dress_Description\"][i]:\n",
    "        df.at[i, \"Product_details\"] = \"Wrap dress. Long sleeves. V-neckline.\"\n",
    "    if \"badgley mischka\" in df[\"Brand\"][i] and \"miss mysterious gown\" in df[\"Dress_Description\"][i]:\n",
    "        df.at[i, \"Product_details\"] = \"gown. sleeveless. one shoulder\"\n",
    "    if \"badgley mischka\" in df[\"Brand\"][i] and \"sequin garden dress\" in df[\"Dress_Description\"][i]:\n",
    "        df.at[i, \"Product_details\"] = \"hourglass. sleeveless. V neckline\"\n",
    "    if \"parker\" in df[\"Brand\"][i] and \"clarisa dress\" in df[\"Dress_Description\"][i]:\n",
    "        df.at[i, \"Product_details\"] = \"hourglass. sleeveless. One shoulder.\"\n",
    "    if \"badgley mischka\" in df[\"Brand\"][i] and \"draped in gold dress\" in df[\"Dress_Description\"][i]:\n",
    "        df.at[i, \"Product_details\"] = \"hourglass. sleeveless. V neckline\"\n",
    "df['Product_details'] = df['Product_details'].str.lower()"
   ]
  },
  {
   "cell_type": "code",
   "execution_count": 657,
   "id": "8a7ce681",
   "metadata": {},
   "outputs": [],
   "source": [
    "#Break up the garment description into a list and call it \"Details\". \n",
    "df[\"Details\"] = \"unknown\" \n",
    "df[\"Details\"] = df[\"Details\"].astype('object')\n",
    "for i in range(df.shape[0]):\n",
    "    x = df[\"Product_details\"][i].split(\". \")\n",
    "    df.at[i, 'Details'] = x"
   ]
  },
  {
   "cell_type": "code",
   "execution_count": 658,
   "id": "c029bc18",
   "metadata": {},
   "outputs": [],
   "source": [
    "df[\"Sleeves\"] = \"unknown\"\n",
    "df[\"Sleeves\"] = df[\"Sleeves\"].astype('object')"
   ]
  },
  {
   "cell_type": "code",
   "execution_count": 659,
   "id": "a89eb8f1",
   "metadata": {},
   "outputs": [],
   "source": [
    "for i in range(df.shape[0]):\n",
    "     for k in reversed(range(len(df[\"Details\"][i]))):\n",
    "        if \"sleeveless\" in df[\"Details\"][i][k]:\n",
    "            df.at[i, \"Sleeves\"] = \"sleeveless\"\n",
    "        elif \"quarter\" in df[\"Details\"][i][k] or \"3/4\" in df[\"Details\"][i][k] or \"¾\" in df[\"Details\"][i][k] or \"elbow\" in df[\"Details\"][i][k]:\n",
    "            df.at[i, \"Sleeves\"] = \"three_quarter_sleeves\"\n",
    "        elif \"short\" in df[\"Details\"][i][k] and \"sleeve\" in df[\"Details\"][i][k]:\n",
    "            df.at[i, \"Sleeves\"] = \"short_sleeves\"\n",
    "        elif \"long\" in df[\"Details\"][i][k] and \"sleeve\" in df[\"Details\"][i][k]:\n",
    "            df.at[i, \"Sleeves\"] = \"long_sleeves\"\n",
    "        elif \"cap\" in df[\"Details\"][i][k] and \"sleeve\" in df[\"Details\"][i][k]:\n",
    "            df.at[i, \"Sleeves\"] = \"cap_sleeves\"\n",
    "        elif \"flutter\" in df[\"Details\"][i][k] and \"sleeve\" in df[\"Details\"][i][k]:\n",
    "            df.at[i, \"Sleeves\"] = \"cap_sleeves\"\n",
    "        elif \"three\" in df[\"Details\"][i][k] and \"sleeve\" in df[\"Details\"][i][k]:\n",
    "            df.at[i, \"Sleeves\"] = \"three_quarter_sleeves\"  \n",
    "        elif \"strapless\" in df[\"Details\"][i][k]:\n",
    "            df.at[i, \"Sleeves\"] = \"strapless\"  \n",
    "        elif \"halter\" in df[\"Details\"][i][k]:\n",
    "            df.at[i, \"Sleeves\"] = \"halter\" \n",
    "        elif \"convertible\" in df[\"Details\"][i][k]:\n",
    "            df.at[i, \"Sleeves\"] = \"sleeveless\"\n",
    "        elif \"one shoulder\" in df[\"Details\"][i][k]:\n",
    "            df.at[i, \"Sleeves\"] = \"sleeveless\"\n",
    "        elif \"white cotton with eyelet\" in df[\"Details\"][i][k]:\n",
    "            df.at[i, \"Sleeves\"] = \"sleeveless\""
   ]
  },
  {
   "cell_type": "code",
   "execution_count": 660,
   "id": "67e5ace8",
   "metadata": {},
   "outputs": [],
   "source": [
    "df[\"Neckline\"] = \"unknown\"\n",
    "df[\"Neckline\"] = df[\"Neckline\"].astype('object')"
   ]
  },
  {
   "cell_type": "code",
   "execution_count": 661,
   "id": "433baae7",
   "metadata": {},
   "outputs": [],
   "source": [
    "for i in range(df.shape[0]):\n",
    "     for k in reversed(range(len(df[\"Details\"][i]))):\n",
    "        if \"neck\" in df[\"Details\"][i][k] and \"v\" in df[\"Details\"][i][k]:\n",
    "            df.at[i, \"Neckline\"] = \"v_neckline\"\n",
    "        elif \"sweetheart\" in df[\"Details\"][i][k]:\n",
    "            df.at[i, \"Neckline\"] = \"sweetheart_neckline\"\n",
    "        elif \"scoop\" in df[\"Details\"][i][k]:\n",
    "            df.at[i, \"Neckline\"] = \"scoop_neckline\"\n",
    "        elif \"turtle\" in df[\"Details\"][i][k]:\n",
    "            df.at[i, \"Neckline\"] = \"turtleneck\"  \n",
    "        elif \"mock\" in df[\"Details\"][i][k]:\n",
    "            df.at[i, \"Neckline\"] = \"turtleneck\" \n",
    "        elif \"surplice\" in df[\"Details\"][i][k]:\n",
    "            df.at[i, \"Neckline\"] = \"v_neckline\" \n",
    "        elif \"straight\" in df[\"Details\"][i][k] and \"neck\" in df[\"Details\"][i][k]:\n",
    "            df.at[i, \"Neckline\"] = \"straight_neckline\"    \n",
    "        elif \"strapless\" in df[\"Details\"][i][k]:\n",
    "            df.at[i, \"Neckline\"] = \"straight_neckline\"    \n",
    "        elif \"crew\" in df[\"Details\"][i][k]:\n",
    "            df.at[i, \"Neckline\"] = \"crew_neckline\"\n",
    "        elif \"halter\" in df[\"Details\"][i][k]:\n",
    "            df.at[i, \"Neckline\"] = \"halter\"\n",
    "        elif \"high\" in df[\"Details\"][i][k] and \"neck\" in df[\"Details\"][i][k]:\n",
    "            df.at[i, \"Neckline\"] = \"high_neckline\"\n",
    "        elif \"asymmetric\" in df[\"Details\"][i][k] and \"neck\" in df[\"Details\"][i][k]:\n",
    "            df.at[i, \"Neckline\"] = \"assymetric_neckline\"\n",
    "        elif \"one\" in df[\"Details\"][i][k] and \"shoulder\" in df[\"Details\"][i][k]:\n",
    "            df.at[i, \"Neckline\"] = \"one_shoulder\"\n",
    "        elif \"boat\" in df[\"Details\"][i][k]:\n",
    "            df.at[i, \"Neckline\"] = \"boat_neckline\"\n",
    "        elif \"cowl\" in df[\"Details\"][i][k]:\n",
    "            df.at[i, \"Neckline\"] = \"cowl_neckline\" \n",
    "        elif \"square\" in df[\"Details\"][i][k]:\n",
    "            df.at[i, \"Neckline\"] = \"square_neckline\" \n",
    "        elif \"shirt\" in df[\"Details\"][i][k] or \"collar\" in df[\"Details\"][i][k]:\n",
    "            df.at[i, \"Neckline\"] = \"shirt_collar_neckline\" \n",
    "        elif \"off\" in df[\"Details\"][i][k] and \"shoulder\" in df[\"Details\"][i][k]:\n",
    "            df.at[i, \"Neckline\"] = \"off_shoulder_neckline\" \n",
    "        elif \"boat\" in df[\"Details\"][i][k]:\n",
    "            df.at[i, \"Neckline\"] = \"boat_neckline\" \n",
    "        elif \"scoop\" in df[\"Details\"][i][k]:\n",
    "            df.at[i, \"Neckline\"] = \"scoop_neckline\" \n",
    "        elif \"plunge\" in df[\"Details\"][i][k]:\n",
    "            df.at[i, \"Neckline\"] = \"plunge_neckline\"     \n"
   ]
  },
  {
   "cell_type": "code",
   "execution_count": 662,
   "id": "e6f2af67",
   "metadata": {},
   "outputs": [],
   "source": [
    "Missing_Desc =  pd.read_csv('../Data/missing_description.csv')\n",
    "for i in range(Missing_Desc.shape[0]):\n",
    "    num = df[df['Dress_Description'] == Missing_Desc[\"dress\"][i]].index[0]\n",
    "    df.at[num, \"Neckline\"] = Missing_Desc[\"neck\"][i]\n",
    "    df.at[num, \"Sleeves\"] = Missing_Desc[\"sleeves\"][i]"
   ]
  },
  {
   "cell_type": "code",
   "execution_count": 663,
   "id": "6041145c",
   "metadata": {},
   "outputs": [
    {
     "data": {
      "text/plain": [
       "Index(['Type_of_Customer', 'Size', 'Overall_fit', 'Rented_for',\n",
       "       'Size_usually_worn', 'Height', 'Age', 'Bust_size', 'Body_type',\n",
       "       'Weight', 'Rating', 'Date', 'Brand', 'Dress_Description',\n",
       "       'Retail_price', 'Rent_price', 'Product_details', 'Number_of_reviews',\n",
       "       'Band_Size', 'Cup_Size', 'BMI', 'Fabric', 'cotton', 'nylon',\n",
       "       'cellulose', 'silk', 'spandex', 'tencel', 'rayon', 'linen', 'cashmere',\n",
       "       'wool', 'leather', 'polyester', 'metallic_fibers', 'Length', 'Details',\n",
       "       'Sleeves', 'Neckline'],\n",
       "      dtype='object')"
      ]
     },
     "execution_count": 663,
     "metadata": {},
     "output_type": "execute_result"
    }
   ],
   "source": [
    "df.columns"
   ]
  },
  {
   "cell_type": "code",
   "execution_count": 664,
   "id": "951d98c7",
   "metadata": {},
   "outputs": [
    {
     "data": {
      "text/plain": [
       "sleeveless               2503\n",
       "long_sleeves             1534\n",
       "short_sleeves            1506\n",
       "three_quarter_sleeves     495\n",
       "cap_sleeves               405\n",
       "strapless                 132\n",
       "halter                     36\n",
       "Name: Sleeves, dtype: int64"
      ]
     },
     "execution_count": 664,
     "metadata": {},
     "output_type": "execute_result"
    }
   ],
   "source": [
    "df.Sleeves.value_counts()"
   ]
  },
  {
   "cell_type": "code",
   "execution_count": 665,
   "id": "5d61fe44",
   "metadata": {},
   "outputs": [
    {
     "data": {
      "text/plain": [
       "v_neckline               2295\n",
       "crew_neckline            1589\n",
       "square_neckline           444\n",
       "high_neckline             418\n",
       "shirt_collar_neckline     295\n",
       "scoop_neckline            244\n",
       "sweetheart_neckline       206\n",
       "boat_neckline             203\n",
       "halter                    192\n",
       "one_shoulder              187\n",
       "off_shoulder_neckline     181\n",
       "turtleneck                162\n",
       "straight_neckline         138\n",
       "cowl_neckline              41\n",
       "assymetric_neckline        10\n",
       "plunge_neckline             6\n",
       "Name: Neckline, dtype: int64"
      ]
     },
     "execution_count": 665,
     "metadata": {},
     "output_type": "execute_result"
    }
   ],
   "source": [
    "df.Neckline.value_counts()"
   ]
  },
  {
   "cell_type": "code",
   "execution_count": 668,
   "id": "51387b95",
   "metadata": {},
   "outputs": [
    {
     "data": {
      "text/plain": [
       "Type_of_Customer      object\n",
       "Size                  object\n",
       "Overall_fit           object\n",
       "Rented_for            object\n",
       "Size_usually_worn     object\n",
       "Height                 int64\n",
       "Age                    int64\n",
       "Bust_size             object\n",
       "Body_type             object\n",
       "Weight                 int64\n",
       "Rating                 int64\n",
       "Date                  object\n",
       "Brand                 object\n",
       "Dress_Description     object\n",
       "Retail_price           int64\n",
       "Rent_price             int64\n",
       "Product_details       object\n",
       "Number_of_reviews      int64\n",
       "Band_Size            float64\n",
       "Cup_Size              object\n",
       "BMI                  float64\n",
       "Fabric                object\n",
       "cotton                object\n",
       "nylon                 object\n",
       "cellulose             object\n",
       "silk                  object\n",
       "spandex               object\n",
       "tencel                object\n",
       "rayon                 object\n",
       "linen                 object\n",
       "cashmere              object\n",
       "wool                  object\n",
       "leather               object\n",
       "polyester             object\n",
       "metallic_fibers       object\n",
       "Length                object\n",
       "Details               object\n",
       "Sleeves               object\n",
       "Neckline              object\n",
       "dtype: object"
      ]
     },
     "execution_count": 668,
     "metadata": {},
     "output_type": "execute_result"
    }
   ],
   "source": [
    "df.dtypes"
   ]
  },
  {
   "cell_type": "code",
   "execution_count": 703,
   "id": "9a6e474b",
   "metadata": {},
   "outputs": [],
   "source": [
    "for i in range(df.shape[0]):\n",
    "    if df[\"Length\"][i] == \"unknown\" and \"mini\" in df[\"Dress_Description\"][i]:\n",
    "        df.at[i,\"Length\"] = \"mini\"\n",
    "    elif df[\"Length\"][i] == \"unknown\" and \"midi\" in df[\"Dress_Description\"]:\n",
    "        df.at[i,\"Length\"] = \"midi\"\n",
    "    elif df[\"Length\"][i] == \"unknown\" and \"maxi\" in df[\"Dress_Description\"]:\n",
    "        df.at[i,\"Length\"] = \"maxi\"\n",
    "    elif df[\"Length\"][i] == \"unknown\" and \"gown\" in df[\"Dress_Description\"]:\n",
    "        df.at[i,\"Length\"] = \"maxi\""
   ]
  },
  {
   "cell_type": "code",
   "execution_count": null,
   "id": "782ee317",
   "metadata": {},
   "outputs": [],
   "source": []
  },
  {
   "cell_type": "code",
   "execution_count": null,
   "id": "944fc82d",
   "metadata": {},
   "outputs": [],
   "source": []
  },
  {
   "cell_type": "code",
   "execution_count": 20,
   "id": "f34fb6ff",
   "metadata": {},
   "outputs": [],
   "source": [
    "df.drop(columns=['Type_of_Customer', 'Size', 'Overall_fit', 'Rented_for',\n",
    "       'Size_usually_worn', 'Height', 'Age', 'Bust_size', 'Body_type',\n",
    "       'Weight', 'Rating', 'Date','Retail_price', 'Rent_price','Band_Size', 'Cup_Size', 'BMI',\"Details\"],inplace=True)"
   ]
  },
  {
   "cell_type": "code",
   "execution_count": 21,
   "id": "1cebfd34",
   "metadata": {},
   "outputs": [
    {
     "data": {
      "text/html": [
       "<div>\n",
       "<style scoped>\n",
       "    .dataframe tbody tr th:only-of-type {\n",
       "        vertical-align: middle;\n",
       "    }\n",
       "\n",
       "    .dataframe tbody tr th {\n",
       "        vertical-align: top;\n",
       "    }\n",
       "\n",
       "    .dataframe thead th {\n",
       "        text-align: right;\n",
       "    }\n",
       "</style>\n",
       "<table border=\"1\" class=\"dataframe\">\n",
       "  <thead>\n",
       "    <tr style=\"text-align: right;\">\n",
       "      <th></th>\n",
       "      <th>Brand</th>\n",
       "      <th>Dress_Description</th>\n",
       "      <th>Product_details</th>\n",
       "      <th>Number_of_reviews</th>\n",
       "      <th>Fabric</th>\n",
       "      <th>Length</th>\n",
       "      <th>Sleeves</th>\n",
       "      <th>Neckline</th>\n",
       "    </tr>\n",
       "  </thead>\n",
       "  <tbody>\n",
       "    <tr>\n",
       "      <th>0</th>\n",
       "      <td>Tory Burch</td>\n",
       "      <td>painted roses smocked dress</td>\n",
       "      <td>blue printed cotton . hourglass. sleeveless. s...</td>\n",
       "      <td>33</td>\n",
       "      <td>[69, cotton, 27, nylon, 4, spandex]</td>\n",
       "      <td>45</td>\n",
       "      <td>sleeveless</td>\n",
       "      <td>square_neckline</td>\n",
       "    </tr>\n",
       "    <tr>\n",
       "      <th>1</th>\n",
       "      <td>Tanya Taylor</td>\n",
       "      <td>printed claudia dress</td>\n",
       "      <td>white striped cotton . empire. sleeveless. sco...</td>\n",
       "      <td>97</td>\n",
       "      <td>[98, cotton, 2, polyurethane]</td>\n",
       "      <td>48</td>\n",
       "      <td>sleeveless</td>\n",
       "      <td>scoop_neckline</td>\n",
       "    </tr>\n",
       "    <tr>\n",
       "      <th>2</th>\n",
       "      <td>Warm</td>\n",
       "      <td>wax poetic garden dress</td>\n",
       "      <td>red printed cotton . shift. long sleeves. crew...</td>\n",
       "      <td>83</td>\n",
       "      <td>[100, cotton]</td>\n",
       "      <td>unknown</td>\n",
       "      <td>long_sleeves</td>\n",
       "      <td>crew_neckline</td>\n",
       "    </tr>\n",
       "    <tr>\n",
       "      <th>3</th>\n",
       "      <td>FARM Rio</td>\n",
       "      <td>macaw mix maxi</td>\n",
       "      <td>red floral printed crepe . maxi. short sleeves...</td>\n",
       "      <td>142</td>\n",
       "      <td>[100, viscose]</td>\n",
       "      <td>54</td>\n",
       "      <td>short_sleeves</td>\n",
       "      <td>v_neckline</td>\n",
       "    </tr>\n",
       "    <tr>\n",
       "      <th>4</th>\n",
       "      <td>Peter Som Collective</td>\n",
       "      <td>chambray midi dress</td>\n",
       "      <td>blue chambray . shirt dress. short sleeve. shi...</td>\n",
       "      <td>59</td>\n",
       "      <td>[55, cotton, 45, rayon]</td>\n",
       "      <td>unknown</td>\n",
       "      <td>short_sleeves</td>\n",
       "      <td>shirt_collar_neckline</td>\n",
       "    </tr>\n",
       "  </tbody>\n",
       "</table>\n",
       "</div>"
      ],
      "text/plain": [
       "                  Brand            Dress_Description  \\\n",
       "0            Tory Burch  painted roses smocked dress   \n",
       "1          Tanya Taylor        printed claudia dress   \n",
       "2                  Warm      wax poetic garden dress   \n",
       "3              FARM Rio               macaw mix maxi   \n",
       "4  Peter Som Collective          chambray midi dress   \n",
       "\n",
       "                                     Product_details  Number_of_reviews  \\\n",
       "0  blue printed cotton . hourglass. sleeveless. s...                 33   \n",
       "1  white striped cotton . empire. sleeveless. sco...                 97   \n",
       "2  red printed cotton . shift. long sleeves. crew...                 83   \n",
       "3  red floral printed crepe . maxi. short sleeves...                142   \n",
       "4  blue chambray . shirt dress. short sleeve. shi...                 59   \n",
       "\n",
       "                                Fabric   Length        Sleeves  \\\n",
       "0  [69, cotton, 27, nylon, 4, spandex]       45     sleeveless   \n",
       "1        [98, cotton, 2, polyurethane]       48     sleeveless   \n",
       "2                        [100, cotton]  unknown   long_sleeves   \n",
       "3                       [100, viscose]       54  short_sleeves   \n",
       "4              [55, cotton, 45, rayon]  unknown  short_sleeves   \n",
       "\n",
       "                Neckline  \n",
       "0        square_neckline  \n",
       "1         scoop_neckline  \n",
       "2          crew_neckline  \n",
       "3             v_neckline  \n",
       "4  shirt_collar_neckline  "
      ]
     },
     "execution_count": 21,
     "metadata": {},
     "output_type": "execute_result"
    }
   ],
   "source": [
    "df.head()"
   ]
  },
  {
   "cell_type": "code",
   "execution_count": 22,
   "id": "b104dde6",
   "metadata": {},
   "outputs": [],
   "source": [
    "\n"
   ]
  },
  {
   "cell_type": "code",
   "execution_count": 23,
   "id": "a849292d",
   "metadata": {},
   "outputs": [],
   "source": []
  },
  {
   "cell_type": "code",
   "execution_count": 24,
   "id": "56918be8",
   "metadata": {},
   "outputs": [],
   "source": []
  },
  {
   "cell_type": "code",
   "execution_count": 25,
   "id": "e9cd5a0b",
   "metadata": {},
   "outputs": [],
   "source": []
  },
  {
   "cell_type": "code",
   "execution_count": 26,
   "id": "104c3ae7",
   "metadata": {},
   "outputs": [],
   "source": []
  },
  {
   "cell_type": "code",
   "execution_count": 29,
   "id": "f804ceab",
   "metadata": {},
   "outputs": [],
   "source": []
  },
  {
   "cell_type": "code",
   "execution_count": null,
   "id": "0d89c44b",
   "metadata": {},
   "outputs": [],
   "source": []
  },
  {
   "cell_type": "code",
   "execution_count": 683,
   "id": "29cc2b88",
   "metadata": {},
   "outputs": [],
   "source": [
    "#Export as an excel file \n",
    "df.to_csv('../Data/df_clean_dresses.csv', header=True, index=False)"
   ]
  },
  {
   "cell_type": "markdown",
   "id": "f401a20d",
   "metadata": {},
   "source": [
    "### Summary of this notebook: "
   ]
  },
  {
   "cell_type": "markdown",
   "id": "cdfcf3e1",
   "metadata": {},
   "source": [
    "#### In the next notebook, EDA, some visualizations are presented to get a better idea of the feature distributions. "
   ]
  }
 ],
 "metadata": {
  "kernelspec": {
   "display_name": "Python 3 (ipykernel)",
   "language": "python",
   "name": "python3"
  },
  "language_info": {
   "codemirror_mode": {
    "name": "ipython",
    "version": 3
   },
   "file_extension": ".py",
   "mimetype": "text/x-python",
   "name": "python",
   "nbconvert_exporter": "python",
   "pygments_lexer": "ipython3",
   "version": "3.9.11"
  }
 },
 "nbformat": 4,
 "nbformat_minor": 5
}
