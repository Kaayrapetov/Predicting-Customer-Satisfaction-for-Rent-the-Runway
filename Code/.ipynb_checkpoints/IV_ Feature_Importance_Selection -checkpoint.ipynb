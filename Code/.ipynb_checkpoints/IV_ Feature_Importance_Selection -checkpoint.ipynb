{
 "cells": [
  {
   "cell_type": "markdown",
   "id": "15864e0b",
   "metadata": {},
   "source": [
    "\n",
    "\n",
    "# Predicting Customer Satisfaction on Rent the Runway\n",
    "\n",
    "##  IV. Feature Importance Selection\n",
    "\n",
    "### Katrin Ayrapetov\n",
    "\n",
    "\n",
    "<font style=\"font-size: 2rem; color: blue\">\n",
    "\n",
    "\n",
    " \n",
    "</font>"
   ]
  },
  {
   "cell_type": "markdown",
   "id": "1f0fe7e1",
   "metadata": {},
   "source": [
    "### Overview of the Notebook: \n",
    "\n",
    "In this notebook, Chi Squared Test and ADA boost were used to select most important features. Then the two lists were joined. \n",
    "\n",
    "**According to the Chi Squared Test, the most important features are:**  \n",
    "\n",
    "\n",
    "<br>&emsp;&emsp;Feature 1 is Type_of_Customer\n",
    "<br>&emsp;&emsp;Feature 2 is Size\n",
    "<br>&emsp;&emsp;Feature 3 is Overall_fit\n",
    "<br>&emsp;&emsp;Feature 4 is Age\n",
    "<br>&emsp;&emsp;Feature 5 is Weight\n",
    "<br>&emsp;&emsp;Feature 6 is Date\n",
    "<br>&emsp;&emsp;Feature 7 is Brand\n",
    "<br>&emsp;&emsp;Feature 8 is Number_of_reviews\n",
    "<br>&emsp;&emsp;Feature 9 is BMI\n",
    "<br>&emsp;&emsp;Feature 10 is Neckline\n",
    "\n",
    "\n",
    "**According to ADA Boost, the most important features are:**  \n",
    "\n",
    "<br>&emsp;&emsp;Feature 1 is Size\n",
    "<br>&emsp;&emsp;Feature 2 is Overall_fit\n",
    "<br>&emsp;&emsp;Feature 3 is Number_of_reviews\n",
    "<br>&emsp;&emsp;Feature 4 is Type_of_Customer\n",
    "<br>&emsp;&emsp;Feature 5 is Rented_for\n",
    "<br>&emsp;&emsp;Feature 6 is Age\n",
    "<br>&emsp;&emsp;Feature 7 is Dress_Style\n",
    "<br>&emsp;&emsp;Feature 8 is Neckline\n",
    "<br>&emsp;&emsp;Feature 9 is Weight\n",
    "<br>&emsp;&emsp;Feature 10 is BMI\n",
    "\n",
    "**According to both tests, the most important features are: **  \n",
    "\n",
    "<br>&emsp;&emsp;Feature 1 is Size\n",
    "<br>&emsp;&emsp;Feature 2 is Neckline\n",
    "<br>&emsp;&emsp;Feature 3 is BMI\n",
    "<br>&emsp;&emsp;Feature 4 is Dress_Style\n",
    "<br>&emsp;&emsp;Feature 5 is Type_of_Customer\n",
    "<br>&emsp;&emsp;Feature 6 is Weight\n",
    "<br>&emsp;&emsp;Feature 7 is Date\n",
    "<br>&emsp;&emsp;Feature 8 is Number_of_reviews\n",
    "<br>&emsp;&emsp;Feature 9 is Rented_for\n",
    "<br>&emsp;&emsp;Feature 10 is Brand\n",
    "<br>&emsp;&emsp;Feature 11 is Age\n",
    "<br>&emsp;&emsp;Feature 12 is Overall_fit"
   ]
  },
  {
   "cell_type": "code",
   "execution_count": 1,
   "id": "b9d1793f",
   "metadata": {},
   "outputs": [],
   "source": [
    "import pandas as pd\n",
    "import numpy as np\n",
    "from sklearn.preprocessing import LabelEncoder\n",
    "from sklearn import preprocessing\n",
    "from sklearn.feature_selection import SelectKBest, chi2\n",
    "from sklearn.feature_selection import SelectFromModel\n",
    "from sklearn.preprocessing import StandardScaler\n",
    "from sklearn.ensemble import AdaBoostClassifier\n",
    "import warnings\n",
    "warnings.filterwarnings(\"ignore\")"
   ]
  },
  {
   "cell_type": "code",
   "execution_count": 2,
   "id": "f4408ba5",
   "metadata": {},
   "outputs": [],
   "source": [
    "import itertools\n",
    "from sklearn import model_selection\n",
    "from collections import Counter\n",
    "from sklearn.datasets import make_classification\n",
    "from imblearn.over_sampling import RandomOverSampler"
   ]
  },
  {
   "cell_type": "code",
   "execution_count": 3,
   "id": "d0d96f01",
   "metadata": {},
   "outputs": [],
   "source": [
    "df =  pd.read_csv('../Data/df_clean.csv')"
   ]
  },
  {
   "cell_type": "code",
   "execution_count": 4,
   "id": "31efada8",
   "metadata": {},
   "outputs": [],
   "source": [
    "df.drop(columns=[\"Retail_price\"],inplace=True)"
   ]
  },
  {
   "cell_type": "code",
   "execution_count": 5,
   "id": "b37d9c84",
   "metadata": {},
   "outputs": [],
   "source": [
    "# Use label encoder to encode the categorical features. \n",
    "lencoders = {}\n",
    "for col in df.select_dtypes(include=['object']).columns:\n",
    "    lencoders[col] = LabelEncoder()\n",
    "    df[col] = lencoders[col].fit_transform(df[col])"
   ]
  },
  {
   "cell_type": "code",
   "execution_count": 6,
   "id": "bbd521cd",
   "metadata": {},
   "outputs": [],
   "source": [
    "#Use r_scaler to scale all data data. \n",
    "r_scaler = preprocessing.MinMaxScaler()\n",
    "r_scaler.fit(df)\n",
    "modified_data = pd.DataFrame(r_scaler.transform(df), columns=df.columns)\n"
   ]
  },
  {
   "cell_type": "markdown",
   "id": "fb5d5ec9",
   "metadata": {},
   "source": [
    "### Select top ten features using the Chi Square "
   ]
  },
  {
   "cell_type": "code",
   "execution_count": 8,
   "id": "a5722bbe",
   "metadata": {},
   "outputs": [],
   "source": [
    "# Break up the data frame into the features and the target variable\n",
    "X = modified_data.loc[:,modified_data.columns!='Rating']\n",
    "y = modified_data[['Rating']]\n"
   ]
  },
  {
   "cell_type": "code",
   "execution_count": 9,
   "id": "e9088433",
   "metadata": {},
   "outputs": [],
   "source": [
    "y=y.astype('int')"
   ]
  },
  {
   "cell_type": "code",
   "execution_count": 11,
   "id": "7eee34fa",
   "metadata": {},
   "outputs": [],
   "source": [
    "#Instantiate the SelectKBest class using Chi Squared Test and top 10 features. \n",
    "selector = SelectKBest(chi2, k=10)"
   ]
  },
  {
   "cell_type": "code",
   "execution_count": 12,
   "id": "a2878b5a",
   "metadata": {},
   "outputs": [
    {
     "data": {
      "text/plain": [
       "SelectKBest(score_func=<function chi2 at 0x0000017DCD0951F0>)"
      ]
     },
     "execution_count": 12,
     "metadata": {},
     "output_type": "execute_result"
    }
   ],
   "source": [
    "#Fit the selector to the data. \n",
    "selector.fit(X, y)"
   ]
  },
  {
   "cell_type": "code",
   "execution_count": 13,
   "id": "d02ee123",
   "metadata": {},
   "outputs": [],
   "source": [
    "#Transform the data using the fitted selector. \n",
    "X_new = selector.transform(X)\n"
   ]
  },
  {
   "cell_type": "code",
   "execution_count": 14,
   "id": "113dd43a",
   "metadata": {},
   "outputs": [
    {
     "name": "stdout",
     "output_type": "stream",
     "text": [
      "Important features using Chi Square\n",
      "Feature 1 is Type_of_Customer\n",
      "Feature 2 is Size\n",
      "Feature 3 is Overall_fit\n",
      "Feature 4 is Age\n",
      "Feature 5 is Weight\n",
      "Feature 6 is Date\n",
      "Feature 7 is Brand\n",
      "Feature 8 is Number_of_reviews\n",
      "Feature 9 is BMI\n",
      "Feature 10 is Neckline\n"
     ]
    }
   ],
   "source": [
    "#Print the important featutures. \n",
    "imp_feat_chi_squared = list(X.columns[selector.get_support(indices=True)])\n",
    "print(\"Important features using Chi Square\")\n",
    "for i in range(10):\n",
    "    print(f\"Feature {i + 1} is {imp_feat_chi_squared[i]}\")"
   ]
  },
  {
   "cell_type": "markdown",
   "id": "7021218b",
   "metadata": {},
   "source": [
    "### Select top ten features using ADA Boost "
   ]
  },
  {
   "cell_type": "markdown",
   "id": "83253fb4",
   "metadata": {},
   "source": [
    "#### Use ADA boost with one stump to select the most important feature, then remove it from the data frame and repeat the process.  Make a list of the top ten important features. "
   ]
  },
  {
   "cell_type": "code",
   "execution_count": 15,
   "id": "22d1d69c",
   "metadata": {},
   "outputs": [],
   "source": [
    "features = ['Type_of_Customer', 'Size', 'Overall_fit', 'Rented_for', 'Size_usually_worn',\n",
    "            'Height', 'Age',\"Weight\", 'Bust_size', 'Body_type',  'Date','Rent_price', 'Number_of_reviews', 'Sleeves', 'Neckline', 'Dress_Style','BMI','Brand']\n",
    "target = ['Rating']\n"
   ]
  },
  {
   "cell_type": "code",
   "execution_count": 16,
   "id": "c44900de",
   "metadata": {},
   "outputs": [],
   "source": [
    "imp_feat_ADA_boost = []"
   ]
  },
  {
   "cell_type": "code",
   "execution_count": 17,
   "id": "61317ca6",
   "metadata": {},
   "outputs": [
    {
     "name": "stdout",
     "output_type": "stream",
     "text": [
      "Feature 1 is Size\n",
      "Feature 2 is Overall_fit\n",
      "Feature 3 is Number_of_reviews\n",
      "Feature 4 is Type_of_Customer\n",
      "Feature 5 is Rented_for\n",
      "Feature 6 is Age\n",
      "Feature 7 is Dress_Style\n",
      "Feature 8 is Neckline\n",
      "Feature 9 is Weight\n",
      "Feature 10 is BMI\n"
     ]
    }
   ],
   "source": [
    "for i in range(10):\n",
    "    X = df[features]\n",
    "    y=df[target]\n",
    "    from sklearn.ensemble import AdaBoostClassifier\n",
    "    model = AdaBoostClassifier(n_estimators=1)\n",
    "    model.fit(X,y)\n",
    "    important_feature = X.columns[model.feature_importances_.argmax()]\n",
    "    print(f\"Feature {i + 1} is {important_feature}\")\n",
    "    features.remove(important_feature)\n",
    "    imp_feat_ADA_boost.append(important_feature)"
   ]
  },
  {
   "cell_type": "code",
   "execution_count": 18,
   "id": "9652a14c",
   "metadata": {},
   "outputs": [],
   "source": [
    "#Join Two lists together and take out repeats. \n",
    "all_important_features = imp_feat_chi_squared + imp_feat_ADA_boost"
   ]
  },
  {
   "cell_type": "code",
   "execution_count": 19,
   "id": "2263f358",
   "metadata": {},
   "outputs": [],
   "source": [
    "all_important_features = list(set(all_important_features))"
   ]
  },
  {
   "cell_type": "code",
   "execution_count": 20,
   "id": "49f15568",
   "metadata": {},
   "outputs": [
    {
     "name": "stdout",
     "output_type": "stream",
     "text": [
      "Important features:\n",
      "Feature 1 is Size\n",
      "Feature 2 is Neckline\n",
      "Feature 3 is BMI\n",
      "Feature 4 is Dress_Style\n",
      "Feature 5 is Type_of_Customer\n",
      "Feature 6 is Weight\n",
      "Feature 7 is Date\n",
      "Feature 8 is Number_of_reviews\n",
      "Feature 9 is Rented_for\n",
      "Feature 10 is Brand\n",
      "Feature 11 is Age\n",
      "Feature 12 is Overall_fit\n"
     ]
    }
   ],
   "source": [
    "print(\"Important features:\")\n",
    "for i in range(len(all_important_features)):\n",
    "    print(f\"Feature {i + 1} is {all_important_features[i]}\")"
   ]
  },
  {
   "cell_type": "code",
   "execution_count": null,
   "id": "0ff7e2f8",
   "metadata": {},
   "outputs": [],
   "source": []
  }
 ],
 "metadata": {
  "kernelspec": {
   "display_name": "Python 3 (ipykernel)",
   "language": "python",
   "name": "python3"
  },
  "language_info": {
   "codemirror_mode": {
    "name": "ipython",
    "version": 3
   },
   "file_extension": ".py",
   "mimetype": "text/x-python",
   "name": "python",
   "nbconvert_exporter": "python",
   "pygments_lexer": "ipython3",
   "version": "3.9.11"
  }
 },
 "nbformat": 4,
 "nbformat_minor": 5
}
