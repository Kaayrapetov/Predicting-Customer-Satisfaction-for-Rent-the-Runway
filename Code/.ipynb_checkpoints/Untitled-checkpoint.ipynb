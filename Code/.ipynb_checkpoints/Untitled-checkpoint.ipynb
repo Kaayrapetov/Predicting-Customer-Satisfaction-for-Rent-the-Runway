{
 "cells": [
  {
   "cell_type": "code",
   "execution_count": 10,
   "id": "bedad7d3",
   "metadata": {},
   "outputs": [],
   "source": [
    "A = [-2,-4,5,3]"
   ]
  },
  {
   "cell_type": "code",
   "execution_count": 5,
   "id": "edc21ffa",
   "metadata": {},
   "outputs": [],
   "source": [
    "from itertools import combinations"
   ]
  },
  {
   "cell_type": "code",
   "execution_count": 11,
   "id": "408503ec",
   "metadata": {},
   "outputs": [],
   "source": [
    "comb = list(combinations(A,3))"
   ]
  },
  {
   "cell_type": "code",
   "execution_count": 12,
   "id": "7d659fcf",
   "metadata": {},
   "outputs": [],
   "source": [
    "prod = [x[0]*x[1]*x[2] for x in comb]"
   ]
  },
  {
   "cell_type": "code",
   "execution_count": 13,
   "id": "6d7961e1",
   "metadata": {},
   "outputs": [
    {
     "data": {
      "text/plain": [
       "40"
      ]
     },
     "execution_count": 13,
     "metadata": {},
     "output_type": "execute_result"
    }
   ],
   "source": [
    "maximum = max(prod)\n",
    "maximum"
   ]
  },
  {
   "cell_type": "code",
   "execution_count": 14,
   "id": "ba6aca36",
   "metadata": {},
   "outputs": [],
   "source": [
    "import heapq"
   ]
  },
  {
   "cell_type": "code",
   "execution_count": 15,
   "id": "5062ff9b",
   "metadata": {},
   "outputs": [],
   "source": [
    "li = [5, 7, 9, 1, 3]"
   ]
  },
  {
   "cell_type": "code",
   "execution_count": 16,
   "id": "78dbc233",
   "metadata": {},
   "outputs": [],
   "source": [
    "heapq.heapify(li)"
   ]
  },
  {
   "cell_type": "code",
   "execution_count": 18,
   "id": "63a5441a",
   "metadata": {},
   "outputs": [],
   "source": [
    "heapq.heappush(li,4)"
   ]
  },
  {
   "cell_type": "code",
   "execution_count": 19,
   "id": "cd67e551",
   "metadata": {},
   "outputs": [
    {
     "data": {
      "text/plain": [
       "[1, 3, 4, 7, 5, 9]"
      ]
     },
     "execution_count": 19,
     "metadata": {},
     "output_type": "execute_result"
    }
   ],
   "source": [
    "li"
   ]
  },
  {
   "cell_type": "code",
   "execution_count": 20,
   "id": "2220982c",
   "metadata": {},
   "outputs": [
    {
     "data": {
      "text/plain": [
       "1"
      ]
     },
     "execution_count": 20,
     "metadata": {},
     "output_type": "execute_result"
    }
   ],
   "source": [
    "heapq.heappop(li)"
   ]
  },
  {
   "cell_type": "code",
   "execution_count": 35,
   "id": "190d0e1c",
   "metadata": {},
   "outputs": [],
   "source": [
    "B = [1,2,3,4,5,6,7,8]\n",
    "B_set = set(B)\n",
    "B_tuple = tuple(B)"
   ]
  },
  {
   "cell_type": "code",
   "execution_count": 36,
   "id": "683c6a0c",
   "metadata": {},
   "outputs": [
    {
     "data": {
      "text/plain": [
       "(1, 2, 3, 4, 5, 6, 7, 8)"
      ]
     },
     "execution_count": 36,
     "metadata": {},
     "output_type": "execute_result"
    }
   ],
   "source": [
    "B_tuple"
   ]
  },
  {
   "cell_type": "code",
   "execution_count": 37,
   "id": "d8efa055",
   "metadata": {},
   "outputs": [
    {
     "data": {
      "text/plain": [
       "[1, 2, 3]"
      ]
     },
     "execution_count": 37,
     "metadata": {},
     "output_type": "execute_result"
    }
   ],
   "source": [
    "b = heapq.nsmallest(3,B_tuple)\n",
    "b"
   ]
  },
  {
   "cell_type": "code",
   "execution_count": 38,
   "id": "cd191c61",
   "metadata": {},
   "outputs": [
    {
     "data": {
      "text/plain": [
       "list"
      ]
     },
     "execution_count": 38,
     "metadata": {},
     "output_type": "execute_result"
    }
   ],
   "source": [
    "type(b)"
   ]
  },
  {
   "cell_type": "code",
   "execution_count": 40,
   "id": "7bc15424",
   "metadata": {},
   "outputs": [],
   "source": [
    "import numpy as np"
   ]
  },
  {
   "cell_type": "code",
   "execution_count": 43,
   "id": "fea3634b",
   "metadata": {},
   "outputs": [],
   "source": [
    "list_of_coordinates= [\n",
    "  [2,-1], [3,2], [4,1], [-1,-1], [-2,2]  \n",
    "]"
   ]
  },
  {
   "cell_type": "code",
   "execution_count": null,
   "id": "b7a1daa3",
   "metadata": {},
   "outputs": [],
   "source": []
  },
  {
   "cell_type": "code",
   "execution_count": 83,
   "id": "b076de21",
   "metadata": {},
   "outputs": [],
   "source": [
    "distances = [x[0]**2+x[1]**2 for x in list_of_coordinates]"
   ]
  },
  {
   "cell_type": "code",
   "execution_count": 84,
   "id": "0b8de6a2",
   "metadata": {},
   "outputs": [
    {
     "data": {
      "text/plain": [
       "[5, 13, 17, 2, 8]"
      ]
     },
     "execution_count": 84,
     "metadata": {},
     "output_type": "execute_result"
    }
   ],
   "source": [
    "distances"
   ]
  },
  {
   "cell_type": "code",
   "execution_count": 56,
   "id": "12c3f358",
   "metadata": {},
   "outputs": [],
   "source": [
    "distances.sort(reverse=True, key=lambda x :x[0])"
   ]
  },
  {
   "cell_type": "code",
   "execution_count": 57,
   "id": "9377d560",
   "metadata": {},
   "outputs": [
    {
     "data": {
      "text/plain": [
       "[(17, [4, 1]), (13, [3, 2]), (8, [-2, 2]), (5, [2, -1]), (2, [-1, -1])]"
      ]
     },
     "execution_count": 57,
     "metadata": {},
     "output_type": "execute_result"
    }
   ],
   "source": [
    "distances"
   ]
  },
  {
   "cell_type": "code",
   "execution_count": 74,
   "id": "72b9bf2a",
   "metadata": {},
   "outputs": [],
   "source": [
    "def k_closest_points(list_of_coordinates,k):\n",
    "    distances = [(x[0]**2+x[1]**2,x) for x in list_of_coordinates]\n",
    "    distances.sort(key=lambda x :x[0])\n",
    "    return [distances[i][1] for i in range(k)]"
   ]
  },
  {
   "cell_type": "code",
   "execution_count": 75,
   "id": "450d00b8",
   "metadata": {},
   "outputs": [],
   "source": [
    "top_3  = k_closest_points(list_of_coordinates,3)"
   ]
  },
  {
   "cell_type": "code",
   "execution_count": 77,
   "id": "76e44a5a",
   "metadata": {},
   "outputs": [],
   "source": [
    "from heapq import heappush, heappop"
   ]
  },
  {
   "cell_type": "code",
   "execution_count": 80,
   "id": "b3cd2a2c",
   "metadata": {},
   "outputs": [],
   "source": [
    "def closest(points,k):\n",
    "    def get_dist(x,y):\n",
    "        return x**2 + y**2\n",
    "    min_heap = []\n",
    "    n = len(points)\n",
    "    for i in range(n):\n",
    "        x=points[i][0]\n",
    "        y=points[i][1]\n",
    "        heappush(min_heap,( get_dist(x,y),points[i] ))\n",
    "    res = []\n",
    "    for i in range(k):\n",
    "        res.append(heappop(min_heap)[1])\n",
    "    return res"
   ]
  },
  {
   "cell_type": "code",
   "execution_count": 81,
   "id": "0f927193",
   "metadata": {},
   "outputs": [],
   "source": [
    "top_3  = closest(list_of_coordinates,3)"
   ]
  },
  {
   "cell_type": "code",
   "execution_count": 82,
   "id": "87d42b49",
   "metadata": {},
   "outputs": [
    {
     "data": {
      "text/plain": [
       "[[-1, -1], [2, -1], [-2, 2]]"
      ]
     },
     "execution_count": 82,
     "metadata": {},
     "output_type": "execute_result"
    }
   ],
   "source": [
    "top_3"
   ]
  },
  {
   "cell_type": "code",
   "execution_count": 99,
   "id": "26799e62",
   "metadata": {},
   "outputs": [],
   "source": [
    "A = [5, 13, 17, 2, 8]\n",
    "list_of_coordinates= [\n",
    "  [2,-1], [3,2], [4,1], [-1,-1], [-2,2]  \n",
    "]"
   ]
  },
  {
   "cell_type": "code",
   "execution_count": 100,
   "id": "e29a95ac",
   "metadata": {},
   "outputs": [],
   "source": [
    "min_heap = []"
   ]
  },
  {
   "cell_type": "code",
   "execution_count": 102,
   "id": "2ffd906c",
   "metadata": {},
   "outputs": [],
   "source": [
    "for i in range(len(A)):\n",
    "    heappush(min_heap,(A[i],list_of_coordinates[i]))"
   ]
  },
  {
   "cell_type": "code",
   "execution_count": 103,
   "id": "871f84d8",
   "metadata": {},
   "outputs": [
    {
     "data": {
      "text/plain": [
       "[(2, [-1, -1]), (5, [2, -1]), (17, [4, 1]), (13, [3, 2]), (8, [-2, 2])]"
      ]
     },
     "execution_count": 103,
     "metadata": {},
     "output_type": "execute_result"
    }
   ],
   "source": [
    "min_heap"
   ]
  },
  {
   "cell_type": "code",
   "execution_count": 104,
   "id": "8e2f9b28",
   "metadata": {},
   "outputs": [
    {
     "data": {
      "text/plain": [
       "(2, [-1, -1])"
      ]
     },
     "execution_count": 104,
     "metadata": {},
     "output_type": "execute_result"
    }
   ],
   "source": [
    "smallest = heappop(min_heap)\n",
    "smallest"
   ]
  },
  {
   "cell_type": "code",
   "execution_count": 98,
   "id": "596e2ac6",
   "metadata": {},
   "outputs": [
    {
     "data": {
      "text/plain": [
       "5"
      ]
     },
     "execution_count": 98,
     "metadata": {},
     "output_type": "execute_result"
    }
   ],
   "source": [
    "heappop(min_heap)"
   ]
  },
  {
   "cell_type": "code",
   "execution_count": 117,
   "id": "61a7eae5",
   "metadata": {},
   "outputs": [],
   "source": [
    "list_of_tuples = [(2, [-1, -1]), (2, [1, 1]), (5, [2, -1]), (17, [4, 1]), (13, [3, 2]), (8, [-2, 2])]"
   ]
  },
  {
   "cell_type": "code",
   "execution_count": 118,
   "id": "8cf8f928",
   "metadata": {},
   "outputs": [],
   "source": [
    "heapq.heapify(list_of_tuples)"
   ]
  },
  {
   "cell_type": "code",
   "execution_count": 119,
   "id": "2ffbbe34",
   "metadata": {},
   "outputs": [],
   "source": [
    "smallest = heappop(list_of_tuples)"
   ]
  },
  {
   "cell_type": "code",
   "execution_count": 120,
   "id": "a3724580",
   "metadata": {},
   "outputs": [
    {
     "data": {
      "text/plain": [
       "(2, [-1, -1])"
      ]
     },
     "execution_count": 120,
     "metadata": {},
     "output_type": "execute_result"
    }
   ],
   "source": [
    "smallest"
   ]
  },
  {
   "cell_type": "code",
   "execution_count": 1,
   "id": "c154bf98",
   "metadata": {},
   "outputs": [],
   "source": [
    "import random"
   ]
  },
  {
   "cell_type": "code",
   "execution_count": 2,
   "id": "b9a8bb85",
   "metadata": {},
   "outputs": [],
   "source": [
    "rows = [random.randrange(1, 50, 1) for i in range(3)]"
   ]
  },
  {
   "cell_type": "code",
   "execution_count": 3,
   "id": "edb95db3",
   "metadata": {},
   "outputs": [
    {
     "data": {
      "text/plain": [
       "[44, 25, 38]"
      ]
     },
     "execution_count": 3,
     "metadata": {},
     "output_type": "execute_result"
    }
   ],
   "source": [
    "rows"
   ]
  },
  {
   "cell_type": "code",
   "execution_count": 27,
   "id": "e0f052a3",
   "metadata": {},
   "outputs": [],
   "source": [
    "matrix = []\n",
    "for k in range(4):\n",
    "    row = [random.randrange(1, 50, 1) for i in range(4)]\n",
    "    row.sort()\n",
    "    matrix.append(row)"
   ]
  },
  {
   "cell_type": "code",
   "execution_count": 66,
   "id": "fe6b0ac5",
   "metadata": {},
   "outputs": [],
   "source": [
    "array = [-1,-3,4,5,6,-10,2,4,10,11]"
   ]
  },
  {
   "cell_type": "code",
   "execution_count": 73,
   "id": "c91fc9de",
   "metadata": {},
   "outputs": [
    {
     "data": {
      "text/plain": [
       "11"
      ]
     },
     "execution_count": 73,
     "metadata": {},
     "output_type": "execute_result"
    }
   ],
   "source": [
    "a = heapq.nlargest(1,array)[0]\n",
    "a"
   ]
  },
  {
   "cell_type": "code",
   "execution_count": 67,
   "id": "ff933c51",
   "metadata": {},
   "outputs": [],
   "source": [
    "from heapq import heappush"
   ]
  },
  {
   "cell_type": "code",
   "execution_count": 70,
   "id": "b7e418a2",
   "metadata": {},
   "outputs": [],
   "source": [
    "import heapq"
   ]
  },
  {
   "cell_type": "code",
   "execution_count": 74,
   "id": "6ec4c1e4",
   "metadata": {},
   "outputs": [],
   "source": [
    "def lar_con_sub(array):\n",
    "    if heapq.nlargest(1,array)[0] >=0:\n",
    "        sum_of_pairs = [array[i] + array[i+1] for i in range(len(array)-1)]\n",
    "        return heapq.nlargest(1,sum_of_pairs)\n",
    "    else:\n",
    "        return 0"
   ]
  },
  {
   "cell_type": "code",
   "execution_count": 76,
   "id": "6c92f745",
   "metadata": {},
   "outputs": [
    {
     "data": {
      "text/plain": [
       "[11]"
      ]
     },
     "execution_count": 76,
     "metadata": {},
     "output_type": "execute_result"
    }
   ],
   "source": [
    "solution = lar_con_sub([-1,-3,5,-4,3,-6,9,2])\n",
    "solution"
   ]
  },
  {
   "cell_type": "code",
   "execution_count": 68,
   "id": "ec429079",
   "metadata": {},
   "outputs": [
    {
     "name": "stdout",
     "output_type": "stream",
     "text": [
      "Steps 0 the pair is (-1, -3) the sum is -4\n",
      "-4\n",
      "Steps 1 the pair is (-3, 4) the sum is 1\n",
      "1\n",
      "Steps 2 the pair is (4, 5) the sum is 9\n",
      "9\n",
      "Steps 3 the pair is (5, 6) the sum is 11\n",
      "11\n",
      "Steps 4 the pair is (6, -10) the sum is -4\n",
      "-4\n",
      "Steps 5 the pair is (-10, 2) the sum is -8\n",
      "-8\n",
      "Steps 6 the pair is (2, 4) the sum is 6\n",
      "6\n",
      "Steps 7 the pair is (4, 10) the sum is 14\n",
      "14\n",
      "Steps 8 the pair is (10, 11) the sum is 21\n",
      "21\n"
     ]
    }
   ],
   "source": [
    "list_sums = []\n",
    "for i in range(len(array)-1):\n",
    "    print(f\"Steps {i} the pair is {(array[i],array[i+1])} the sum is { array[i] + array[i+1] }\")\n",
    "    sum = array[i] + array[i+1]\n",
    "    print(sum)\n",
    "    heappush(list_sums,sum)\n"
   ]
  },
  {
   "cell_type": "code",
   "execution_count": 69,
   "id": "dcfc2169",
   "metadata": {},
   "outputs": [
    {
     "data": {
      "text/plain": [
       "[-8, -4, -4, 11, 1, 9, 6, 14, 21]"
      ]
     },
     "execution_count": 69,
     "metadata": {},
     "output_type": "execute_result"
    }
   ],
   "source": [
    "list_sums"
   ]
  },
  {
   "cell_type": "code",
   "execution_count": null,
   "id": "fa6e44b0",
   "metadata": {},
   "outputs": [],
   "source": []
  }
 ],
 "metadata": {
  "kernelspec": {
   "display_name": "Python 3 (ipykernel)",
   "language": "python",
   "name": "python3"
  },
  "language_info": {
   "codemirror_mode": {
    "name": "ipython",
    "version": 3
   },
   "file_extension": ".py",
   "mimetype": "text/x-python",
   "name": "python",
   "nbconvert_exporter": "python",
   "pygments_lexer": "ipython3",
   "version": "3.9.11"
  }
 },
 "nbformat": 4,
 "nbformat_minor": 5
}
