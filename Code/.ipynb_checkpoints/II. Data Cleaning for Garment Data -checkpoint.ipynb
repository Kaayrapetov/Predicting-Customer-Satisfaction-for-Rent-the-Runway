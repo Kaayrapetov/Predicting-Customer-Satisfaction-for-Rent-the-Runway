{
 "cells": [
  {
   "cell_type": "markdown",
   "id": "bfcd88a2",
   "metadata": {},
   "source": [
    "\n",
    "# Predicting Customer Satisfaction on Rent the Runway\n",
    "\n",
    "##  II. Data Cleaning for Garment Data \n",
    "### Katrin Ayrapetov\n",
    "\n",
    "\n",
    "<font style=\"font-size: 2rem; color: blue\">\n",
    "\n",
    "\n",
    " \n",
    "</font>"
   ]
  },
  {
   "cell_type": "code",
   "execution_count": 1,
   "id": "1bb83611",
   "metadata": {},
   "outputs": [],
   "source": [
    "#Import the libraries needed\n",
    "import pandas as pd\n",
    "import matplotlib.pyplot as plt\n",
    "import re\n",
    "pd.set_option(\"display.max_columns\",None)\n",
    "pd.set_option(\"display.max_rows\",None)"
   ]
  },
  {
   "cell_type": "code",
   "execution_count": 2,
   "id": "4a1f9949",
   "metadata": {},
   "outputs": [],
   "source": [
    "#Create a checklist which will be used to make sure the cleaning is fone correctly. \n",
    "check_list=[1,45,200,1100,6565,7500]"
   ]
  },
  {
   "cell_type": "code",
   "execution_count": 3,
   "id": "33801aee",
   "metadata": {},
   "outputs": [],
   "source": [
    "#Import the Data Set \n",
    "df =  pd.read_csv('../Data/df_customer_data_cleaned.csv')"
   ]
  },
  {
   "cell_type": "code",
   "execution_count": 4,
   "id": "d369f9e3",
   "metadata": {},
   "outputs": [
    {
     "data": {
      "text/html": [
       "<div>\n",
       "<style scoped>\n",
       "    .dataframe tbody tr th:only-of-type {\n",
       "        vertical-align: middle;\n",
       "    }\n",
       "\n",
       "    .dataframe tbody tr th {\n",
       "        vertical-align: top;\n",
       "    }\n",
       "\n",
       "    .dataframe thead th {\n",
       "        text-align: right;\n",
       "    }\n",
       "</style>\n",
       "<table border=\"1\" class=\"dataframe\">\n",
       "  <thead>\n",
       "    <tr style=\"text-align: right;\">\n",
       "      <th></th>\n",
       "      <th>Type_of_Customer</th>\n",
       "      <th>Size</th>\n",
       "      <th>Overall_fit</th>\n",
       "      <th>Rented_for</th>\n",
       "      <th>Size_usually_worn</th>\n",
       "      <th>Height</th>\n",
       "      <th>Age</th>\n",
       "      <th>Bust_size</th>\n",
       "      <th>Body_type</th>\n",
       "      <th>Weight</th>\n",
       "      <th>Rating</th>\n",
       "      <th>Date</th>\n",
       "      <th>Brand</th>\n",
       "      <th>Dress_Description</th>\n",
       "      <th>Retail_price</th>\n",
       "      <th>Rent_price</th>\n",
       "      <th>Product_details</th>\n",
       "      <th>Number_of_reviews</th>\n",
       "      <th>BMI</th>\n",
       "    </tr>\n",
       "  </thead>\n",
       "  <tbody>\n",
       "    <tr>\n",
       "      <th>0</th>\n",
       "      <td>TOP CONTRIBUTOR</td>\n",
       "      <td>S</td>\n",
       "      <td>Overall fit: True to Size</td>\n",
       "      <td>Vacation</td>\n",
       "      <td>8</td>\n",
       "      <td>66</td>\n",
       "      <td>31</td>\n",
       "      <td>34C</td>\n",
       "      <td>athletic</td>\n",
       "      <td>142</td>\n",
       "      <td>5</td>\n",
       "      <td>spring</td>\n",
       "      <td>Tory Burch</td>\n",
       "      <td>Painted Roses Smocked Dress</td>\n",
       "      <td>$478 original retail</td>\n",
       "      <td>$70</td>\n",
       "      <td>Blue printed cotton (69% Cotton, 27% Nylon, 4%...</td>\n",
       "      <td>33 reviews</td>\n",
       "      <td>22.916896</td>\n",
       "    </tr>\n",
       "    <tr>\n",
       "      <th>1</th>\n",
       "      <td>TOP CONTRIBUTOR</td>\n",
       "      <td>M</td>\n",
       "      <td>Overall fit: Large</td>\n",
       "      <td>Wedding</td>\n",
       "      <td>6</td>\n",
       "      <td>67</td>\n",
       "      <td>33</td>\n",
       "      <td>36C</td>\n",
       "      <td>hourglass</td>\n",
       "      <td>150</td>\n",
       "      <td>5</td>\n",
       "      <td>spring</td>\n",
       "      <td>Tory Burch</td>\n",
       "      <td>Painted Roses Smocked Dress</td>\n",
       "      <td>$478 original retail</td>\n",
       "      <td>$70</td>\n",
       "      <td>Blue printed cotton (69% Cotton, 27% Nylon, 4%...</td>\n",
       "      <td>33 reviews</td>\n",
       "      <td>23.490755</td>\n",
       "    </tr>\n",
       "    <tr>\n",
       "      <th>2</th>\n",
       "      <td>TOP CONTRIBUTOR</td>\n",
       "      <td>S</td>\n",
       "      <td>Overall fit: Large</td>\n",
       "      <td>Everyday</td>\n",
       "      <td>6</td>\n",
       "      <td>66</td>\n",
       "      <td>27</td>\n",
       "      <td>34B</td>\n",
       "      <td>pear</td>\n",
       "      <td>140</td>\n",
       "      <td>5</td>\n",
       "      <td>spring</td>\n",
       "      <td>Tory Burch</td>\n",
       "      <td>Painted Roses Smocked Dress</td>\n",
       "      <td>$478 original retail</td>\n",
       "      <td>$70</td>\n",
       "      <td>Blue printed cotton (69% Cotton, 27% Nylon, 4%...</td>\n",
       "      <td>33 reviews</td>\n",
       "      <td>22.594123</td>\n",
       "    </tr>\n",
       "    <tr>\n",
       "      <th>3</th>\n",
       "      <td>TOP CONTRIBUTOR</td>\n",
       "      <td>L</td>\n",
       "      <td>Overall fit: True to Size</td>\n",
       "      <td>unknown</td>\n",
       "      <td>12</td>\n",
       "      <td>66</td>\n",
       "      <td>42</td>\n",
       "      <td>36B</td>\n",
       "      <td>pear</td>\n",
       "      <td>181</td>\n",
       "      <td>5</td>\n",
       "      <td>spring</td>\n",
       "      <td>Tory Burch</td>\n",
       "      <td>Painted Roses Smocked Dress</td>\n",
       "      <td>$478 original retail</td>\n",
       "      <td>$70</td>\n",
       "      <td>Blue printed cotton (69% Cotton, 27% Nylon, 4%...</td>\n",
       "      <td>33 reviews</td>\n",
       "      <td>29.210973</td>\n",
       "    </tr>\n",
       "    <tr>\n",
       "      <th>4</th>\n",
       "      <td>TOP CONTRIBUTOR</td>\n",
       "      <td>L</td>\n",
       "      <td>Overall fit: True to Size</td>\n",
       "      <td>Everyday</td>\n",
       "      <td>12</td>\n",
       "      <td>70</td>\n",
       "      <td>48</td>\n",
       "      <td>34D</td>\n",
       "      <td>pear</td>\n",
       "      <td>165</td>\n",
       "      <td>5</td>\n",
       "      <td>spring</td>\n",
       "      <td>Tory Burch</td>\n",
       "      <td>Painted Roses Smocked Dress</td>\n",
       "      <td>$478 original retail</td>\n",
       "      <td>$70</td>\n",
       "      <td>Blue printed cotton (69% Cotton, 27% Nylon, 4%...</td>\n",
       "      <td>33 reviews</td>\n",
       "      <td>23.672449</td>\n",
       "    </tr>\n",
       "  </tbody>\n",
       "</table>\n",
       "</div>"
      ],
      "text/plain": [
       "  Type_of_Customer Size                Overall_fit Rented_for  \\\n",
       "0  TOP CONTRIBUTOR    S  Overall fit: True to Size   Vacation   \n",
       "1  TOP CONTRIBUTOR    M         Overall fit: Large    Wedding   \n",
       "2  TOP CONTRIBUTOR    S         Overall fit: Large   Everyday   \n",
       "3  TOP CONTRIBUTOR    L  Overall fit: True to Size    unknown   \n",
       "4  TOP CONTRIBUTOR    L  Overall fit: True to Size   Everyday   \n",
       "\n",
       "  Size_usually_worn  Height  Age Bust_size  Body_type  Weight  Rating    Date  \\\n",
       "0                 8      66   31       34C   athletic     142       5  spring   \n",
       "1                 6      67   33       36C  hourglass     150       5  spring   \n",
       "2                 6      66   27       34B       pear     140       5  spring   \n",
       "3                12      66   42       36B       pear     181       5  spring   \n",
       "4                12      70   48       34D       pear     165       5  spring   \n",
       "\n",
       "        Brand            Dress_Description          Retail_price Rent_price  \\\n",
       "0  Tory Burch  Painted Roses Smocked Dress  $478 original retail        $70   \n",
       "1  Tory Burch  Painted Roses Smocked Dress  $478 original retail        $70   \n",
       "2  Tory Burch  Painted Roses Smocked Dress  $478 original retail        $70   \n",
       "3  Tory Burch  Painted Roses Smocked Dress  $478 original retail        $70   \n",
       "4  Tory Burch  Painted Roses Smocked Dress  $478 original retail        $70   \n",
       "\n",
       "                                     Product_details Number_of_reviews  \\\n",
       "0  Blue printed cotton (69% Cotton, 27% Nylon, 4%...        33 reviews   \n",
       "1  Blue printed cotton (69% Cotton, 27% Nylon, 4%...        33 reviews   \n",
       "2  Blue printed cotton (69% Cotton, 27% Nylon, 4%...        33 reviews   \n",
       "3  Blue printed cotton (69% Cotton, 27% Nylon, 4%...        33 reviews   \n",
       "4  Blue printed cotton (69% Cotton, 27% Nylon, 4%...        33 reviews   \n",
       "\n",
       "         BMI  \n",
       "0  22.916896  \n",
       "1  23.490755  \n",
       "2  22.594123  \n",
       "3  29.210973  \n",
       "4  23.672449  "
      ]
     },
     "execution_count": 4,
     "metadata": {},
     "output_type": "execute_result"
    }
   ],
   "source": [
    "df.head()"
   ]
  },
  {
   "cell_type": "code",
   "execution_count": 5,
   "id": "aa1fbb0e",
   "metadata": {},
   "outputs": [
    {
     "name": "stdout",
     "output_type": "stream",
     "text": [
      "The data frame has 161418 observations. There are 0 nulls for the Number_of_reviews feature. \n",
      "33 reviews\n",
      "97 reviews\n",
      "118 reviews\n",
      "64 reviews\n",
      "9 reviews\n",
      "62 reviews\n",
      "33\n",
      "97\n",
      "118\n",
      "64\n",
      "9\n",
      "62\n"
     ]
    }
   ],
   "source": [
    "#The number of Review features convert to just an integer\n",
    "print(f\"The data frame has {df.shape[0]} observations. There are {df.Number_of_reviews.isna().sum()} nulls for the Number_of_reviews feature. \")\n",
    "for i in check_list:\n",
    "    print(df[\"Number_of_reviews\"][i])\n",
    "#Get rid of unnecessary characters in some entries. \n",
    "df[\"Number_of_reviews\"]=df[\"Number_of_reviews\"].replace(\" reviews\",\"\", regex=True).replace(\" review\",\"\", regex=True)\n",
    "\n",
    "for i in check_list:\n",
    "    print(df[\"Number_of_reviews\"][i])\n",
    "\n",
    "df[\"Number_of_reviews\"]=df[\"Number_of_reviews\"].astype(\"int\")\n"
   ]
  },
  {
   "cell_type": "code",
   "execution_count": 6,
   "id": "06cc611e",
   "metadata": {},
   "outputs": [],
   "source": [
    "#Drop the nulls in the Retail Price area. \n",
    "df.dropna(subset=['Retail_price'],inplace=True)\n",
    "df = df.reset_index()\n",
    "df.drop(columns=[\"index\"],inplace=True)"
   ]
  },
  {
   "cell_type": "code",
   "execution_count": 7,
   "id": "690336d3",
   "metadata": {},
   "outputs": [
    {
     "name": "stdout",
     "output_type": "stream",
     "text": [
      "The data frame has 161329 observations. There are 0 nulls for the Retail_price feature. \n",
      "$478 original retail\n",
      "$495 original retail\n",
      "$230 original retail\n",
      "$330 original retail\n",
      "$317 original retail\n",
      "$395 original retail\n",
      "478\n",
      "495\n",
      "230\n",
      "330\n",
      "317\n",
      "395\n"
     ]
    }
   ],
   "source": [
    "#Convert the Retail Price feature to just an integer. \n",
    "print(f\"The data frame has {df.shape[0]} observations. There are {df.Retail_price.isna().sum()} nulls for the Retail_price feature. \")\n",
    "df.Retail_price.value_counts();\n",
    "df[\"Retail_price\"]=df[\"Retail_price\"].replace(\",\",\"\", regex=True)\n",
    "#This is a test to make sure that the dollar amounts were converted correctly. \n",
    "for i in check_list:\n",
    "    print(df[\"Retail_price\"][i])\n",
    "df[\"Retail_price\"] = df[\"Retail_price\"].str.extract(r\"(\\d+)\",expand=True)\n",
    "for i in check_list:\n",
    "    print(df[\"Retail_price\"][i])\n",
    "\n",
    "df[\"Retail_price\"]=df[\"Retail_price\"].astype(\"int\")"
   ]
  },
  {
   "cell_type": "code",
   "execution_count": 8,
   "id": "7a28ce7f",
   "metadata": {},
   "outputs": [
    {
     "name": "stdout",
     "output_type": "stream",
     "text": [
      "The data frame has 161329 observations. There are 0 nulls for the Rent_price feature. \n",
      "$70\n",
      "$68 – $78\n",
      "$32 – $42\n",
      "$30 – $44\n",
      "$32 – $42\n",
      "$45 – $60\n",
      "70\n",
      "68\n",
      "32\n",
      "30\n",
      "32\n",
      "45\n"
     ]
    }
   ],
   "source": [
    "#Convert the Rental Price Feature to just an integer\n",
    "print(f\"The data frame has {df.shape[0]} observations. There are {df.Rent_price.isna().sum()} nulls for the Rent_price feature. \")\n",
    "df[\"Rent_price\"]=df[\"Rent_price\"].replace(\",\",\"\", regex=True)\n",
    "#This is a test to make sure that the dollar amounts were converted correctly. \n",
    "for i in check_list:\n",
    "    print(df[\"Rent_price\"][i])\n",
    "df[\"Rent_price\"] = df[\"Rent_price\"].str.extract(r\"(\\d+)\",expand=True)\n",
    "for i in check_list:\n",
    "    print(df[\"Rent_price\"][i])\n",
    "df[\"Rent_price\"]=df[\"Rent_price\"].astype(\"int\")"
   ]
  },
  {
   "cell_type": "code",
   "execution_count": 9,
   "id": "87c8bd84",
   "metadata": {},
   "outputs": [],
   "source": [
    "df = df.drop_duplicates(subset=[\"Brand\",'Dress_Description'], keep='first')"
   ]
  },
  {
   "cell_type": "code",
   "execution_count": 10,
   "id": "c1469e24",
   "metadata": {},
   "outputs": [],
   "source": [
    "df = df.reset_index()\n",
    "df.drop(columns=\"index\",inplace=True)"
   ]
  },
  {
   "cell_type": "code",
   "execution_count": 11,
   "id": "0d56bea2",
   "metadata": {},
   "outputs": [],
   "source": [
    "weird_rows = [446,619,2757,3348,4683,5141,5315,5455]"
   ]
  },
  {
   "cell_type": "code",
   "execution_count": 12,
   "id": "287f1013",
   "metadata": {},
   "outputs": [],
   "source": [
    "#Fix Typos in the Product Detail \n",
    "df[\"Product_details\"]=df[\"Product_details\"].replace(\"sleeve slit\",\"\", regex=True)\n",
    "df[\"Product_details\"]=df[\"Product_details\"].replace(\"sleees\",\"sleeves\", regex=True)\n",
    "df[\"Product_details\"]=df[\"Product_details\"].replace(\"sleves\",\"sleeves\", regex=True)\n"
   ]
  },
  {
   "cell_type": "code",
   "execution_count": 13,
   "id": "afe1f803",
   "metadata": {},
   "outputs": [],
   "source": [
    "parentheses = df[\"Product_details\"][0][54]\n",
    "for i in range(df.shape[0]):\n",
    "    df.at[i, \"Product_details\"] = df[\"Product_details\"][i][df[\"Product_details\"][i].find(parentheses):]\n",
    "    df.at[i, \"Product_details\"]= df[\"Product_details\"][i].lower()\n",
    "df[\"Product_details\"]=df[\"Product_details\"].replace(\"\\). \",\"\", regex=True)\n",
    "df[\"Product_details\"]=df[\"Product_details\"].replace(\"\\) . \",\"\", regex=True)\n",
    "df[\"Product_details\"]=df[\"Product_details\"].replace(\"\\) \",\"\", regex=True)\n",
    "\n"
   ]
  },
  {
   "cell_type": "code",
   "execution_count": 14,
   "id": "c58c735c",
   "metadata": {},
   "outputs": [],
   "source": [
    "for i in range(df.shape[0]):\n",
    "    if \"Victor Alfaro Collective\" in df[\"Brand\"][i] and \"Tea Length Shirtdress\" in df[\"Dress_Description\"][i]:\n",
    "         df.at[i, \"Product_details\"] = \"Shirtdress. three_quarter_sleeves. shirt_collar_neckline\""
   ]
  },
  {
   "cell_type": "code",
   "execution_count": 18,
   "id": "8a7ce681",
   "metadata": {},
   "outputs": [],
   "source": [
    "#Break up the garment description into a list and call it \"Details\". \n",
    "#df[\"Details\"][i][0] = style of garment \n",
    "#df[\"Details\"][i][2] = style of sleeves\n",
    "#df[\"Details\"][i][3] = neckline \n",
    "#df[\"Details\"][i][4] = length \n",
    "#df[\"Details\"][i][5] = Imported or domestic\n",
    "df[\"Details\"] = \"unknown\" \n",
    "df[\"Details\"] = df[\"Details\"].astype('object')\n",
    "for i in range(df.shape[0]):\n",
    "    x = df[\"Product_details\"][i].split(\". \")\n",
    "    df.at[i, 'Details'] = x"
   ]
  },
  {
   "cell_type": "code",
   "execution_count": 19,
   "id": "2851f497",
   "metadata": {},
   "outputs": [],
   "source": [
    "list_of_removal_words = [\"Imported.\",\"Imported\",\"USA\",\"Shoes.\",\"shoulder to hemline\",\"See size\",\"shoulder to hem.\",\"Made in NYC.\"\n",
    "                        \"Made in\", \"Origin.\", \"Made in Italy.\",\"Detached dupatta\",\"Gown can be worn 15 different ways.\"\n",
    "                        \"from bust to hemline\",\"Functional snaps on raglan seam that allows for breastfeeding access on this maternity dress\",\n",
    "                         \"Side zipper closure\",\"from shoulder to hem\",\"from shoulder to longest hemline\",\"Partially lined\",\"shoulder to longest hemline\",\n",
    "                         \"7\\\" front slit\",\"Partially lined\",\"%\",\"from top of neckline to hem\",\n",
    "                        'open back with button closure','lined','full pleated skirt','low back','center back zipper closure',\"lace detail at hem\",\n",
    "'sheer bodice','fitted envelope skirt','fitted bodice with scalloped hemline','ruching waist','lace detail at hem',\n",
    "'illusion with black and white overlay lace','beaded waist','tie waist','open back','straight','pencil skirt with ruching at waist',\n",
    "'pencil skirt with flounce ruffled hem','straight skirt with mesh insert at waist','pencil skirt with ruching detail',\n",
    "'trumpet skirt','ruched bodice with draping detail on back','side and back cut out detail','full hi lo skirt','draped back',\n",
    "'v-back','buttons and hidden back zipper with hook-and-eye closure','straight skirt with back slit','fitted tea length skirt',\n",
    "'full floral skirt', 'back cut out', 'full hi-low skirt', 'straight skirt with side ruching and front slit',\n",
    " 'off the shoulder','high low hemline','elastic waistband with drawstring','back zipper with hook-and-eye closure','hidden center back zipper closure',\n",
    "  'invisible back zipper closure',  'front zipper closure','fit-and-flare','front button fly closure','blouse','sequin coloration may vary',\n",
    "'sewn on rosette details','cutout at waist','hidden side zipper','\\nhidden back zipper with hook-and-eye closure','hidden center back zipper',\n",
    "'exposed front button down placket','back zipper','step in and pull up in style','full tea length skirt','full trumpet skirt with illusion detail',\n",
    "'high low','low back with cowl','exposed front button closures','33\" from bust to hemline','tiered ruffle skirt with stripe detail',\n",
    "'column skirt with front slit and cut-out at waist','v-back with hidden zipper.partially lined',\n",
    "                        '39\" from neckline to hemline',\n",
    " '40\" from neckline to hemline',\n",
    " '35” from neckline to front hem',\n",
    " 'surplice neckline',\n",
    " '37.5” from neckline to hemline',\n",
    " '23.5” from neckline to shortest hemline',\n",
    " 'split neckline',\n",
    " '56\" from neckline to longest hemline',\n",
    " '45\" from neckline to hemline',\n",
    " '42\" from neckline to shortest hemline, 62\" from neckline to longest hemline',\n",
    " 'n-neckline',\"see size and fit tab for length\",\n",
    " 'hook-and-eye closure at neck',\n",
    " '26” from neckline to hemline','v- back', 'visible back gold zipper', 'exposed front snap closures',\n",
    "       'hidden zipper at center back on bodice and skirt', 'sequin overlay',\n",
    "       'sequin bodice', 'invisible side zipper', 'hidden side zip',\n",
    "       'lace illusion', '59\" from top of zipper to hemline',\n",
    "       'hidden zipper with hook-and-eye closure',\n",
    "       '43” from shoulder to shortest part of hemline',\n",
    "       '34” from shoulder to shortest part of hemline, 44” from shoulder to longest part of hemline',\n",
    "       'column skirt', 'pockets', 'shoulder pads', 'hidden side pockets',\n",
    "       'imported', 'made in usa of imported fabric.',\n",
    "       '50\" from top to hemline', 'top', 'asymmetric hem','pop over bodice with sequin detail', 'mesh detailing at hem',\n",
    "       'made in usa', 'cross-strap back detail', 'criss cross back',\n",
    "       '37” shoulder to hem', 'exposed button down placket',\n",
    "       'exposed tulle at hemline', '35” from shoulder to shortest hemline',\n",
    "       '34\" from shoulder to shortest part of hemline',\n",
    "       'bow detail on back', 'see size and fit tab for full length',\n",
    "       '43\" from waist to hemline', 'black panels at waist and back',\"see size and fit notes for length measurements\",\"origin.\",\"cowl back detail\"]"
   ]
  },
  {
   "cell_type": "code",
   "execution_count": 20,
   "id": "60c072c5",
   "metadata": {},
   "outputs": [],
   "source": [
    "# If the following words are present in a description, remove them. \n",
    "\n",
    "        \n",
    "for k in range(df.shape[0]):\n",
    "    for word in list_of_removal_words:\n",
    "        for i in range(len(df[\"Details\"][k])):\n",
    "            if word in df[\"Details\"][k][i]:\n",
    "                df[\"Details\"][k][i] = \"drop\"\n"
   ]
  },
  {
   "cell_type": "code",
   "execution_count": 21,
   "id": "fe3f4cc7",
   "metadata": {},
   "outputs": [],
   "source": [
    "for i in range(df.shape[0]):\n",
    "    clean_list=[]\n",
    "    for k in range(len(df[\"Details\"][i])):\n",
    "        if \"drop\" not in df[\"Details\"][i][k]:\n",
    "            clean_list.append(df[\"Details\"][i][k])\n",
    "    df.at[i, 'Details'] = clean_list\n"
   ]
  },
  {
   "cell_type": "code",
   "execution_count": 22,
   "id": "b5ddfe68",
   "metadata": {},
   "outputs": [],
   "source": [
    "#This extracts the sleeve description from the item description. \n",
    "df[\"Sleeves\"] = 1\n",
    "df[\"Sleeves\"] = df[\"Sleeves\"].astype('object')\n",
    "for i in range(df.shape[0]):\n",
    "    for k in reversed(range(len(df[\"Details\"][i]))):\n",
    "        if \"sleev\" in df[\"Details\"][i][k].lower() or \"strapless\" in df[\"Details\"][i][k].lower() or \"halter\" in df[\"Details\"][i][k].lower():\n",
    "            df.at[i, \"Sleeves\"] = df[\"Details\"][i][k].lower()\n",
    "            df[\"Details\"][i][k] = \"drop\""
   ]
  },
  {
   "cell_type": "code",
   "execution_count": 23,
   "id": "250a07d2",
   "metadata": {},
   "outputs": [],
   "source": [
    "#Clean up the typos in the Sleeve Feature \n",
    "for i in range(df.shape[0]):\n",
    "    if \"sleeveless\" in str(df[\"Sleeves\"][i]) or \"sleevleess\" in str(df[\"Sleeves\"][i]) or \"sleevess\" in str(df[\"Sleeves\"][i]) or \"sleevelss\" in str(df[\"Sleeves\"][i]) or \"sleevless\" in str(df[\"Sleeves\"][i]):\n",
    "        df.at[i, \"Sleeves\"] = \"sleeveless\"\n",
    "    elif \"quarter\" in str(df[\"Sleeves\"][i]) or \"3/4\" in str(df[\"Sleeves\"][i]) or \"¾\" in str(df[\"Sleeves\"][i]):\n",
    "        df.at[i, \"Sleeves\"] = \"three_quarter_sleeves\"\n",
    "    elif \"short\" in str(df[\"Sleeves\"][i]):\n",
    "        df.at[i, \"Sleeves\"] = \"short_sleeves\"\n",
    "    elif \"long\" in str(df[\"Sleeves\"][i]):\n",
    "        df.at[i, \"Sleeves\"] = \"long_sleeves\"    \n",
    "    elif \"cap\" in str(df[\"Sleeves\"][i]):\n",
    "        df.at[i, \"Sleeves\"] = \"cap_sleeves\"   \n",
    "    elif \"flutter\" in str(df[\"Sleeves\"][i]):\n",
    "        df.at[i, \"Sleeves\"] = \"flutter_sleeves\"    \n",
    "    elif \"strapless\" in str(df[\"Sleeves\"][i]):\n",
    "        df.at[i, \"Sleeves\"] = \"strapless\"\n",
    "    elif \"elbow\" in str(df[\"Sleeves\"][i]):\n",
    "        df.at[i, \"Sleeves\"] = \"elbow_length_sleeve\"\n",
    "    elif \"halter\" in str(df[\"Sleeves\"][i]):\n",
    "        df.at[i, \"Sleeves\"] = \"sleeveless\"\n",
    "    elif \"off the shoulder neckline with ruffle detailing on sleeves\" in str(df[\"Sleeves\"][i]):\n",
    "        df.at[i, \"Sleeves\"] = \"short_sleeves\"   \n",
    "    elif \"three sleeves\" in str(df[\"Sleeves\"][i]):\n",
    "        df.at[i, \"Sleeves\"] = \"three_quarter_sleeves\" \n",
    "    "
   ]
  },
  {
   "cell_type": "code",
   "execution_count": 24,
   "id": "eead406c",
   "metadata": {},
   "outputs": [
    {
     "data": {
      "text/plain": [
       "sleeveless               2551\n",
       "long_sleeves             1556\n",
       "short_sleeves            1528\n",
       "three_quarter_sleeves     504\n",
       "cap_sleeves               266\n",
       "flutter_sleeves           144\n",
       "strapless                 134\n",
       "1                          39\n",
       "elbow_length_sleeve         3\n",
       "convertible sleeve          2\n",
       "one shoulder sleeves        1\n",
       "Name: Sleeves, dtype: int64"
      ]
     },
     "execution_count": 24,
     "metadata": {},
     "output_type": "execute_result"
    }
   ],
   "source": [
    "df.Sleeves.value_counts()"
   ]
  },
  {
   "cell_type": "code",
   "execution_count": 25,
   "id": "62a4fe05",
   "metadata": {},
   "outputs": [],
   "source": [
    "list_of_sleeve_columns = []\n",
    "for i in range(df.shape[0]):\n",
    "    if df[\"Sleeves\"][i] == 1: \n",
    "        list_of_sleeve_columns.append(i)"
   ]
  },
  {
   "cell_type": "code",
   "execution_count": 26,
   "id": "8e7a75e6",
   "metadata": {},
   "outputs": [],
   "source": [
    "#This extracts the Neckline description from the item description. \n",
    "df[\"Neckline\"] = 1\n",
    "df[\"Neckline\"] = df[\"Neckline\"].astype('object')\n",
    "for i in range(df.shape[0]):\n",
    "    for k in reversed(range(len(df[\"Details\"][i]))):\n",
    "        if \"neck\" in df[\"Details\"][i][k].lower():\n",
    "            df.at[i, \"Neckline\"] = df[\"Details\"][i][k]\n",
    "            df[\"Details\"][i][k] = \"drop\""
   ]
  },
  {
   "cell_type": "code",
   "execution_count": 27,
   "id": "a2453b63",
   "metadata": {},
   "outputs": [],
   "source": [
    "#Clean up the typos and redundant naming in the Neckline Feature \n",
    "for i in range(df.shape[0]):\n",
    "    if \"v\" in str(df[\"Neckline\"][i]):\n",
    "        df.at[i, \"Neckline\"] = \"v_neckline\"\n",
    "    elif \"mock\" in str(df[\"Neckline\"][i]):\n",
    "        df.at[i, \"Neckline\"] = \"mock_neckline\"\n",
    "    elif \"halter\" in str(df[\"Neckline\"][i]) or \"hater\" in str(df[\"Neckline\"][i]):\n",
    "        df.at[i, \"Neckline\"] = \"halter\"\n",
    "    elif \"high\" in str(df[\"Neckline\"][i]):\n",
    "        df.at[i, \"Neckline\"] = \"high_neckline\"\n",
    "    elif \"shoulder\" in str(df[\"Neckline\"][i]) or \"shoudler\" in str(df[\"Neckline\"][i]):\n",
    "        df.at[i, \"Neckline\"] = \"off_shoulder\"\n",
    "    elif \"shirt\" in str(df[\"Neckline\"][i]) or \"collar\" in str(df[\"Neckline\"][i]):\n",
    "        df.at[i, \"Neckline\"] = \"shirt_collar_neckline\"    \n",
    "    elif \"crew\" in str(df[\"Neckline\"][i]) :\n",
    "        df.at[i, \"Neckline\"] = \"crew_neckline\"     \n",
    "    elif \"sweetheart\" in str(df[\"Neckline\"][i]) :\n",
    "        df.at[i, \"Neckline\"] = \"sweetheart\"    \n",
    "    elif \"cowl\" in str(df[\"Neckline\"][i]) :\n",
    "        df.at[i, \"Neckline\"] = \"cowl_neckline\"    \n",
    "    elif \"back\" in str(df[\"Neckline\"][i]) :\n",
    "        df.at[i, \"Neckline\"] = \"back_necktie\" \n",
    "    elif \"square\" in str(df[\"Neckline\"][i]) :\n",
    "        df.at[i, \"Neckline\"] = \"square_neckline\" \n",
    "    elif \"scoop\" in str(df[\"Neckline\"][i]) :\n",
    "        df.at[i, \"Neckline\"] = \"scoop_neckline\" \n",
    "    elif \"tie\" in str(df[\"Neckline\"][i]) :\n",
    "        df.at[i, \"Neckline\"] = \"tie_neckline\" \n",
    "    elif \"turtle\" in str(df[\"Neckline\"][i]) :\n",
    "        df.at[i, \"Neckline\"] = \"turtleneck\"  \n",
    "    elif \"straight neckline\" in str(df[\"Neckline\"][i]) :\n",
    "        df.at[i, \"Neckline\"] = \"turtleneck\" \n",
    "    elif \"boat\" in str(df[\"Neckline\"][i]) :\n",
    "        df.at[i, \"Neckline\"] = \"boat_neckline\" "
   ]
  },
  {
   "cell_type": "code",
   "execution_count": 28,
   "id": "06e6b4b2",
   "metadata": {},
   "outputs": [
    {
     "data": {
      "text/plain": [
       "v_neckline               2302\n",
       "crew_neckline            1610\n",
       "1                         548\n",
       "square_neckline           449\n",
       "high_neckline             415\n",
       "shirt_collar_neckline     280\n",
       "sweetheart                239\n",
       "scoop_neckline            239\n",
       "boat_neckline             204\n",
       "off_shoulder              203\n",
       "mock_neckline             124\n",
       "cowl_neckline              44\n",
       "turtleneck                 40\n",
       "tie_neckline                8\n",
       "asymmetric neckline         7\n",
       "back_necktie                6\n",
       "plunge neckline             5\n",
       "plunge neck                 2\n",
       "split neck                  2\n",
       "halter                      1\n",
       "Name: Neckline, dtype: int64"
      ]
     },
     "execution_count": 28,
     "metadata": {},
     "output_type": "execute_result"
    }
   ],
   "source": [
    "df.Neckline.value_counts()"
   ]
  },
  {
   "cell_type": "code",
   "execution_count": 29,
   "id": "7cff2712",
   "metadata": {},
   "outputs": [],
   "source": [
    "list_of_necklines_columns = []\n",
    "for i in range(df.shape[0]):\n",
    "    if df[\"Neckline\"][i] == 1: \n",
    "        list_of_necklines_columns.append(i)"
   ]
  },
  {
   "cell_type": "code",
   "execution_count": 30,
   "id": "6b8a8871",
   "metadata": {},
   "outputs": [],
   "source": [
    "for i in range(df.shape[0]):\n",
    "    clean_list=[]\n",
    "    for k in range(len(df[\"Details\"][i])):\n",
    "        if \"drop\" not in df[\"Details\"][i][k]:\n",
    "            clean_list.append(df[\"Details\"][i][k])\n",
    "    df.at[i, 'Details'] = clean_list\n"
   ]
  },
  {
   "cell_type": "code",
   "execution_count": 31,
   "id": "1bfc7986",
   "metadata": {},
   "outputs": [],
   "source": [
    "#This extracts the dress style description from the item description. \n",
    "df[\"Dress_Style\"] = 1\n",
    "df[\"Dress_Style\"] = df[\"Dress_Style\"].astype('object')\n",
    "            \n",
    "for i in range(df.shape[0]):\n",
    "    if len(df[\"Details\"][i])>0:\n",
    "        df.at[i, \"Dress_Style\"] = df[\"Details\"][i][0]"
   ]
  },
  {
   "cell_type": "code",
   "execution_count": 32,
   "id": "0e7f4ee1",
   "metadata": {},
   "outputs": [],
   "source": [
    "#Clean up the typos in the Dress Feature \n",
    "for i in range(df.shape[0]):\n",
    "    if \"hourglass\" in str(df[\"Dress_Style\"][i]) or \"hpurglass\" in str(df[\"Dress_Style\"][i]) or \"hourgless\" in str(df[\"Dress_Style\"][i]) or \"houseglass\" in str(df[\"Dress_Style\"][i]) or \"hourlgass\" in str(df[\"Dress_Style\"][i]):\n",
    "        df.at[i, \"Dress_Style\"] = \"hourglass\"\n",
    "    elif \"wrap\" in str(df[\"Dress_Style\"][i]):\n",
    "        df.at[i, \"Dress_Style\"] = \"wrap\"\n",
    "    elif \"maxi\" in str(df[\"Dress_Style\"][i]):\n",
    "        df.at[i, \"Dress_Style\"] = \"maxi\"\n",
    "    elif \"blouson\" in str(df[\"Dress_Style\"][i]) or \"blosuon\" in str(df[\"Dress_Style\"][i]):\n",
    "        df.at[i, \"Dress_Style\"] = \"blouson\"  \n",
    "    elif \"shirtdress\" in str(df[\"Dress_Style\"][i]) or \"shirt dress\" in str(df[\"Dress_Style\"][i]):\n",
    "        df.at[i, \"Dress_Style\"] = \"shirtdress\"   \n",
    "    elif \"sheath\" in str(df[\"Dress_Style\"][i]):\n",
    "        df.at[i, \"Dress_Style\"] = \"sheath\"   \n",
    "    elif \"a-line\" in str(df[\"Dress_Style\"][i]):\n",
    "        df.at[i, \"Dress_Style\"] = \"a-line\"  \n",
    "    elif \"empire\" in str(df[\"Dress_Style\"][i]):\n",
    "        df.at[i, \"Dress_Style\"] = \"empire_waist\"\n",
    "    elif \"gown\" in str(df[\"Dress_Style\"][i]):\n",
    "        df.at[i, \"Dress_Style\"] = \"gown\"    \n",
    "    elif \"shift\" in str(df[\"Dress_Style\"][i]):\n",
    "        df.at[i, \"Dress_Style\"] = \"shift\" \n",
    "    elif \"slip\" in str(df[\"Dress_Style\"][i]):\n",
    "        df.at[i, \"Dress_Style\"] = \"slip_dress\"  \n",
    "    elif \"lining: 80% nylon, 20% spandex\" in str(df[\"Dress_Style\"][i]) or \"three quarter sleeves\" in str(df[\"Dress_Style\"][i])  :\n",
    "        df.at[i, \"Dress_Style\"] = \"sheath\"\n",
    "    elif \"short sleeves with cold shoulder detail\" in str(df[\"Dress_Style\"][i]):\n",
    "        df.at[i, \"Dress_Style\"] = \"maxi\"  \n",
    "    elif \"sleeveless with shirt collar\" in str(df[\"Dress_Style\"][i]) or \"full skirt\" in str(df[\"Dress_Style\"][i]):\n",
    "        df.at[i, \"Dress_Style\"] = \"full skirt\" \n",
    "    elif \"fitted skirt\" in str(df[\"Dress_Style\"][i]):\n",
    "        df.at[i, \"Dress_Style\"] = \"fitted_skirt\"\n",
    "    elif \"mermaid\" in str(df[\"Dress_Style\"][i]):\n",
    "        df.at[i, \"Dress_Style\"] = \"mermaid\"   \n",
    "    elif \"shirt\" in str(df[\"Dress_Style\"][i]).lower():\n",
    "        df.at[i, \"Dress_Style\"] = \"shirtdress\"\n",
    "    elif \"sweater\" in str(df[\"Dress_Style\"][i]).lower():\n",
    "        df.at[i, \"Dress_Style\"] = \"sweater_dress\"\n",
    "    elif \"tunic\" in str(df[\"Dress_Style\"][i]).lower():\n",
    "        df.at[i, \"Dress_Style\"] = \"tunic_dress\"\n"
   ]
  },
  {
   "cell_type": "code",
   "execution_count": 33,
   "id": "404e92d0",
   "metadata": {},
   "outputs": [
    {
     "data": {
      "text/plain": [
       "hourglass                                         2344\n",
       "sheath                                            1762\n",
       "shift                                              687\n",
       "gown                                               405\n",
       "maxi                                               333\n",
       "wrap                                               258\n",
       "full skirt                                         228\n",
       "1                                                  169\n",
       "blouson                                            133\n",
       "a-line                                              82\n",
       "fitted_skirt                                        63\n",
       "empire_waist                                        60\n",
       "shirtdress                                          34\n",
       "made in the usa.                                    14\n",
       "pencil skirt                                        11\n",
       "step in and pull up style                           10\n",
       "side zipper closure                                  9\n",
       "cocktail dresses                                     9\n",
       "dress                                                8\n",
       "mermaid                                              8\n",
       "slip_dress                                           7\n",
       ".                                                    7\n",
       "front button closure                                 6\n",
       "ruched bodice                                        6\n",
       "casual dresses                                       6\n",
       "midi                                                 6\n",
       "boned bodice                                         5\n",
       "one shoulder                                         5\n",
       "ruched waist                                         4\n",
       "column                                               4\n",
       "pull-on                                              4\n",
       "pencil skirt with ruching                            3\n",
       "caftan                                               3\n",
       "fit and flare skirt                                  3\n",
       "hook-and-eye closure                                 3\n",
       "back button closure                                  3\n",
       "pull on                                              3\n",
       "sweater_dress                                        3\n",
       "tie closure                                          3\n",
       "pencil skirt with scalloped lace hem                 2\n",
       "cowl back detail                                     2\n",
       "fitted bodice                                        2\n",
       "mini                                                 2\n",
       "bodycon                                              2\n",
       "see size and fit notes for length measurements       2\n",
       "tunic_dress                                          2\n",
       "origin.                                              1\n",
       "                                                     1\n",
       "see size and fit notes for length.                   1\n",
       "Name: Dress_Style, dtype: int64"
      ]
     },
     "execution_count": 33,
     "metadata": {},
     "output_type": "execute_result"
    }
   ],
   "source": [
    "df.Dress_Style.value_counts()"
   ]
  },
  {
   "cell_type": "code",
   "execution_count": 39,
   "id": "848c22ea",
   "metadata": {},
   "outputs": [
    {
     "ename": "ValueError",
     "evalue": "The truth value of a Series is ambiguous. Use a.empty, a.bool(), a.item(), a.any() or a.all().",
     "output_type": "error",
     "traceback": [
      "\u001b[1;31m---------------------------------------------------------------------------\u001b[0m",
      "\u001b[1;31mValueError\u001b[0m                                Traceback (most recent call last)",
      "Input \u001b[1;32mIn [39]\u001b[0m, in \u001b[0;36m<cell line: 3>\u001b[1;34m()\u001b[0m\n\u001b[0;32m      1\u001b[0m list_of_dress_style_columns \u001b[38;5;241m=\u001b[39m []\n\u001b[0;32m      3\u001b[0m \u001b[38;5;28;01mfor\u001b[39;00m i \u001b[38;5;129;01min\u001b[39;00m \u001b[38;5;28mrange\u001b[39m(df\u001b[38;5;241m.\u001b[39mshape[\u001b[38;5;241m0\u001b[39m]):\n\u001b[1;32m----> 4\u001b[0m     \u001b[38;5;28;01mif\u001b[39;00m \u001b[43mdf\u001b[49m\u001b[43m[\u001b[49m\u001b[38;5;124;43m\"\u001b[39;49m\u001b[38;5;124;43mDress_Style\u001b[39;49m\u001b[38;5;124;43m\"\u001b[39;49m\u001b[43m]\u001b[49m\u001b[43m \u001b[49m\u001b[38;5;241;43m==\u001b[39;49m\u001b[43m \u001b[49m\u001b[38;5;124;43m\"\u001b[39;49m\u001b[38;5;124;43m1\u001b[39;49m\u001b[38;5;124;43m\"\u001b[39;49m:\n\u001b[0;32m      5\u001b[0m         list_of_dress_style_columns\u001b[38;5;241m.\u001b[39mappend(i)\n",
      "File \u001b[1;32m~\\anaconda3\\envs\\tf-gpu\\lib\\site-packages\\pandas\\core\\generic.py:1535\u001b[0m, in \u001b[0;36mNDFrame.__nonzero__\u001b[1;34m(self)\u001b[0m\n\u001b[0;32m   1533\u001b[0m \u001b[38;5;129m@final\u001b[39m\n\u001b[0;32m   1534\u001b[0m \u001b[38;5;28;01mdef\u001b[39;00m \u001b[38;5;21m__nonzero__\u001b[39m(\u001b[38;5;28mself\u001b[39m):\n\u001b[1;32m-> 1535\u001b[0m     \u001b[38;5;28;01mraise\u001b[39;00m \u001b[38;5;167;01mValueError\u001b[39;00m(\n\u001b[0;32m   1536\u001b[0m         \u001b[38;5;124mf\u001b[39m\u001b[38;5;124m\"\u001b[39m\u001b[38;5;124mThe truth value of a \u001b[39m\u001b[38;5;132;01m{\u001b[39;00m\u001b[38;5;28mtype\u001b[39m(\u001b[38;5;28mself\u001b[39m)\u001b[38;5;241m.\u001b[39m\u001b[38;5;18m__name__\u001b[39m\u001b[38;5;132;01m}\u001b[39;00m\u001b[38;5;124m is ambiguous. \u001b[39m\u001b[38;5;124m\"\u001b[39m\n\u001b[0;32m   1537\u001b[0m         \u001b[38;5;124m\"\u001b[39m\u001b[38;5;124mUse a.empty, a.bool(), a.item(), a.any() or a.all().\u001b[39m\u001b[38;5;124m\"\u001b[39m\n\u001b[0;32m   1538\u001b[0m     )\n",
      "\u001b[1;31mValueError\u001b[0m: The truth value of a Series is ambiguous. Use a.empty, a.bool(), a.item(), a.any() or a.all()."
     ]
    }
   ],
   "source": [
    "list_of_dress_style_columns = []\n",
    "\n",
    "for i in range(df.shape[0]):\n",
    "    if df[\"Dress_Style\"] == \"1\":\n",
    "        list_of_dress_style_columns.append(i)"
   ]
  },
  {
   "cell_type": "code",
   "execution_count": 58,
   "id": "0d70b7ca",
   "metadata": {},
   "outputs": [],
   "source": [
    "weird_dress_styles_list = weird_dress_styles.index"
   ]
  },
  {
   "cell_type": "code",
   "execution_count": 59,
   "id": "b834af4b",
   "metadata": {},
   "outputs": [
    {
     "data": {
      "text/plain": [
       "Index(['pop over bodice with sequin detail', 'mesh detailing at hem',\n",
       "       'made in usa', 'cross-strap back detail', 'criss cross back',\n",
       "       '37” shoulder to hem', 'exposed button down placket',\n",
       "       'exposed tulle at hemline', '35” from shoulder to shortest hemline',\n",
       "       '34\" from shoulder to shortest part of hemline', '',\n",
       "       'bow detail on back', 'see size and fit tab for full length',\n",
       "       '43\" from waist to hemline', 'black panels at waist and back'],\n",
       "      dtype='object')"
      ]
     },
     "execution_count": 59,
     "metadata": {},
     "output_type": "execute_result"
    }
   ],
   "source": [
    "weird_dress_styles_list"
   ]
  },
  {
   "cell_type": "code",
   "execution_count": null,
   "id": "2a3f8552",
   "metadata": {},
   "outputs": [],
   "source": [
    "'open back with button closure','lined','full pleated skirt','low back','center back zipper closure',\"lace detail at hem\",\n",
    "'sheer bodice','fitted envelope skirt','fitted bodice with scalloped hemline','ruching waist','lace detail at hem',\n",
    "'illusion with black and white overlay lace','beaded waist','tie waist','open back','straight','pencil skirt with ruching at waist',\n",
    "'pencil skirt with flounce ruffled hem','straight skirt with mesh insert at waist','pencil skirt with ruching detail',\n",
    "'trumpet skirt','ruched bodice with draping detail on back','side and back cut out detail','full hi lo skirt','draped back',\n",
    "'v-back','buttons and hidden back zipper with hook-and-eye closure','straight skirt with back slit','fitted tea length skirt',\n",
    "'full floral skirt', 'back cut out', 'full hi-low skirt', 'straight skirt with side ruching and front slit',\n",
    " 'off the shoulder','high low hemline','elastic waistband with drawstring','back zipper with hook-and-eye closure','hidden center back zipper closure',\n",
    "  'invisible back zipper closure',  'front zipper closure','fit-and-flare','front button fly closure','blouse','sequin coloration may vary',\n",
    "'sewn on rosette details','cutout at waist','hidden side zipper','\\nhidden back zipper with hook-and-eye closure','hidden center back zipper',\n",
    "'exposed front button down placket','back zipper','step in and pull up in style','full tea length skirt','full trumpet skirt with illusion detail',\n",
    "'high low','low back with cowl','exposed front button closures','33\" from bust to hemline','tiered ruffle skirt with stripe detail',\n",
    "'column skirt with front slit and cut-out at waist','v-back with hidden zipper.partially lined'\n",
    "\n",
    "                              \n",
    "                                                    \n",
    "                                   \n",
    "                                          \n",
    "                        \n",
    "                                                       \n",
    "                                             \n",
    "                                  \n",
    "                                       \n",
    "                         \n",
    "              \n",
    "                      ],"
   ]
  }
 ],
 "metadata": {
  "kernelspec": {
   "display_name": "Python 3 (ipykernel)",
   "language": "python",
   "name": "python3"
  },
  "language_info": {
   "codemirror_mode": {
    "name": "ipython",
    "version": 3
   },
   "file_extension": ".py",
   "mimetype": "text/x-python",
   "name": "python",
   "nbconvert_exporter": "python",
   "pygments_lexer": "ipython3",
   "version": "3.9.11"
  }
 },
 "nbformat": 4,
 "nbformat_minor": 5
}
