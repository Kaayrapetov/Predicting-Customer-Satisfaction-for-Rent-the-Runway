{
 "cells": [
  {
   "cell_type": "markdown",
   "id": "6a9ec22e",
   "metadata": {},
   "source": [
    "\n",
    "# Predicting Customer Satisfaction on Rent the Runway\n",
    "\n",
    "##  III. EDA\n",
    "### Katrin Ayrapetov\n",
    "\n",
    "\n",
    "<font style=\"font-size: 2rem; color: blue\">\n",
    "\n",
    "\n",
    " \n",
    "</font>"
   ]
  },
  {
   "cell_type": "markdown",
   "id": "6eb3c0a2",
   "metadata": {},
   "source": [
    "### Overview of the Notebook: \n",
    "\n",
    "In this notebook statistical summaries are calculated for the features. Also, the interaction between the features are examined. \n",
    "<br> **Highlites**\n",
    "<br> The Typical Customer is: \n",
    "<br>&emsp;&emsp;- 36 years old \n",
    "<br>&emsp;&emsp; - 5’4’’ and 140 pounds \n",
    "<br>&emsp;&emsp; - Renting mostly for work and for everyday wear\n",
    "\n",
    "The Typical Dress is: \n",
    "<br> &emsp;&emsp;- $60.00 to rent \n",
    "<br> &emsp;&emsp; - Sleeveless\n",
    "<br> &emsp;&emsp; - Has a v_neckline \n",
    "<br> &emsp;&emsp; - Has an hourglass shape \n",
    "\n",
    "Ages and Heights are approximately bell shaped. Weight are skewed right. \n",
    "\n",
    "\n",
    "THe satisfaction rating breakdown is: 5 - 60% , 4 - 23%, 3 - 10%, 2 - 4% , 1 - 3%  "
   ]
  },
  {
   "cell_type": "code",
   "execution_count": 1,
   "id": "ab0fae52",
   "metadata": {},
   "outputs": [],
   "source": [
    "#Import the necessary libraries. \n",
    "import pandas as pd\n",
    "import matplotlib.pyplot as plt\n",
    "import numpy as np\n",
    "import re\n",
    "pd.set_option(\"display.max_columns\",None)\n",
    "pd.set_option(\"display.max_rows\",None)\n",
    "import matplotlib.pyplot as plt\n",
    "import seaborn as sns"
   ]
  },
  {
   "cell_type": "code",
   "execution_count": 2,
   "id": "3899b98e",
   "metadata": {},
   "outputs": [],
   "source": [
    "df_customers =  pd.read_csv('../Data/df_customer_data_cleaned.csv')\n",
    "df_dresses =  pd.read_csv('../Data/df_clean_dresses.csv')"
   ]
  },
  {
   "cell_type": "code",
   "execution_count": 3,
   "id": "ab331119",
   "metadata": {},
   "outputs": [
    {
     "data": {
      "text/plain": [
       "(151499, 21)"
      ]
     },
     "execution_count": 3,
     "metadata": {},
     "output_type": "execute_result"
    }
   ],
   "source": [
    "df_customers.shape"
   ]
  },
  {
   "cell_type": "code",
   "execution_count": 3,
   "id": "19e6285b",
   "metadata": {},
   "outputs": [],
   "source": [
    "maternity_index = []\n",
    "for i in range(df_customers.shape[0]):\n",
    "    if \"maternity\" in df_customers['Dress_Description'][i]:\n",
    "        maternity_index.append(i)\n",
    "df_customers = df_customers.drop(labels=maternity_index, axis=0)\n",
    "df_customers = df_customers.reset_index()\n",
    "df_customers.drop(columns=[\"index\"],inplace=True)"
   ]
  },
  {
   "cell_type": "code",
   "execution_count": 4,
   "id": "c39f4c3d",
   "metadata": {},
   "outputs": [],
   "source": [
    "df_customers.drop(columns = ['Retail_price', 'Rent_price','Product_details', 'Number_of_reviews'], inplace = True)"
   ]
  },
  {
   "cell_type": "code",
   "execution_count": 5,
   "id": "40810ddb",
   "metadata": {},
   "outputs": [
    {
     "data": {
      "text/plain": [
       "Index(['Type_of_Customer', 'Size', 'Overall_fit', 'Rented_for',\n",
       "       'Size_usually_worn', 'Height', 'Age', 'Bust_size', 'Body_type',\n",
       "       'Weight', 'Rating', 'Date', 'Brand', 'Dress_Description', 'Band_Size',\n",
       "       'Cup_Size', 'BMI'],\n",
       "      dtype='object')"
      ]
     },
     "execution_count": 5,
     "metadata": {},
     "output_type": "execute_result"
    }
   ],
   "source": [
    "df_customers.columns"
   ]
  },
  {
   "cell_type": "code",
   "execution_count": 6,
   "id": "3e14fa92",
   "metadata": {},
   "outputs": [
    {
     "data": {
      "text/plain": [
       "Index(['Brand', 'Dress_Description', 'Retail_price', 'Rent_price',\n",
       "       'Number_of_reviews', 'cotton', 'linen', 'silk', 'leather', 'spandex',\n",
       "       'polyester', 'nylon', 'metallic_fibers', 'wool', 'rayon', 'cellulose',\n",
       "       'cashmere', 'tencel', 'Length', 'Sleeves', 'Neckline'],\n",
       "      dtype='object')"
      ]
     },
     "execution_count": 6,
     "metadata": {},
     "output_type": "execute_result"
    }
   ],
   "source": [
    "df_dresses.columns"
   ]
  },
  {
   "cell_type": "code",
   "execution_count": 7,
   "id": "e4a0a993",
   "metadata": {},
   "outputs": [],
   "source": [
    "df_customers['Dress_Description'] = df_customers['Dress_Description'].str.lower()\n",
    "df_customers['Brand'] = df_customers['Brand'].str.lower()"
   ]
  },
  {
   "cell_type": "code",
   "execution_count": 8,
   "id": "67aed23e",
   "metadata": {},
   "outputs": [],
   "source": [
    "df = pd.merge(df_customers, df_dresses, on='Dress_Description')"
   ]
  },
  {
   "cell_type": "code",
   "execution_count": 11,
   "id": "d6e5c963",
   "metadata": {},
   "outputs": [],
   "source": [
    "df.drop(columns=[\"Bust_size\",\"Brand_y\",\"Dress_Description\"],inplace=True)"
   ]
  },
  {
   "cell_type": "code",
   "execution_count": 13,
   "id": "6dbc446f",
   "metadata": {},
   "outputs": [
    {
     "data": {
      "text/html": [
       "<div>\n",
       "<style scoped>\n",
       "    .dataframe tbody tr th:only-of-type {\n",
       "        vertical-align: middle;\n",
       "    }\n",
       "\n",
       "    .dataframe tbody tr th {\n",
       "        vertical-align: top;\n",
       "    }\n",
       "\n",
       "    .dataframe thead th {\n",
       "        text-align: right;\n",
       "    }\n",
       "</style>\n",
       "<table border=\"1\" class=\"dataframe\">\n",
       "  <thead>\n",
       "    <tr style=\"text-align: right;\">\n",
       "      <th></th>\n",
       "      <th>Type_of_Customer</th>\n",
       "      <th>Size</th>\n",
       "      <th>Overall_fit</th>\n",
       "      <th>Rented_for</th>\n",
       "      <th>Size_usually_worn</th>\n",
       "      <th>Height</th>\n",
       "      <th>Age</th>\n",
       "      <th>Body_type</th>\n",
       "      <th>Weight</th>\n",
       "      <th>Rating</th>\n",
       "      <th>Date</th>\n",
       "      <th>Brand_x</th>\n",
       "      <th>Band_Size</th>\n",
       "      <th>Cup_Size</th>\n",
       "      <th>BMI</th>\n",
       "      <th>Retail_price</th>\n",
       "      <th>Rent_price</th>\n",
       "      <th>Number_of_reviews</th>\n",
       "      <th>cotton</th>\n",
       "      <th>linen</th>\n",
       "      <th>silk</th>\n",
       "      <th>leather</th>\n",
       "      <th>spandex</th>\n",
       "      <th>polyester</th>\n",
       "      <th>nylon</th>\n",
       "      <th>metallic_fibers</th>\n",
       "      <th>wool</th>\n",
       "      <th>rayon</th>\n",
       "      <th>cellulose</th>\n",
       "      <th>cashmere</th>\n",
       "      <th>tencel</th>\n",
       "      <th>Length</th>\n",
       "      <th>Sleeves</th>\n",
       "      <th>Neckline</th>\n",
       "    </tr>\n",
       "  </thead>\n",
       "  <tbody>\n",
       "    <tr>\n",
       "      <th>0</th>\n",
       "      <td>TOP CONTRIBUTOR</td>\n",
       "      <td>Size worn: SR</td>\n",
       "      <td>Overall fit: True to Size</td>\n",
       "      <td>Vacation</td>\n",
       "      <td>8</td>\n",
       "      <td>66</td>\n",
       "      <td>31</td>\n",
       "      <td>athletic</td>\n",
       "      <td>142</td>\n",
       "      <td>5</td>\n",
       "      <td>spring</td>\n",
       "      <td>tory burch</td>\n",
       "      <td>34.0</td>\n",
       "      <td>C</td>\n",
       "      <td>22.916896</td>\n",
       "      <td>478</td>\n",
       "      <td>70</td>\n",
       "      <td>33</td>\n",
       "      <td>69</td>\n",
       "      <td>0</td>\n",
       "      <td>0</td>\n",
       "      <td>0</td>\n",
       "      <td>4</td>\n",
       "      <td>0</td>\n",
       "      <td>27</td>\n",
       "      <td>0</td>\n",
       "      <td>0</td>\n",
       "      <td>0</td>\n",
       "      <td>0</td>\n",
       "      <td>0</td>\n",
       "      <td>0</td>\n",
       "      <td>midi</td>\n",
       "      <td>sleeveless</td>\n",
       "      <td>square_neckline</td>\n",
       "    </tr>\n",
       "    <tr>\n",
       "      <th>1</th>\n",
       "      <td>TOP CONTRIBUTOR</td>\n",
       "      <td>Size worn: MR</td>\n",
       "      <td>Overall fit: Large</td>\n",
       "      <td>Wedding</td>\n",
       "      <td>6</td>\n",
       "      <td>67</td>\n",
       "      <td>33</td>\n",
       "      <td>hourglass</td>\n",
       "      <td>150</td>\n",
       "      <td>5</td>\n",
       "      <td>spring</td>\n",
       "      <td>tory burch</td>\n",
       "      <td>36.0</td>\n",
       "      <td>C</td>\n",
       "      <td>23.490755</td>\n",
       "      <td>478</td>\n",
       "      <td>70</td>\n",
       "      <td>33</td>\n",
       "      <td>69</td>\n",
       "      <td>0</td>\n",
       "      <td>0</td>\n",
       "      <td>0</td>\n",
       "      <td>4</td>\n",
       "      <td>0</td>\n",
       "      <td>27</td>\n",
       "      <td>0</td>\n",
       "      <td>0</td>\n",
       "      <td>0</td>\n",
       "      <td>0</td>\n",
       "      <td>0</td>\n",
       "      <td>0</td>\n",
       "      <td>midi</td>\n",
       "      <td>sleeveless</td>\n",
       "      <td>square_neckline</td>\n",
       "    </tr>\n",
       "    <tr>\n",
       "      <th>2</th>\n",
       "      <td>TOP CONTRIBUTOR</td>\n",
       "      <td>Size worn: SR</td>\n",
       "      <td>Overall fit: Large</td>\n",
       "      <td>Everyday</td>\n",
       "      <td>6</td>\n",
       "      <td>66</td>\n",
       "      <td>27</td>\n",
       "      <td>pear</td>\n",
       "      <td>140</td>\n",
       "      <td>5</td>\n",
       "      <td>spring</td>\n",
       "      <td>tory burch</td>\n",
       "      <td>34.0</td>\n",
       "      <td>B</td>\n",
       "      <td>22.594123</td>\n",
       "      <td>478</td>\n",
       "      <td>70</td>\n",
       "      <td>33</td>\n",
       "      <td>69</td>\n",
       "      <td>0</td>\n",
       "      <td>0</td>\n",
       "      <td>0</td>\n",
       "      <td>4</td>\n",
       "      <td>0</td>\n",
       "      <td>27</td>\n",
       "      <td>0</td>\n",
       "      <td>0</td>\n",
       "      <td>0</td>\n",
       "      <td>0</td>\n",
       "      <td>0</td>\n",
       "      <td>0</td>\n",
       "      <td>midi</td>\n",
       "      <td>sleeveless</td>\n",
       "      <td>square_neckline</td>\n",
       "    </tr>\n",
       "    <tr>\n",
       "      <th>3</th>\n",
       "      <td>TOP CONTRIBUTOR</td>\n",
       "      <td>Size worn: LR</td>\n",
       "      <td>Overall fit: True to Size</td>\n",
       "      <td>unknown</td>\n",
       "      <td>12</td>\n",
       "      <td>66</td>\n",
       "      <td>42</td>\n",
       "      <td>pear</td>\n",
       "      <td>181</td>\n",
       "      <td>5</td>\n",
       "      <td>spring</td>\n",
       "      <td>tory burch</td>\n",
       "      <td>36.0</td>\n",
       "      <td>B</td>\n",
       "      <td>29.210973</td>\n",
       "      <td>478</td>\n",
       "      <td>70</td>\n",
       "      <td>33</td>\n",
       "      <td>69</td>\n",
       "      <td>0</td>\n",
       "      <td>0</td>\n",
       "      <td>0</td>\n",
       "      <td>4</td>\n",
       "      <td>0</td>\n",
       "      <td>27</td>\n",
       "      <td>0</td>\n",
       "      <td>0</td>\n",
       "      <td>0</td>\n",
       "      <td>0</td>\n",
       "      <td>0</td>\n",
       "      <td>0</td>\n",
       "      <td>midi</td>\n",
       "      <td>sleeveless</td>\n",
       "      <td>square_neckline</td>\n",
       "    </tr>\n",
       "    <tr>\n",
       "      <th>4</th>\n",
       "      <td>TOP CONTRIBUTOR</td>\n",
       "      <td>Size worn: LR</td>\n",
       "      <td>Overall fit: True to Size</td>\n",
       "      <td>Everyday</td>\n",
       "      <td>12</td>\n",
       "      <td>70</td>\n",
       "      <td>48</td>\n",
       "      <td>pear</td>\n",
       "      <td>165</td>\n",
       "      <td>5</td>\n",
       "      <td>spring</td>\n",
       "      <td>tory burch</td>\n",
       "      <td>34.0</td>\n",
       "      <td>D</td>\n",
       "      <td>23.672449</td>\n",
       "      <td>478</td>\n",
       "      <td>70</td>\n",
       "      <td>33</td>\n",
       "      <td>69</td>\n",
       "      <td>0</td>\n",
       "      <td>0</td>\n",
       "      <td>0</td>\n",
       "      <td>4</td>\n",
       "      <td>0</td>\n",
       "      <td>27</td>\n",
       "      <td>0</td>\n",
       "      <td>0</td>\n",
       "      <td>0</td>\n",
       "      <td>0</td>\n",
       "      <td>0</td>\n",
       "      <td>0</td>\n",
       "      <td>midi</td>\n",
       "      <td>sleeveless</td>\n",
       "      <td>square_neckline</td>\n",
       "    </tr>\n",
       "  </tbody>\n",
       "</table>\n",
       "</div>"
      ],
      "text/plain": [
       "  Type_of_Customer           Size                Overall_fit Rented_for  \\\n",
       "0  TOP CONTRIBUTOR  Size worn: SR  Overall fit: True to Size   Vacation   \n",
       "1  TOP CONTRIBUTOR  Size worn: MR         Overall fit: Large    Wedding   \n",
       "2  TOP CONTRIBUTOR  Size worn: SR         Overall fit: Large   Everyday   \n",
       "3  TOP CONTRIBUTOR  Size worn: LR  Overall fit: True to Size    unknown   \n",
       "4  TOP CONTRIBUTOR  Size worn: LR  Overall fit: True to Size   Everyday   \n",
       "\n",
       "  Size_usually_worn  Height  Age  Body_type  Weight  Rating    Date  \\\n",
       "0                 8      66   31   athletic     142       5  spring   \n",
       "1                 6      67   33  hourglass     150       5  spring   \n",
       "2                 6      66   27       pear     140       5  spring   \n",
       "3                12      66   42       pear     181       5  spring   \n",
       "4                12      70   48       pear     165       5  spring   \n",
       "\n",
       "      Brand_x  Band_Size Cup_Size        BMI  Retail_price  Rent_price  \\\n",
       "0  tory burch       34.0        C  22.916896           478          70   \n",
       "1  tory burch       36.0        C  23.490755           478          70   \n",
       "2  tory burch       34.0        B  22.594123           478          70   \n",
       "3  tory burch       36.0        B  29.210973           478          70   \n",
       "4  tory burch       34.0        D  23.672449           478          70   \n",
       "\n",
       "   Number_of_reviews  cotton  linen  silk  leather  spandex  polyester  nylon  \\\n",
       "0                 33      69      0     0        0        4          0     27   \n",
       "1                 33      69      0     0        0        4          0     27   \n",
       "2                 33      69      0     0        0        4          0     27   \n",
       "3                 33      69      0     0        0        4          0     27   \n",
       "4                 33      69      0     0        0        4          0     27   \n",
       "\n",
       "   metallic_fibers  wool  rayon  cellulose  cashmere  tencel Length  \\\n",
       "0                0     0      0          0         0       0   midi   \n",
       "1                0     0      0          0         0       0   midi   \n",
       "2                0     0      0          0         0       0   midi   \n",
       "3                0     0      0          0         0       0   midi   \n",
       "4                0     0      0          0         0       0   midi   \n",
       "\n",
       "      Sleeves         Neckline  \n",
       "0  sleeveless  square_neckline  \n",
       "1  sleeveless  square_neckline  \n",
       "2  sleeveless  square_neckline  \n",
       "3  sleeveless  square_neckline  \n",
       "4  sleeveless  square_neckline  "
      ]
     },
     "execution_count": 13,
     "metadata": {},
     "output_type": "execute_result"
    }
   ],
   "source": [
    "df.head(5)"
   ]
  },
  {
   "cell_type": "code",
   "execution_count": 40,
   "id": "efe3b7df",
   "metadata": {},
   "outputs": [
    {
     "data": {
      "text/plain": [
       "Index(['Type_of_Customer', 'Size', 'Overall_fit', 'Rented_for',\n",
       "       'Size_usually_worn', 'Height', 'Age', 'Body_type', 'Weight', 'Rating',\n",
       "       'Date', 'Brand_x', 'Band_Size', 'Cup_Size', 'BMI', 'Retail_price',\n",
       "       'Rent_price', 'Number_of_reviews', 'cotton', 'linen', 'silk', 'leather',\n",
       "       'spandex', 'polyester', 'nylon', 'metallic_fibers', 'wool', 'rayon',\n",
       "       'cellulose', 'cashmere', 'tencel', 'Length', 'Sleeves', 'Neckline'],\n",
       "      dtype='object')"
      ]
     },
     "execution_count": 40,
     "metadata": {},
     "output_type": "execute_result"
    }
   ],
   "source": [
    "df.columns"
   ]
  },
  {
   "cell_type": "code",
   "execution_count": 45,
   "id": "4416a90c",
   "metadata": {},
   "outputs": [
    {
     "data": {
      "text/plain": [
       "C     39257\n",
       "B     37912\n",
       "D     30384\n",
       "DD    19082\n",
       "A     11401\n",
       "E      7852\n",
       "G      1753\n",
       "F      1580\n",
       "AA      694\n",
       "H       520\n",
       "I       114\n",
       "J       107\n",
       "Name: Cup_Size, dtype: int64"
      ]
     },
     "execution_count": 45,
     "metadata": {},
     "output_type": "execute_result"
    }
   ],
   "source": [
    "df.Cup_Size.value_counts()"
   ]
  },
  {
   "cell_type": "code",
   "execution_count": 15,
   "id": "90e61a2a",
   "metadata": {},
   "outputs": [],
   "source": [
    "df.to_csv('../Data/df_clean_final.csv', header=True, index=False)"
   ]
  },
  {
   "cell_type": "code",
   "execution_count": 17,
   "id": "4585b0e1",
   "metadata": {},
   "outputs": [
    {
     "data": {
      "text/plain": [
       "Index(['Type_of_Customer', 'Size', 'Overall_fit', 'Rented_for',\n",
       "       'Size_usually_worn', 'Height', 'Age', 'Body_type', 'Weight', 'Rating',\n",
       "       'Date', 'Brand_x', 'Band_Size', 'Cup_Size', 'BMI', 'Retail_price',\n",
       "       'Rent_price', 'Number_of_reviews', 'cotton', 'linen', 'silk', 'leather',\n",
       "       'spandex', 'polyester', 'nylon', 'metallic_fibers', 'wool', 'rayon',\n",
       "       'cellulose', 'cashmere', 'tencel', 'Length', 'Sleeves', 'Neckline'],\n",
       "      dtype='object')"
      ]
     },
     "execution_count": 17,
     "metadata": {},
     "output_type": "execute_result"
    }
   ],
   "source": [
    "df.columns"
   ]
  },
  {
   "cell_type": "code",
   "execution_count": 18,
   "id": "5f9cf7b7",
   "metadata": {},
   "outputs": [
    {
     "data": {
      "text/html": [
       "<div>\n",
       "<style scoped>\n",
       "    .dataframe tbody tr th:only-of-type {\n",
       "        vertical-align: middle;\n",
       "    }\n",
       "\n",
       "    .dataframe tbody tr th {\n",
       "        vertical-align: top;\n",
       "    }\n",
       "\n",
       "    .dataframe thead th {\n",
       "        text-align: right;\n",
       "    }\n",
       "</style>\n",
       "<table border=\"1\" class=\"dataframe\">\n",
       "  <thead>\n",
       "    <tr style=\"text-align: right;\">\n",
       "      <th>Rating</th>\n",
       "      <th>1</th>\n",
       "      <th>2</th>\n",
       "      <th>3</th>\n",
       "      <th>4</th>\n",
       "      <th>5</th>\n",
       "    </tr>\n",
       "    <tr>\n",
       "      <th>Rented_for</th>\n",
       "      <th></th>\n",
       "      <th></th>\n",
       "      <th></th>\n",
       "      <th></th>\n",
       "      <th></th>\n",
       "    </tr>\n",
       "  </thead>\n",
       "  <tbody>\n",
       "    <tr>\n",
       "      <th>Date</th>\n",
       "      <td>2.90</td>\n",
       "      <td>3.76</td>\n",
       "      <td>10.14</td>\n",
       "      <td>22.97</td>\n",
       "      <td>60.24</td>\n",
       "    </tr>\n",
       "    <tr>\n",
       "      <th>Everyday</th>\n",
       "      <td>4.32</td>\n",
       "      <td>6.01</td>\n",
       "      <td>13.94</td>\n",
       "      <td>25.29</td>\n",
       "      <td>50.44</td>\n",
       "    </tr>\n",
       "    <tr>\n",
       "      <th>Formal Affair</th>\n",
       "      <td>1.33</td>\n",
       "      <td>1.81</td>\n",
       "      <td>5.64</td>\n",
       "      <td>20.20</td>\n",
       "      <td>71.02</td>\n",
       "    </tr>\n",
       "    <tr>\n",
       "      <th>Party</th>\n",
       "      <td>2.55</td>\n",
       "      <td>3.45</td>\n",
       "      <td>8.41</td>\n",
       "      <td>22.33</td>\n",
       "      <td>63.26</td>\n",
       "    </tr>\n",
       "    <tr>\n",
       "      <th>Vacation</th>\n",
       "      <td>3.55</td>\n",
       "      <td>4.24</td>\n",
       "      <td>10.09</td>\n",
       "      <td>21.05</td>\n",
       "      <td>61.07</td>\n",
       "    </tr>\n",
       "    <tr>\n",
       "      <th>Wedding</th>\n",
       "      <td>1.05</td>\n",
       "      <td>1.72</td>\n",
       "      <td>4.85</td>\n",
       "      <td>21.69</td>\n",
       "      <td>70.69</td>\n",
       "    </tr>\n",
       "    <tr>\n",
       "      <th>Work</th>\n",
       "      <td>2.99</td>\n",
       "      <td>4.58</td>\n",
       "      <td>12.26</td>\n",
       "      <td>27.46</td>\n",
       "      <td>52.71</td>\n",
       "    </tr>\n",
       "    <tr>\n",
       "      <th>unknown</th>\n",
       "      <td>4.92</td>\n",
       "      <td>5.76</td>\n",
       "      <td>11.32</td>\n",
       "      <td>20.73</td>\n",
       "      <td>57.26</td>\n",
       "    </tr>\n",
       "    <tr>\n",
       "      <th>All</th>\n",
       "      <td>2.91</td>\n",
       "      <td>3.99</td>\n",
       "      <td>9.78</td>\n",
       "      <td>23.37</td>\n",
       "      <td>59.95</td>\n",
       "    </tr>\n",
       "  </tbody>\n",
       "</table>\n",
       "</div>"
      ],
      "text/plain": [
       "Rating            1     2      3      4      5\n",
       "Rented_for                                    \n",
       "Date           2.90  3.76  10.14  22.97  60.24\n",
       "Everyday       4.32  6.01  13.94  25.29  50.44\n",
       "Formal Affair  1.33  1.81   5.64  20.20  71.02\n",
       "Party          2.55  3.45   8.41  22.33  63.26\n",
       "Vacation       3.55  4.24  10.09  21.05  61.07\n",
       "Wedding        1.05  1.72   4.85  21.69  70.69\n",
       "Work           2.99  4.58  12.26  27.46  52.71\n",
       "unknown        4.92  5.76  11.32  20.73  57.26\n",
       "All            2.91  3.99   9.78  23.37  59.95"
      ]
     },
     "execution_count": 18,
     "metadata": {},
     "output_type": "execute_result"
    }
   ],
   "source": [
    "# It seems like a more joyous occasion such as a wedding  or a date results in more \n",
    "# higher ratings. While a less joyous occasion such as work or everyday yields lower ratings. \n",
    "pd.crosstab(index=df['Rented_for'], columns=df['Rating'],margins=True,normalize='index').round(4)*100"
   ]
  },
  {
   "cell_type": "code",
   "execution_count": 19,
   "id": "2e2773df",
   "metadata": {},
   "outputs": [],
   "source": [
    "def create_percentile_table(column):\n",
    "    data =  {'Percentile': [\"min\",'10th', '20th', '30th', '40th',\"50th\",\"60th\",\"70th\",\"80th\",\"90th\",\"max\"], \n",
    "          column: [df[column].min(),df[column].quantile(0.1), df[column].quantile(0.2), df[column].quantile(0.3), df[column].quantile(0.4),df[column].quantile(0.5),df[column].quantile(0.6),df[column].quantile(0.7),df[column].quantile(0.8),df[column].quantile(0.9),df[column].max()]} \n",
    "    percentile_table = pd.DataFrame(data)\n",
    "    percentile_table.set_index('Percentile')\n",
    "    return percentile_table"
   ]
  },
  {
   "cell_type": "code",
   "execution_count": 21,
   "id": "27cc27e0",
   "metadata": {},
   "outputs": [
    {
     "data": {
      "text/plain": [
       "506"
      ]
     },
     "execution_count": 21,
     "metadata": {},
     "output_type": "execute_result"
    }
   ],
   "source": [
    "# How many brands are there total on the website? There are 519 different Brands. \n",
    "len(list(df.Brand_x.unique()))\n"
   ]
  },
  {
   "cell_type": "code",
   "execution_count": 22,
   "id": "00cdb80a",
   "metadata": {},
   "outputs": [
    {
     "data": {
      "text/html": [
       "<div>\n",
       "<style scoped>\n",
       "    .dataframe tbody tr th:only-of-type {\n",
       "        vertical-align: middle;\n",
       "    }\n",
       "\n",
       "    .dataframe tbody tr th {\n",
       "        vertical-align: top;\n",
       "    }\n",
       "\n",
       "    .dataframe thead th {\n",
       "        text-align: right;\n",
       "    }\n",
       "</style>\n",
       "<table border=\"1\" class=\"dataframe\">\n",
       "  <thead>\n",
       "    <tr style=\"text-align: right;\">\n",
       "      <th></th>\n",
       "      <th>Height</th>\n",
       "      <th>Age</th>\n",
       "      <th>Weight</th>\n",
       "      <th>Rating</th>\n",
       "      <th>Band_Size</th>\n",
       "      <th>BMI</th>\n",
       "      <th>Retail_price</th>\n",
       "      <th>Rent_price</th>\n",
       "      <th>Number_of_reviews</th>\n",
       "      <th>cotton</th>\n",
       "      <th>linen</th>\n",
       "      <th>silk</th>\n",
       "      <th>leather</th>\n",
       "      <th>spandex</th>\n",
       "      <th>polyester</th>\n",
       "      <th>nylon</th>\n",
       "      <th>metallic_fibers</th>\n",
       "      <th>wool</th>\n",
       "      <th>rayon</th>\n",
       "      <th>cellulose</th>\n",
       "      <th>cashmere</th>\n",
       "      <th>tencel</th>\n",
       "    </tr>\n",
       "  </thead>\n",
       "  <tbody>\n",
       "    <tr>\n",
       "      <th>count</th>\n",
       "      <td>150656.000000</td>\n",
       "      <td>150656.000000</td>\n",
       "      <td>150656.000000</td>\n",
       "      <td>150656.000000</td>\n",
       "      <td>150656.000000</td>\n",
       "      <td>150656.000000</td>\n",
       "      <td>150656.000000</td>\n",
       "      <td>150656.000000</td>\n",
       "      <td>150656.000000</td>\n",
       "      <td>150656.000000</td>\n",
       "      <td>150656.000000</td>\n",
       "      <td>150656.000000</td>\n",
       "      <td>150656.000000</td>\n",
       "      <td>150656.000000</td>\n",
       "      <td>150656.000000</td>\n",
       "      <td>150656.000000</td>\n",
       "      <td>150656.000000</td>\n",
       "      <td>150656.000000</td>\n",
       "      <td>150656.000000</td>\n",
       "      <td>150656.000000</td>\n",
       "      <td>150656.000000</td>\n",
       "      <td>150656.000000</td>\n",
       "    </tr>\n",
       "    <tr>\n",
       "      <th>mean</th>\n",
       "      <td>65.266939</td>\n",
       "      <td>37.799059</td>\n",
       "      <td>143.417813</td>\n",
       "      <td>4.334457</td>\n",
       "      <td>34.256186</td>\n",
       "      <td>23.669771</td>\n",
       "      <td>426.111492</td>\n",
       "      <td>60.649891</td>\n",
       "      <td>90.155958</td>\n",
       "      <td>13.642371</td>\n",
       "      <td>1.100945</td>\n",
       "      <td>6.780314</td>\n",
       "      <td>0.012612</td>\n",
       "      <td>1.701944</td>\n",
       "      <td>46.894740</td>\n",
       "      <td>7.865687</td>\n",
       "      <td>0.259664</td>\n",
       "      <td>1.603932</td>\n",
       "      <td>16.709417</td>\n",
       "      <td>0.800731</td>\n",
       "      <td>0.035465</td>\n",
       "      <td>0.493588</td>\n",
       "    </tr>\n",
       "    <tr>\n",
       "      <th>std</th>\n",
       "      <td>2.682313</td>\n",
       "      <td>9.152163</td>\n",
       "      <td>25.192587</td>\n",
       "      <td>1.003573</td>\n",
       "      <td>2.049936</td>\n",
       "      <td>3.936386</td>\n",
       "      <td>274.779552</td>\n",
       "      <td>39.113623</td>\n",
       "      <td>139.020293</td>\n",
       "      <td>32.238776</td>\n",
       "      <td>8.906438</td>\n",
       "      <td>24.233511</td>\n",
       "      <td>1.122943</td>\n",
       "      <td>3.967538</td>\n",
       "      <td>46.242889</td>\n",
       "      <td>21.875125</td>\n",
       "      <td>2.625383</td>\n",
       "      <td>11.332220</td>\n",
       "      <td>31.803603</td>\n",
       "      <td>7.459441</td>\n",
       "      <td>0.885618</td>\n",
       "      <td>6.121920</td>\n",
       "    </tr>\n",
       "    <tr>\n",
       "      <th>min</th>\n",
       "      <td>53.000000</td>\n",
       "      <td>0.000000</td>\n",
       "      <td>82.000000</td>\n",
       "      <td>1.000000</td>\n",
       "      <td>28.000000</td>\n",
       "      <td>13.644024</td>\n",
       "      <td>43.000000</td>\n",
       "      <td>30.000000</td>\n",
       "      <td>0.000000</td>\n",
       "      <td>0.000000</td>\n",
       "      <td>0.000000</td>\n",
       "      <td>0.000000</td>\n",
       "      <td>0.000000</td>\n",
       "      <td>0.000000</td>\n",
       "      <td>0.000000</td>\n",
       "      <td>0.000000</td>\n",
       "      <td>0.000000</td>\n",
       "      <td>0.000000</td>\n",
       "      <td>0.000000</td>\n",
       "      <td>0.000000</td>\n",
       "      <td>0.000000</td>\n",
       "      <td>0.000000</td>\n",
       "    </tr>\n",
       "    <tr>\n",
       "      <th>25%</th>\n",
       "      <td>63.000000</td>\n",
       "      <td>31.000000</td>\n",
       "      <td>125.000000</td>\n",
       "      <td>4.000000</td>\n",
       "      <td>32.000000</td>\n",
       "      <td>20.980257</td>\n",
       "      <td>248.000000</td>\n",
       "      <td>30.000000</td>\n",
       "      <td>36.000000</td>\n",
       "      <td>0.000000</td>\n",
       "      <td>0.000000</td>\n",
       "      <td>0.000000</td>\n",
       "      <td>0.000000</td>\n",
       "      <td>0.000000</td>\n",
       "      <td>0.000000</td>\n",
       "      <td>0.000000</td>\n",
       "      <td>0.000000</td>\n",
       "      <td>0.000000</td>\n",
       "      <td>0.000000</td>\n",
       "      <td>0.000000</td>\n",
       "      <td>0.000000</td>\n",
       "      <td>0.000000</td>\n",
       "    </tr>\n",
       "    <tr>\n",
       "      <th>50%</th>\n",
       "      <td>65.000000</td>\n",
       "      <td>36.000000</td>\n",
       "      <td>140.000000</td>\n",
       "      <td>5.000000</td>\n",
       "      <td>34.000000</td>\n",
       "      <td>22.860302</td>\n",
       "      <td>376.000000</td>\n",
       "      <td>50.000000</td>\n",
       "      <td>57.000000</td>\n",
       "      <td>0.000000</td>\n",
       "      <td>0.000000</td>\n",
       "      <td>0.000000</td>\n",
       "      <td>0.000000</td>\n",
       "      <td>0.000000</td>\n",
       "      <td>35.000000</td>\n",
       "      <td>0.000000</td>\n",
       "      <td>0.000000</td>\n",
       "      <td>0.000000</td>\n",
       "      <td>0.000000</td>\n",
       "      <td>0.000000</td>\n",
       "      <td>0.000000</td>\n",
       "      <td>0.000000</td>\n",
       "    </tr>\n",
       "    <tr>\n",
       "      <th>75%</th>\n",
       "      <td>67.000000</td>\n",
       "      <td>43.000000</td>\n",
       "      <td>155.000000</td>\n",
       "      <td>5.000000</td>\n",
       "      <td>36.000000</td>\n",
       "      <td>25.544844</td>\n",
       "      <td>500.000000</td>\n",
       "      <td>75.000000</td>\n",
       "      <td>97.000000</td>\n",
       "      <td>0.000000</td>\n",
       "      <td>0.000000</td>\n",
       "      <td>0.000000</td>\n",
       "      <td>0.000000</td>\n",
       "      <td>2.000000</td>\n",
       "      <td>100.000000</td>\n",
       "      <td>0.000000</td>\n",
       "      <td>0.000000</td>\n",
       "      <td>0.000000</td>\n",
       "      <td>20.000000</td>\n",
       "      <td>0.000000</td>\n",
       "      <td>0.000000</td>\n",
       "      <td>0.000000</td>\n",
       "    </tr>\n",
       "    <tr>\n",
       "      <th>max</th>\n",
       "      <td>78.000000</td>\n",
       "      <td>80.000000</td>\n",
       "      <td>295.000000</td>\n",
       "      <td>5.000000</td>\n",
       "      <td>48.000000</td>\n",
       "      <td>58.421053</td>\n",
       "      <td>3595.000000</td>\n",
       "      <td>525.000000</td>\n",
       "      <td>3489.000000</td>\n",
       "      <td>100.000000</td>\n",
       "      <td>100.000000</td>\n",
       "      <td>100.000000</td>\n",
       "      <td>100.000000</td>\n",
       "      <td>98.000000</td>\n",
       "      <td>100.000000</td>\n",
       "      <td>100.000000</td>\n",
       "      <td>55.000000</td>\n",
       "      <td>100.000000</td>\n",
       "      <td>705.000000</td>\n",
       "      <td>82.000000</td>\n",
       "      <td>30.000000</td>\n",
       "      <td>100.000000</td>\n",
       "    </tr>\n",
       "  </tbody>\n",
       "</table>\n",
       "</div>"
      ],
      "text/plain": [
       "              Height            Age         Weight         Rating  \\\n",
       "count  150656.000000  150656.000000  150656.000000  150656.000000   \n",
       "mean       65.266939      37.799059     143.417813       4.334457   \n",
       "std         2.682313       9.152163      25.192587       1.003573   \n",
       "min        53.000000       0.000000      82.000000       1.000000   \n",
       "25%        63.000000      31.000000     125.000000       4.000000   \n",
       "50%        65.000000      36.000000     140.000000       5.000000   \n",
       "75%        67.000000      43.000000     155.000000       5.000000   \n",
       "max        78.000000      80.000000     295.000000       5.000000   \n",
       "\n",
       "           Band_Size            BMI   Retail_price     Rent_price  \\\n",
       "count  150656.000000  150656.000000  150656.000000  150656.000000   \n",
       "mean       34.256186      23.669771     426.111492      60.649891   \n",
       "std         2.049936       3.936386     274.779552      39.113623   \n",
       "min        28.000000      13.644024      43.000000      30.000000   \n",
       "25%        32.000000      20.980257     248.000000      30.000000   \n",
       "50%        34.000000      22.860302     376.000000      50.000000   \n",
       "75%        36.000000      25.544844     500.000000      75.000000   \n",
       "max        48.000000      58.421053    3595.000000     525.000000   \n",
       "\n",
       "       Number_of_reviews         cotton          linen           silk  \\\n",
       "count      150656.000000  150656.000000  150656.000000  150656.000000   \n",
       "mean           90.155958      13.642371       1.100945       6.780314   \n",
       "std           139.020293      32.238776       8.906438      24.233511   \n",
       "min             0.000000       0.000000       0.000000       0.000000   \n",
       "25%            36.000000       0.000000       0.000000       0.000000   \n",
       "50%            57.000000       0.000000       0.000000       0.000000   \n",
       "75%            97.000000       0.000000       0.000000       0.000000   \n",
       "max          3489.000000     100.000000     100.000000     100.000000   \n",
       "\n",
       "             leather        spandex      polyester          nylon  \\\n",
       "count  150656.000000  150656.000000  150656.000000  150656.000000   \n",
       "mean        0.012612       1.701944      46.894740       7.865687   \n",
       "std         1.122943       3.967538      46.242889      21.875125   \n",
       "min         0.000000       0.000000       0.000000       0.000000   \n",
       "25%         0.000000       0.000000       0.000000       0.000000   \n",
       "50%         0.000000       0.000000      35.000000       0.000000   \n",
       "75%         0.000000       2.000000     100.000000       0.000000   \n",
       "max       100.000000      98.000000     100.000000     100.000000   \n",
       "\n",
       "       metallic_fibers           wool          rayon      cellulose  \\\n",
       "count    150656.000000  150656.000000  150656.000000  150656.000000   \n",
       "mean          0.259664       1.603932      16.709417       0.800731   \n",
       "std           2.625383      11.332220      31.803603       7.459441   \n",
       "min           0.000000       0.000000       0.000000       0.000000   \n",
       "25%           0.000000       0.000000       0.000000       0.000000   \n",
       "50%           0.000000       0.000000       0.000000       0.000000   \n",
       "75%           0.000000       0.000000      20.000000       0.000000   \n",
       "max          55.000000     100.000000     705.000000      82.000000   \n",
       "\n",
       "            cashmere         tencel  \n",
       "count  150656.000000  150656.000000  \n",
       "mean        0.035465       0.493588  \n",
       "std         0.885618       6.121920  \n",
       "min         0.000000       0.000000  \n",
       "25%         0.000000       0.000000  \n",
       "50%         0.000000       0.000000  \n",
       "75%         0.000000       0.000000  \n",
       "max        30.000000     100.000000  "
      ]
     },
     "execution_count": 22,
     "metadata": {},
     "output_type": "execute_result"
    }
   ],
   "source": [
    "#What are the summary statistics for the numeric features. \n",
    "df.describe()"
   ]
  },
  {
   "cell_type": "code",
   "execution_count": 23,
   "id": "aedd1d97",
   "metadata": {},
   "outputs": [
    {
     "data": {
      "image/png": "[encoded data removed]",
      "text/plain": [
       "<Figure size 432x432 with 1 Axes>"
      ]
     },
     "metadata": {
      "needs_background": "light"
     },
     "output_type": "display_data"
    }
   ],
   "source": [
    "#what is the distribution of the rented price of the garments?\n",
    "plt.figure(figsize=(6,6));\n",
    "sns.histplot(data=df, x=\"Rent_price\",bins=30).set(title='Rent Prices of Dresses');"
   ]
  },
  {
   "cell_type": "code",
   "execution_count": 24,
   "id": "19a3b7a0",
   "metadata": {},
   "outputs": [
    {
     "data": {
      "text/plain": [
       "60.64989114273577"
      ]
     },
     "execution_count": 24,
     "metadata": {},
     "output_type": "execute_result"
    }
   ],
   "source": [
    "#The average rent price of the garment is $60. \n",
    "df.Rent_price.mean()"
   ]
  },
  {
   "cell_type": "code",
   "execution_count": 25,
   "id": "1532a1b3",
   "metadata": {},
   "outputs": [
    {
     "data": {
      "text/html": [
       "<div>\n",
       "<style scoped>\n",
       "    .dataframe tbody tr th:only-of-type {\n",
       "        vertical-align: middle;\n",
       "    }\n",
       "\n",
       "    .dataframe tbody tr th {\n",
       "        vertical-align: top;\n",
       "    }\n",
       "\n",
       "    .dataframe thead th {\n",
       "        text-align: right;\n",
       "    }\n",
       "</style>\n",
       "<table border=\"1\" class=\"dataframe\">\n",
       "  <thead>\n",
       "    <tr style=\"text-align: right;\">\n",
       "      <th></th>\n",
       "      <th>Percentile</th>\n",
       "      <th>Rent_price</th>\n",
       "    </tr>\n",
       "  </thead>\n",
       "  <tbody>\n",
       "    <tr>\n",
       "      <th>0</th>\n",
       "      <td>min</td>\n",
       "      <td>30.0</td>\n",
       "    </tr>\n",
       "    <tr>\n",
       "      <th>1</th>\n",
       "      <td>10th</td>\n",
       "      <td>30.0</td>\n",
       "    </tr>\n",
       "    <tr>\n",
       "      <th>2</th>\n",
       "      <td>20th</td>\n",
       "      <td>30.0</td>\n",
       "    </tr>\n",
       "    <tr>\n",
       "      <th>3</th>\n",
       "      <td>30th</td>\n",
       "      <td>35.0</td>\n",
       "    </tr>\n",
       "    <tr>\n",
       "      <th>4</th>\n",
       "      <td>40th</td>\n",
       "      <td>41.0</td>\n",
       "    </tr>\n",
       "    <tr>\n",
       "      <th>5</th>\n",
       "      <td>50th</td>\n",
       "      <td>50.0</td>\n",
       "    </tr>\n",
       "    <tr>\n",
       "      <th>6</th>\n",
       "      <td>60th</td>\n",
       "      <td>60.0</td>\n",
       "    </tr>\n",
       "    <tr>\n",
       "      <th>7</th>\n",
       "      <td>70th</td>\n",
       "      <td>70.0</td>\n",
       "    </tr>\n",
       "    <tr>\n",
       "      <th>8</th>\n",
       "      <td>80th</td>\n",
       "      <td>80.0</td>\n",
       "    </tr>\n",
       "    <tr>\n",
       "      <th>9</th>\n",
       "      <td>90th</td>\n",
       "      <td>100.0</td>\n",
       "    </tr>\n",
       "    <tr>\n",
       "      <th>10</th>\n",
       "      <td>max</td>\n",
       "      <td>525.0</td>\n",
       "    </tr>\n",
       "  </tbody>\n",
       "</table>\n",
       "</div>"
      ],
      "text/plain": [
       "   Percentile  Rent_price\n",
       "0         min        30.0\n",
       "1        10th        30.0\n",
       "2        20th        30.0\n",
       "3        30th        35.0\n",
       "4        40th        41.0\n",
       "5        50th        50.0\n",
       "6        60th        60.0\n",
       "7        70th        70.0\n",
       "8        80th        80.0\n",
       "9        90th       100.0\n",
       "10        max       525.0"
      ]
     },
     "execution_count": 25,
     "metadata": {},
     "output_type": "execute_result"
    }
   ],
   "source": [
    "#The median rent price of the garment is $50 and 90% of the garment costing $100.00 or less to rent. \n",
    "percentile_table_rent_prices = create_percentile_table('Rent_price')\n",
    "percentile_table_rent_prices "
   ]
  },
  {
   "cell_type": "code",
   "execution_count": 26,
   "id": "84b025ea",
   "metadata": {},
   "outputs": [
    {
     "data": {
      "image/png": "[encoded data removed]",
      "text/plain": [
       "<Figure size 432x432 with 1 Axes>"
      ]
     },
     "metadata": {
      "needs_background": "light"
     },
     "output_type": "display_data"
    }
   ],
   "source": [
    "#What is Age distribution of the customers? \n",
    "plt.figure(figsize=(6,6));\n",
    "sns.histplot(data=df, x=\"Age\",bins=30).set(title='Ages of Customers');"
   ]
  },
  {
   "cell_type": "code",
   "execution_count": 27,
   "id": "52897939",
   "metadata": {},
   "outputs": [
    {
     "data": {
      "text/plain": [
       "37.799058782922685"
      ]
     },
     "execution_count": 27,
     "metadata": {},
     "output_type": "execute_result"
    }
   ],
   "source": [
    "#The average age of the customer is 37 years old. \n",
    "df.Age.mean() "
   ]
  },
  {
   "cell_type": "code",
   "execution_count": 28,
   "id": "60a85ae5",
   "metadata": {},
   "outputs": [
    {
     "data": {
      "text/html": [
       "<div>\n",
       "<style scoped>\n",
       "    .dataframe tbody tr th:only-of-type {\n",
       "        vertical-align: middle;\n",
       "    }\n",
       "\n",
       "    .dataframe tbody tr th {\n",
       "        vertical-align: top;\n",
       "    }\n",
       "\n",
       "    .dataframe thead th {\n",
       "        text-align: right;\n",
       "    }\n",
       "</style>\n",
       "<table border=\"1\" class=\"dataframe\">\n",
       "  <thead>\n",
       "    <tr style=\"text-align: right;\">\n",
       "      <th></th>\n",
       "      <th>Percentile</th>\n",
       "      <th>Age</th>\n",
       "    </tr>\n",
       "  </thead>\n",
       "  <tbody>\n",
       "    <tr>\n",
       "      <th>0</th>\n",
       "      <td>min</td>\n",
       "      <td>0.0</td>\n",
       "    </tr>\n",
       "    <tr>\n",
       "      <th>1</th>\n",
       "      <td>10th</td>\n",
       "      <td>28.0</td>\n",
       "    </tr>\n",
       "    <tr>\n",
       "      <th>2</th>\n",
       "      <td>20th</td>\n",
       "      <td>30.0</td>\n",
       "    </tr>\n",
       "    <tr>\n",
       "      <th>3</th>\n",
       "      <td>30th</td>\n",
       "      <td>32.0</td>\n",
       "    </tr>\n",
       "    <tr>\n",
       "      <th>4</th>\n",
       "      <td>40th</td>\n",
       "      <td>34.0</td>\n",
       "    </tr>\n",
       "    <tr>\n",
       "      <th>5</th>\n",
       "      <td>50th</td>\n",
       "      <td>36.0</td>\n",
       "    </tr>\n",
       "    <tr>\n",
       "      <th>6</th>\n",
       "      <td>60th</td>\n",
       "      <td>39.0</td>\n",
       "    </tr>\n",
       "    <tr>\n",
       "      <th>7</th>\n",
       "      <td>70th</td>\n",
       "      <td>41.0</td>\n",
       "    </tr>\n",
       "    <tr>\n",
       "      <th>8</th>\n",
       "      <td>80th</td>\n",
       "      <td>45.0</td>\n",
       "    </tr>\n",
       "    <tr>\n",
       "      <th>9</th>\n",
       "      <td>90th</td>\n",
       "      <td>51.0</td>\n",
       "    </tr>\n",
       "    <tr>\n",
       "      <th>10</th>\n",
       "      <td>max</td>\n",
       "      <td>80.0</td>\n",
       "    </tr>\n",
       "  </tbody>\n",
       "</table>\n",
       "</div>"
      ],
      "text/plain": [
       "   Percentile   Age\n",
       "0         min   0.0\n",
       "1        10th  28.0\n",
       "2        20th  30.0\n",
       "3        30th  32.0\n",
       "4        40th  34.0\n",
       "5        50th  36.0\n",
       "6        60th  39.0\n",
       "7        70th  41.0\n",
       "8        80th  45.0\n",
       "9        90th  51.0\n",
       "10        max  80.0"
      ]
     },
     "execution_count": 28,
     "metadata": {},
     "output_type": "execute_result"
    }
   ],
   "source": [
    "#The median age of the customer is 36 years old and 90% of the customers are 51 years old or younger. \n",
    "percentile_table_Age = create_percentile_table('Age')\n",
    "percentile_table_Age"
   ]
  },
  {
   "cell_type": "code",
   "execution_count": 29,
   "id": "fc3a2d3d",
   "metadata": {},
   "outputs": [
    {
     "data": {
      "image/png": "[encoded data removed]",
      "text/plain": [
       "<Figure size 432x432 with 1 Axes>"
      ]
     },
     "metadata": {
      "needs_background": "light"
     },
     "output_type": "display_data"
    }
   ],
   "source": [
    "#What is Height distribution of the customers? \n",
    "plt.figure(figsize=(6,6));\n",
    "sns.histplot(data=df, x=\"Height\",bins=25).set(title='Heights of Customers (in inches)');"
   ]
  },
  {
   "cell_type": "code",
   "execution_count": 30,
   "id": "71bbc593",
   "metadata": {},
   "outputs": [
    {
     "data": {
      "text/html": [
       "<div>\n",
       "<style scoped>\n",
       "    .dataframe tbody tr th:only-of-type {\n",
       "        vertical-align: middle;\n",
       "    }\n",
       "\n",
       "    .dataframe tbody tr th {\n",
       "        vertical-align: top;\n",
       "    }\n",
       "\n",
       "    .dataframe thead th {\n",
       "        text-align: right;\n",
       "    }\n",
       "</style>\n",
       "<table border=\"1\" class=\"dataframe\">\n",
       "  <thead>\n",
       "    <tr style=\"text-align: right;\">\n",
       "      <th></th>\n",
       "      <th>Percentile</th>\n",
       "      <th>Height</th>\n",
       "    </tr>\n",
       "  </thead>\n",
       "  <tbody>\n",
       "    <tr>\n",
       "      <th>0</th>\n",
       "      <td>min</td>\n",
       "      <td>53.0</td>\n",
       "    </tr>\n",
       "    <tr>\n",
       "      <th>1</th>\n",
       "      <td>10th</td>\n",
       "      <td>62.0</td>\n",
       "    </tr>\n",
       "    <tr>\n",
       "      <th>2</th>\n",
       "      <td>20th</td>\n",
       "      <td>63.0</td>\n",
       "    </tr>\n",
       "    <tr>\n",
       "      <th>3</th>\n",
       "      <td>30th</td>\n",
       "      <td>64.0</td>\n",
       "    </tr>\n",
       "    <tr>\n",
       "      <th>4</th>\n",
       "      <td>40th</td>\n",
       "      <td>64.0</td>\n",
       "    </tr>\n",
       "    <tr>\n",
       "      <th>5</th>\n",
       "      <td>50th</td>\n",
       "      <td>65.0</td>\n",
       "    </tr>\n",
       "    <tr>\n",
       "      <th>6</th>\n",
       "      <td>60th</td>\n",
       "      <td>66.0</td>\n",
       "    </tr>\n",
       "    <tr>\n",
       "      <th>7</th>\n",
       "      <td>70th</td>\n",
       "      <td>67.0</td>\n",
       "    </tr>\n",
       "    <tr>\n",
       "      <th>8</th>\n",
       "      <td>80th</td>\n",
       "      <td>68.0</td>\n",
       "    </tr>\n",
       "    <tr>\n",
       "      <th>9</th>\n",
       "      <td>90th</td>\n",
       "      <td>69.0</td>\n",
       "    </tr>\n",
       "    <tr>\n",
       "      <th>10</th>\n",
       "      <td>max</td>\n",
       "      <td>78.0</td>\n",
       "    </tr>\n",
       "  </tbody>\n",
       "</table>\n",
       "</div>"
      ],
      "text/plain": [
       "   Percentile  Height\n",
       "0         min    53.0\n",
       "1        10th    62.0\n",
       "2        20th    63.0\n",
       "3        30th    64.0\n",
       "4        40th    64.0\n",
       "5        50th    65.0\n",
       "6        60th    66.0\n",
       "7        70th    67.0\n",
       "8        80th    68.0\n",
       "9        90th    69.0\n",
       "10        max    78.0"
      ]
     },
     "execution_count": 30,
     "metadata": {},
     "output_type": "execute_result"
    }
   ],
   "source": [
    "#The median height of the customer is 5 feet and 4 inches.  \n",
    "percentile_table_Height = create_percentile_table('Height')\n",
    "percentile_table_Height"
   ]
  },
  {
   "cell_type": "code",
   "execution_count": 31,
   "id": "3a9ca22f",
   "metadata": {},
   "outputs": [
    {
     "data": {
      "image/png": "[encoded data removed]",
      "text/plain": [
       "<Figure size 432x432 with 1 Axes>"
      ]
     },
     "metadata": {
      "needs_background": "light"
     },
     "output_type": "display_data"
    }
   ],
   "source": [
    "#What is Weight distribution of the customers? \n",
    "\n",
    "plt.figure(figsize=(6,6));\n",
    "sns.histplot(data=df, x=\"Weight\",bins=20).set(title='Weights of Customers (in pounds)');"
   ]
  },
  {
   "cell_type": "code",
   "execution_count": 32,
   "id": "78f4aad6",
   "metadata": {},
   "outputs": [
    {
     "name": "stdout",
     "output_type": "stream",
     "text": [
      "143.41781276550552\n"
     ]
    },
    {
     "data": {
      "text/plain": [
       "140.0"
      ]
     },
     "execution_count": 32,
     "metadata": {},
     "output_type": "execute_result"
    }
   ],
   "source": [
    "#The average weight of the customer is 143 pounds. The median weight of the customer is 140.00 pounds. \n",
    "print(df.Weight.mean())\n",
    "df.Weight.quantile(0.5)"
   ]
  },
  {
   "cell_type": "code",
   "execution_count": 33,
   "id": "a2751da4",
   "metadata": {},
   "outputs": [
    {
     "data": {
      "image/png": "[encoded data removed]",
      "text/plain": [
       "<Figure size 432x288 with 1 Axes>"
      ]
     },
     "metadata": {},
     "output_type": "display_data"
    }
   ],
   "source": [
    "#What is the Body Type distribution of the customers? \n",
    "sns.set(style=\"whitegrid\")\n",
    "df.Body_type.value_counts().plot(kind=\"bar\");"
   ]
  },
  {
   "cell_type": "code",
   "execution_count": 34,
   "id": "b5909bdf",
   "metadata": {},
   "outputs": [
    {
     "data": {
      "image/png": "[encoded data removed]",
      "text/plain": [
       "<Figure size 432x288 with 1 Axes>"
      ]
     },
     "metadata": {},
     "output_type": "display_data"
    }
   ],
   "source": [
    "# What is the distribution of the events rented for ? \n",
    "#It looks like about 25% of the customers rent the clothes for work. \n",
    "df.Rented_for.value_counts(normalize=True).plot(kind=\"bar\");"
   ]
  },
  {
   "cell_type": "code",
   "execution_count": 36,
   "id": "58b95949",
   "metadata": {},
   "outputs": [
    {
     "data": {
      "image/png": "[encoded data removed]",
      "text/plain": [
       "<Figure size 432x288 with 1 Axes>"
      ]
     },
     "metadata": {},
     "output_type": "display_data"
    }
   ],
   "source": [
    "# What is the distribution for ratings for garments look like? \n",
    "#It looks like: \n",
    "# 5 - 60% , 4 - 23%, 3 - 10%, 2 - 4% , 1 - 3% \n",
    "df.Rating.value_counts(normalize=True).plot(kind=\"bar\");"
   ]
  },
  {
   "cell_type": "code",
   "execution_count": 37,
   "id": "a0add9b0",
   "metadata": {},
   "outputs": [],
   "source": [
    "#Binarize the Predictor Variable: Satisfaction Rating \n",
    "# 1: Not Satisfied with Rental (Satisfaction Rating of 1,2,3) \n",
    "# 0: Satisfied with Rental (Satisfaction Rating 4,5)\n",
    "df['Rating'] = np.where(df['Rating'] <= 3, 1, 0)"
   ]
  },
  {
   "cell_type": "code",
   "execution_count": 38,
   "id": "d75cb3b8",
   "metadata": {},
   "outputs": [
    {
     "data": {
      "image/png": "[encoded data removed]",
      "text/plain": [
       "<Figure size 432x288 with 1 Axes>"
      ]
     },
     "metadata": {},
     "output_type": "display_data"
    }
   ],
   "source": [
    "# 1: Not Satisfied with Rental (Satisfaction Rating of 1,2,3) - 16% \n",
    "# 0: Satisfied with Rental (Satisfaction Rating 4,5) - 83%\n",
    "\n",
    "df.Rating.value_counts(normalize=True).plot(kind=\"bar\");"
   ]
  },
  {
   "cell_type": "code",
   "execution_count": 39,
   "id": "5ae0e5ac",
   "metadata": {},
   "outputs": [
    {
     "name": "stderr",
     "output_type": "stream",
     "text": [
      "C:\\Users\\Katri\\anaconda3\\envs\\tf-gpu\\lib\\site-packages\\seaborn\\_decorators.py:36: FutureWarning: Pass the following variable as a keyword arg: x. From version 0.12, the only valid positional argument will be `data`, and passing other arguments without an explicit keyword will result in an error or misinterpretation.\n",
      "  warnings.warn(\n"
     ]
    },
    {
     "data": {
      "image/png": "[encoded data removed]",
      "text/plain": [
       "<Figure size 1125.72x360 with 1 Axes>"
      ]
     },
     "metadata": {},
     "output_type": "display_data"
    }
   ],
   "source": [
    "# Take a look at the Age distribution for satisifed and unsatisfied customers. \n",
    "# The Age distribution looks similar for both groups. \n",
    "with sns.axes_style('white'):\n",
    "    g = sns.catplot(\"Age\", data=df, aspect=3.0, kind='count', hue='Rating', order=range(5, 80))\n",
    "    g.set_ylabels('Age vs Passenger Satisfaction')"
   ]
  },
  {
   "cell_type": "code",
   "execution_count": null,
   "id": "d7896c35",
   "metadata": {},
   "outputs": [],
   "source": [
    "#Let's look at the correlation matrix of the features. First label encode all the categorical features. \n",
    "# We can see that Retail price and rent price are very highly correlated. That is because \n",
    "#Rent price is probably a certain percentage of the Retail price.\n",
    "#Remove the Retail price column for the modeling process. \n",
    "\n",
    "#Also BMI and weight are related. Keep Weight variable. "
   ]
  },
  {
   "cell_type": "code",
   "execution_count": 24,
   "id": "cacc8dc1",
   "metadata": {},
   "outputs": [],
   "source": [
    "from sklearn.preprocessing import LabelEncoder"
   ]
  },
  {
   "cell_type": "code",
   "execution_count": 25,
   "id": "8baa2038",
   "metadata": {},
   "outputs": [],
   "source": [
    "\n",
    "lencoders = {}\n",
    "for col in df.select_dtypes(include=['object']).columns:\n",
    "    lencoders[col] = LabelEncoder()\n",
    "    df[col] = lencoders[col].fit_transform(df[col])"
   ]
  },
  {
   "cell_type": "code",
   "execution_count": 26,
   "id": "9d81d5a8",
   "metadata": {},
   "outputs": [
    {
     "name": "stderr",
     "output_type": "stream",
     "text": [
      "C:\\Users\\Katri\\AppData\\Local\\Temp\\ipykernel_11584\\4157776663.py:2: DeprecationWarning: `np.bool` is a deprecated alias for the builtin `bool`. To silence this warning, use `bool` by itself. Doing this will not modify any behavior and is safe. If you specifically wanted the numpy scalar type, use `np.bool_` here.\n",
      "Deprecated in NumPy 1.20; for more details and guidance: https://numpy.org/devdocs/release/1.20.0-notes.html#deprecations\n",
      "  mask = np.triu(np.ones_like(corr, dtype=np.bool))\n"
     ]
    },
    {
     "data": {
      "text/plain": [
       "<AxesSubplot:>"
      ]
     },
     "execution_count": 26,
     "metadata": {},
     "output_type": "execute_result"
    },
    {
     "data": {
      "image/png": "[encoded data removed]",
      "text/plain": [
       "<Figure size 1440x1440 with 2 Axes>"
      ]
     },
     "metadata": {},
     "output_type": "display_data"
    }
   ],
   "source": [
    "corr = df.corr()\n",
    "mask = np.triu(np.ones_like(corr, dtype=np.bool))\n",
    "f, ax = plt.subplots(figsize=(20, 20))\n",
    "cmap = sns.diverging_palette(240, 10, as_cmap=True)\n",
    "sns.heatmap(corr, mask=mask, cmap=cmap, vmax=None, center=0,square=True, annot=True, linewidths=.5, cbar_kws={\"shrink\": .9})"
   ]
  }
 ],
 "metadata": {
  "kernelspec": {
   "display_name": "Python 3 (ipykernel)",
   "language": "python",
   "name": "python3"
  },
  "language_info": {
   "codemirror_mode": {
    "name": "ipython",
    "version": 3
   },
   "file_extension": ".py",
   "mimetype": "text/x-python",
   "name": "python",
   "nbconvert_exporter": "python",
   "pygments_lexer": "ipython3",
   "version": "3.9.11"
  }
 },
 "nbformat": 4,
 "nbformat_minor": 5
}
