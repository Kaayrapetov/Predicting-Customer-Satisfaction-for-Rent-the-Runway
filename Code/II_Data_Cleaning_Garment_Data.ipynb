{
 "cells": [
  {
   "cell_type": "markdown",
   "id": "bfcd88a2",
   "metadata": {},
   "source": [
    "\n",
    "# Predicting Customer Satisfaction on Rent the Runway\n",
    "\n",
    "##  II. Data Cleaning for Garment Data \n",
    "### Katrin Ayrapetov\n",
    "\n",
    "\n",
    "<font style=\"font-size: 2rem; color: blue\">\n",
    "\n",
    "\n",
    " \n",
    "</font>"
   ]
  },
  {
   "cell_type": "markdown",
   "id": "65928128",
   "metadata": {},
   "source": [
    "### Overview of the Notebook: \n",
    "\n",
    "Data was scraped from the website Rent_the_Runway. There is a total of  208,747 observations. In the notebook, I_Data_Cleaning_Customer_Information, features describing the customer were cleaned. The new data set has 161,418 features. \n",
    "\n",
    "In this notebook, features describing the dress will be cleaned. \n",
    "\n",
    "**Features describing the customer:**  Nickname, Type_of_customer, Size of the garment customer rented, Size the customer usually wears, Height, Age, Bust Size, Body Type, Weight, Date the customer rented the garment, Reason the garment was rented, Overall fit of the garment  \n",
    "\n",
    "**Features describing the dress:** Retail Price of the garment, Rent price of the garment, Product Details, Number of Reviews left for that Garment \n",
    "\n",
    "In this notebook, the features describing the dress will be cleaned.  \n",
    "* The Retail price of the dress, the Rent price of dress, the number of reviews left for the dress will be stripped off extra symbols and just turned into an integer. \n",
    "* The product description will be broken up into three additional features: Sleeves, Neckline and Dress Style. \n",
    "* For example:\n",
    "<br> &emsp;&emsp; **Product Detail:** 'Blue printed cotton (69% Cotton, 27% Nylon, 4% Spandex). Hourglass. Sleeveless. Square neckline. 45\" from shoulder to hemline.' <br>\n",
    "becomes \n",
    "<br> &emsp;&emsp; **New Features:** \n",
    "<br> &emsp;&emsp; **Sleeves:** Sleeveless, \n",
    "<br>&emsp;&emsp; **Neckline:** Square Neckline, \n",
    "<br>&emsp;&emsp; **Dress_Style:** Hourglass \n",
    "* At the end of the garment data cleaning, the data set has: 156,433 observations. "
   ]
  },
  {
   "cell_type": "code",
   "execution_count": 884,
   "id": "1bb83611",
   "metadata": {},
   "outputs": [],
   "source": [
    "#Import the libraries needed\n",
    "import pandas as pd\n",
    "import re\n",
    "pd.set_option(\"display.max_columns\",None)\n",
    "pd.set_option(\"display.max_rows\",None)"
   ]
  },
  {
   "cell_type": "code",
   "execution_count": 885,
   "id": "33801aee",
   "metadata": {},
   "outputs": [],
   "source": [
    "#Import the Data Set \n",
    "df =  pd.read_csv('../Data/df_customer_data_cleaned.csv')"
   ]
  },
  {
   "cell_type": "code",
   "execution_count": 886,
   "id": "30fbf384",
   "metadata": {},
   "outputs": [
    {
     "data": {
      "text/plain": [
       "(151499, 21)"
      ]
     },
     "execution_count": 886,
     "metadata": {},
     "output_type": "execute_result"
    }
   ],
   "source": [
    "df.shape"
   ]
  },
  {
   "cell_type": "code",
   "execution_count": 887,
   "id": "2554a1fc",
   "metadata": {},
   "outputs": [],
   "source": [
    "df = df.drop_duplicates(subset='Dress_Description', keep='first')\n",
    "df = df.reset_index()\n",
    "df.drop(columns=[\"index\"],inplace=True)"
   ]
  },
  {
   "cell_type": "code",
   "execution_count": 888,
   "id": "73f92f3d",
   "metadata": {},
   "outputs": [],
   "source": [
    "maternity_index = []\n",
    "for i in range(df.shape[0]):\n",
    "    if \"maternity\" in df['Dress_Description'][i]:\n",
    "        maternity_index.append(i)\n",
    "df = df.drop(labels=maternity_index, axis=0)\n",
    "df = df.reset_index()\n",
    "df.drop(columns=[\"index\"],inplace=True)"
   ]
  },
  {
   "cell_type": "code",
   "execution_count": 889,
   "id": "da69d635",
   "metadata": {},
   "outputs": [],
   "source": [
    "#Fix Typos in the Product Detail \n",
    "# Hit the hand entries here. \n",
    "df['Product_details'] = df['Product_details'].str.lower()\n",
    "df[\"Product_details\"]=df[\"Product_details\"].replace(\"sleeve slit\",\"\", regex=True)\n",
    "df[\"Product_details\"]=df[\"Product_details\"].replace(\"sleees\",\"sleeves\", regex=True)\n",
    "df[\"Product_details\"]=df[\"Product_details\"].replace(\"sleves\",\"sleeves\", regex=True)\n",
    "df[\"Product_details\"]=df[\"Product_details\"].replace(\"necline\",\"neckline\", regex=True)\n",
    "df[\"Product_details\"]=df[\"Product_details\"].replace(\"slevees\",\"sleeves\", regex=True)\n",
    "df[\"Product_details\"]=df[\"Product_details\"].replace(\"shoudler\",\"shoulder\", regex=True)\n",
    "df[\"Product_details\"]=df[\"Product_details\"].replace(\"sleevleess\",\"sleeveless\", regex=True)\n",
    "df[\"Product_details\"]=df[\"Product_details\"].replace(\"sleevess\",\"sleeveless\", regex=True)\n",
    "df[\"Product_details\"]=df[\"Product_details\"].replace(\"sleevelss\",\"sleeveless\", regex=True)\n",
    "df[\"Product_details\"]=df[\"Product_details\"].replace(\"sleevless\",\"sleeveless\", regex=True)\n",
    "df[\"Product_details\"]=df[\"Product_details\"].replace(\"recycled\",\"\", regex=True)\n",
    "df[\"Product_details\"]=df[\"Product_details\"].replace(\"organic \",\"\", regex=True)\n",
    "df[\"Product_details\"]=df[\"Product_details\"].replace(\"merino \",\"\", regex=True)\n",
    "df[\"Product_details\"]=df[\"Product_details\"].replace(\"virgin \",\"\", regex=True)\n",
    "df[\"Product_details\"]=df[\"Product_details\"].replace(\"metallic fibers\",\"metallic_fibers\", regex=True)\n",
    "df[\"Product_details\"]=df[\"Product_details\"].replace(\"metallic fiber\",\"metallic_fibers\", regex=True)\n",
    "df[\"Product_details\"]=df[\"Product_details\"].replace(\"metallic thread\",\"metallic_fibers\", regex=True)\n",
    "df[\"Product_details\"]=df[\"Product_details\"].replace(\"metallic threads\",\"metallic_fibers\", regex=True)\n",
    "df[\"Product_details\"]=df[\"Product_details\"].replace(\"tencel modal\",\"tencel_modal\", regex=True)\n",
    "df[\"Product_details\"]=df[\"Product_details\"].replace(\"other fibers\",\"other_fibers\", regex=True)\n",
    "df[\"Product_details\"]=df[\"Product_details\"].replace(\"bci\",\"\", regex=True)\n",
    "df[\"Product_details\"]=df[\"Product_details\"].replace(\"sustainable \",\"\", regex=True)\n",
    "df[\"Product_details\"]=df[\"Product_details\"].replace(\"extrafine\",\"\", regex=True)\n",
    "df[\"Product_details\"]=df[\"Product_details\"].replace(\"mettalized fiber\",\"metallic_fibers\", regex=True)\n",
    "df[\"Product_details\"]=df[\"Product_details\"].replace(\"elite\",\"\", regex=True)\n",
    "df[\"Product_details\"]=df[\"Product_details\"].replace(\"alpaca\",\"\", regex=True)\n",
    "df[\"Product_details\"]=df[\"Product_details\"].replace(\"other fibers\",\"metallic_fibers\", regex=True)\n",
    "df[\"Product_details\"]=df[\"Product_details\"].replace(\"recycled \",\"\", regex=True)\n",
    "df[\"Product_details\"]=df[\"Product_details\"].replace(\"cady\",\"\", regex=True)\n",
    "df[\"Product_details\"]=df[\"Product_details\"].replace(\"french\",\"\", regex=True)\n",
    "df[\"Product_details\"]=df[\"Product_details\"].replace(\"995% polyester\",\"(95% polyester\", regex=True)"
   ]
  },
  {
   "cell_type": "code",
   "execution_count": 890,
   "id": "664ae729",
   "metadata": {},
   "outputs": [],
   "source": [
    "product_correction_df =  pd.read_csv('../Data/product_details_correction_df.csv')"
   ]
  },
  {
   "cell_type": "code",
   "execution_count": 891,
   "id": "08133cf3",
   "metadata": {},
   "outputs": [],
   "source": [
    "for i in range(product_correction_df.shape[0]):\n",
    "    num = df[df['Dress_Description'] ==product_correction_df[\"dress\"][i]].index[0]\n",
    "    df.at[num, \"Product_details\"] = product_correction_df[\"details\"][i]"
   ]
  },
  {
   "cell_type": "code",
   "execution_count": 892,
   "id": "076a1160",
   "metadata": {},
   "outputs": [],
   "source": [
    "for i in range(df.shape[0]):\n",
    "    if \"opening ceremony\" in df[\"Brand\"][i] and \"novelty rib knit dress\" in df[\"Dress_Description\"][i]:\n",
    "         df.at[i, \"Product_details\"] = \"black knit (40% wool, 33% viscose, 27% nylon). sheath. long sleeves. crew neckline, 46 from shoulder to hemline. imported.\"\n",
    "    if \"badgley mischka\" in df[\"Brand\"][i] and \"rosalind peplum gown\" in df[\"Dress_Description\"][i]:\n",
    "         df.at[i, \"Product_details\"] = \"black stretch crepe (98% polyester, 2% spandex). strapless. sweetheart neckline. 58\"\n",
    "    if \"parker\" in df[\"Brand\"][i] and \"black rory dress\" in df[\"Dress_Description\"][i]:\n",
    "         df.at[i, \"Product_details\"] = 'black crepe (89% polyester, 11% elastane). cap sleeves. 35 '\n",
    "    if \"area stars\" in df[\"Brand\"][i] and \"grey tia dress\" in df[\"Dress_Description\"][i]:\n",
    "         df.at[i, \"Product_details\"] = 'grey and white cotton(100% cotton). hourglass. long sleeves. v-neckline. 33\" from shoulder to hemline. imported.'\n",
    "    if \"hervé léger\" in df[\"Brand\"][i] and \"cutout gown\" in df[\"Dress_Description\"][i]:   \n",
    "         df.at[i, \"Product_details\"] = 'brown knit (22% viscose, 22% nylon, 3% spandex). sheath. halter neck. sleeveless.  49\" from shoulder to hemline. '\n",
    "    if \"area stars\" in df[\"Brand\"][i] and \"grey tia dress\" in df[\"Dress_Description\"][i]:    \n",
    "        df.at[i, \"Product_details\"] = \"embroidery details (100% cotton). hourglass. long sleeves. v-neckline. 33 from\"\n",
    "    if \"j.crew\" in df[\"Brand\"][i] and \"pink turtleneck dress\" in df[\"Dress_Description\"][i]:     \n",
    "        df.at[i, \"Product_details\"] = \"pink knit (56% nylon, 30% wool, 4% spandex). shift. long sleeves. high neck. 43 shoulder\"\n",
    "    if \"goen. j\" in df[\"Brand\"][i] and \"vegas python printed dress\" in df[\"Dress_Description\"][i]:\n",
    "        df.at[i, \"Product_details\"] = \"python printed chiffon (100% polyester). shift. sleeveless. v-neckline. hidden back zipper closure.  40 from\"\n",
    "    if \"badgley mischka\" in df[\"Brand\"][i] and \"ivy gown\" in df[\"Dress_Description\"][i]:\n",
    "        df.at[i, \"Product_details\"] ='green . (100% polyester, 97% polyester, 3% spandex). sleeveless. crew neckline. 61'\n",
    "    if \"ml monique lhuillier\" in df[\"Brand\"][i] and \"ruffle skirt day dress\" in df[\"Dress_Description\"][i]:\n",
    "        df.at[i, \"Product_details\"] ='cayenne multi woven (100% viscose). blouson. three quarter sleeves. crew neckline. 44\" from shoulder to hemline. imported.'\n"
   ]
  },
  {
   "cell_type": "markdown",
   "id": "10b527ce",
   "metadata": {},
   "source": [
    "#### Fabrics "
   ]
  },
  {
   "cell_type": "code",
   "execution_count": 893,
   "id": "b7db0d17",
   "metadata": {},
   "outputs": [],
   "source": [
    "#Create a column for things that are inside the parentheses\n",
    "df[\"Fabric\"] = \"unknown\"\n",
    "df[\"Fabric\"] = df[\"Fabric\"].astype('object')\n",
    "for i in range(df.shape[0]):\n",
    "    s = df[\"Product_details\"][i]\n",
    "    result = re.findall('\\\\(.*?\\\\)', s)\n",
    "    df.at[i, 'Fabric'] = result\n",
    "    for item in result:\n",
    "           s = s.replace(item,\"\")\n",
    "    df.at[i, 'Product_details'] = s   \n"
   ]
  },
  {
   "cell_type": "code",
   "execution_count": 894,
   "id": "62680115",
   "metadata": {},
   "outputs": [],
   "source": [
    "for i in range(df.shape[0]):\n",
    "    if len(df[\"Fabric\"][i])>0:\n",
    "        df.at[i, \"Fabric\"] = df[\"Fabric\"][i][0].replace(\")\",\"\").replace(\"(\",\"\")\n",
    "    else:\n",
    "        df.at[i, \"Fabric\"] = \"unknown\""
   ]
  },
  {
   "cell_type": "code",
   "execution_count": 895,
   "id": "ba92c4ca",
   "metadata": {},
   "outputs": [],
   "source": [
    "Missing_Fabric =  pd.read_csv('../Data/Missing_Fabric.csv')\n",
    "Missing_Fabric['dress'] = Missing_Fabric['dress'].str.lower()\n",
    "for i in range(Missing_Fabric.shape[0]):\n",
    "    num = df[df['Dress_Description'] == Missing_Fabric[\"dress\"][i]].index[0]\n",
    "    df.at[num, \"Fabric\"] = Missing_Fabric[\"fabric\"][i]"
   ]
  },
  {
   "cell_type": "code",
   "execution_count": 896,
   "id": "3780f8d8",
   "metadata": {},
   "outputs": [],
   "source": [
    "Missing_Fabric_2 =  pd.read_csv('../Data/Missing_Fabric_2.csv')\n",
    "for i in range(Missing_Fabric_2.shape[0]):\n",
    "    num = df[df['Dress_Description'] == Missing_Fabric_2[\"dress\"][i]].index[0]\n",
    "    df.at[num, \"Fabric\"] = Missing_Fabric_2[\"fabrics\"][i]"
   ]
  },
  {
   "cell_type": "code",
   "execution_count": 897,
   "id": "20ef19b2",
   "metadata": {},
   "outputs": [],
   "source": [
    "df[\"Fabric\"]=df[\"Fabric\"].replace(\"%\",\" \", regex=True).replace(\",\",\"\",regex=True).replace(\";\",\"\",regex=True).replace(\";\",\"\",regex=True).replace(\"elastane;\",\"\",regex=True)\n",
    "for i in range(df.shape[0]):\n",
    "    df.at[i, \"Fabric\"] = df[\"Fabric\"][i].split()"
   ]
  },
  {
   "cell_type": "code",
   "execution_count": null,
   "id": "70c07217",
   "metadata": {},
   "outputs": [],
   "source": []
  },
  {
   "cell_type": "code",
   "execution_count": 898,
   "id": "bcfb5732",
   "metadata": {},
   "outputs": [],
   "source": [
    "for i in range(df.shape[0]):\n",
    "    df.at[i,\"Fabric\"] = df[\"Fabric\"][i][:6]"
   ]
  },
  {
   "cell_type": "code",
   "execution_count": 899,
   "id": "df0d0d6b",
   "metadata": {},
   "outputs": [],
   "source": [
    "df_fabrics =  pd.read_csv('../Data/fabrics.csv')"
   ]
  },
  {
   "cell_type": "code",
   "execution_count": 900,
   "id": "ceb92c80",
   "metadata": {},
   "outputs": [],
   "source": [
    "df_fabrics =  pd.read_csv('../Data/fabrics.csv')"
   ]
  },
  {
   "cell_type": "code",
   "execution_count": 901,
   "id": "3a7e3c40",
   "metadata": {},
   "outputs": [],
   "source": [
    "current_fabrics = list(df_fabrics[\"Fabric\"])\n",
    "edited_fabrics = list(df_fabrics[\"Translate\"])\n",
    "dict_of_fabrics = {k:v for k,v in zip(current_fabrics,edited_fabrics)}"
   ]
  },
  {
   "cell_type": "code",
   "execution_count": 902,
   "id": "18b3bdbf",
   "metadata": {},
   "outputs": [
    {
     "data": {
      "text/plain": [
       "{'cotton': 'cotton',\n",
       " 'nylon': 'nylon',\n",
       " 'spandex': 'spandex',\n",
       " 'polyurethane': 'polyester',\n",
       " 'viscose': 'rayon',\n",
       " 'rayon': 'rayon',\n",
       " 'silk': 'silk',\n",
       " 'linen': 'linen',\n",
       " 'polyester': 'polyester',\n",
       " 'elastane': 'spandex',\n",
       " 'tencel_modal': 'tencel',\n",
       " 'polyster': 'polyester',\n",
       " 'polyamide': 'nylon',\n",
       " 'metallic': 'metallic_fibers',\n",
       " 'acetate': 'rayon',\n",
       " 'tencel': 'tencel',\n",
       " 'sp': 'spandex',\n",
       " 'lyocell': 'rayon',\n",
       " 'wool': 'wool',\n",
       " 'metallic_fibers': 'metallic_fibers',\n",
       " 'modal': 'tencel',\n",
       " 'polyamine': 'polyester',\n",
       " 'polyamide-nylon': 'polyester',\n",
       " 'elastance': 'spandex',\n",
       " 'ramie': 'linen',\n",
       " 'lurex': 'metallic_fibers',\n",
       " 'poly': 'polyester',\n",
       " 'model': 'tencel',\n",
       " 'cupro': 'cotton',\n",
       " 'bamboo': 'polyester',\n",
       " 'acrylic': 'polyester',\n",
       " 'lycra': 'spandex',\n",
       " 'triacetate': 'cellulose',\n",
       " 'leather': 'leather',\n",
       " 'elasthane': 'spandex',\n",
       " 'polyester.': 'polyester',\n",
       " 'filming': 'nylon',\n",
       " 'hemp': 'linen',\n",
       " 'polyethylene': 'polyester',\n",
       " 'denim': 'cotton',\n",
       " 'cashmere': 'cashmere',\n",
       " 'woven': 'wool',\n",
       " 'merino': 'wool',\n",
       " 'polyamid': 'polyester',\n",
       " 'pbt': 'polyester',\n",
       " 'elastomultiester': 'spandex',\n",
       " 'tweed': 'wool',\n",
       " 'lambswool': 'wool',\n",
       " 'rayone': 'rayon',\n",
       " 'cotton.': 'cotton',\n",
       " 'polyeyster': 'polyester',\n",
       " 'chiffon': 'silk',\n",
       " 'spandex.': 'spandex',\n",
       " 'poleyster': 'polyester',\n",
       " 'polyetser': 'polyester',\n",
       " 'elastic': 'spandex',\n",
       " 'polyeter': 'polyester',\n",
       " 'spanex': 'spandex',\n",
       " 'nylon.': 'nylon',\n",
       " 'faille': 'silk',\n",
       " 'ecovero™': 'rayon',\n",
       " 'polaymide': 'polyester',\n",
       " 'other_fibers': 'metallic_fibers',\n",
       " 'sorona': 'spandex',\n",
       " 'nylone': 'nylon',\n",
       " 'sik': 'silk',\n",
       " 'polymide': 'polyester',\n",
       " 'polyesester': 'polyester',\n",
       " 'lace': 'cotton',\n",
       " 'georgette': 'silk',\n",
       " 'bambo': 'polyester',\n",
       " 'viscose-rayon': 'rayon',\n",
       " 'viscoe': 'rayon',\n",
       " 'viscose;': 'rayon',\n",
       " 'base': 'polyester',\n",
       " 'metal': 'metallic_fibers',\n",
       " 'polyacrylic': 'polyester',\n",
       " 'pu': 'polyester',\n",
       " 'polyutherane': 'polyester',\n",
       " 'polymetallic': 'polyester',\n",
       " 'triacectate': 'cellulose',\n",
       " 'vicose': 'rayon',\n",
       " 'polyestert': 'polyester',\n",
       " 'chinlon': 'nylon',\n",
       " 'poliammidica': 'polyester',\n",
       " 'metallique': 'metallic_fibers',\n",
       " 'elastomer': 'nylon',\n",
       " 'refibra': 'cotton',\n",
       " 'polyeste': 'polyester',\n",
       " 'polbutylene': 'polyester',\n",
       " 'elastane-spandex': 'spandex',\n",
       " 'polyurethene': 'polyester',\n",
       " 'embroidery': 'cotton',\n",
       " 'sapndex': 'spandex',\n",
       " 'jacquard': 'cotton',\n",
       " 'Polyester': 'polyester',\n",
       " 'Elastane': 'spandex',\n",
       " 'polybutylene': 'polyester',\n",
       " 'yarn': 'cotton',\n",
       " 'anglais': 'cotton',\n",
       " 'acryllic': 'polyester',\n",
       " 'synthetic': 'polyester',\n",
       " 'enka': 'cellulose',\n",
       " 'viscose.': 'rayon',\n",
       " 'triacate': 'cellulose',\n",
       " 'tulle': 'silk',\n",
       " 'nylon14': 'nylon',\n",
       " 'laine': 'wool',\n",
       " 'polyacrilic': 'polyester',\n",
       " 'terylen': 'polyester',\n",
       " 'other': 'polyester',\n",
       " 'lambskin': 'leather',\n",
       " 'semi-synthetic': 'polyester',\n",
       " 'aryclic': 'polyester',\n",
       " 'mylar': 'polyester',\n",
       " 'rayon;': 'rayon',\n",
       " 'mop-acrylic': 'polyester',\n",
       " 'satin': 'silk',\n",
       " 'triacteate': 'cellulose',\n",
       " 'triactetate': 'cellulose',\n",
       " 'silk.': 'silk'}"
      ]
     },
     "execution_count": 902,
     "metadata": {},
     "output_type": "execute_result"
    }
   ],
   "source": [
    "dict_of_fabrics"
   ]
  },
  {
   "cell_type": "code",
   "execution_count": 903,
   "id": "3377c3c9",
   "metadata": {},
   "outputs": [],
   "source": [
    "for i in range(df.shape[0]):\n",
    "    res = \" \".join(dict_of_fabrics.get(ele, ele) for ele in df[\"Fabric\"][i])\n",
    "    df.at[i,\"Fabric\"] = str(res)"
   ]
  },
  {
   "cell_type": "code",
   "execution_count": 904,
   "id": "a14f4ea7",
   "metadata": {},
   "outputs": [],
   "source": [
    "for i in range(df.shape[0]):\n",
    "    df.at[i,\"Fabric\"] = df[\"Fabric\"][i].split()"
   ]
  },
  {
   "cell_type": "code",
   "execution_count": 905,
   "id": "2e5b0294",
   "metadata": {},
   "outputs": [],
   "source": [
    "# Create a column for each fabric type in the dictionary. \n",
    "fabrics_columns = list(set(edited_fabrics))\n",
    "for fabric in fabrics_columns:\n",
    "    df[fabric] = 0\n",
    "    df[fabric] = df[fabric].astype('int')"
   ]
  },
  {
   "cell_type": "code",
   "execution_count": 906,
   "id": "d681693d",
   "metadata": {},
   "outputs": [],
   "source": [
    "for i in range(df.shape[0]):\n",
    "    if len(df[\"Fabric\"][i])==2:\n",
    "        df.at[i,df[\"Fabric\"][i][1]] = df[\"Fabric\"][i][0]\n",
    "    elif len(df[\"Fabric\"][i])==4:\n",
    "        df.at[i,df[\"Fabric\"][i][1]] = df[\"Fabric\"][i][0]\n",
    "        df.at[i,df[\"Fabric\"][i][3]] = df[\"Fabric\"][i][2]\n",
    "    elif len(df[\"Fabric\"][i])==6:\n",
    "        df.at[i,df[\"Fabric\"][i][1]] = df[\"Fabric\"][i][0]\n",
    "        df.at[i,df[\"Fabric\"][i][3]] = df[\"Fabric\"][i][2]\n",
    "        df.at[i,df[\"Fabric\"][i][5]] = df[\"Fabric\"][i][4]"
   ]
  },
  {
   "cell_type": "code",
   "execution_count": 907,
   "id": "e762e66f",
   "metadata": {},
   "outputs": [],
   "source": [
    "df[\"Length\"] = \"unknown\"\n",
    "df[\"Length\"] = df[\"Length\"].astype('object')\n",
    "for i in range(df.shape[0]):\n",
    "    s = df[\"Product_details\"][i]\n",
    "    result = re.findall(r'\\d+', s)\n",
    "    if len(result)>0:\n",
    "        df.at[i, 'Length'] = int(result[0])"
   ]
  },
  {
   "cell_type": "code",
   "execution_count": 908,
   "id": "a50272c6",
   "metadata": {},
   "outputs": [],
   "source": [
    "df['Brand'] = df['Brand'].str.lower()"
   ]
  },
  {
   "cell_type": "code",
   "execution_count": 909,
   "id": "f31fc2f2",
   "metadata": {},
   "outputs": [],
   "source": [
    "#Fill in values without product descriptions by hand. \n",
    "for i in range(df.shape[0]):\n",
    "    if \"victor alfaro collective\" in df[\"Brand\"][i] and \"tea length shirtdress\" in df[\"Dress_Description\"][i]:\n",
    "         df.at[i, \"Product_details\"] = \"Shirtdress. three_quarter_sleeves. shirt_collar_neckline\"\n",
    "    if \"nicole miller\" in df[\"Brand\"][i] and \"velvet mini dress\" in df[\"Dress_Description\"][i]:       \n",
    "        df.at[i, \"Product_details\"] = \"sheath. high neckline. long sleeves\"\n",
    "    if \"adam lippes collective\" in df[\"Brand\"][i] and \"birds of prey dress\" in df[\"Dress_Description\"][i]:       \n",
    "        df.at[i, \"Product_details\"] = \"hourglass.crew neckline. short sleeves\"\n",
    "    if \"area stars\" in df[\"Brand\"][i] and \"lara leopard print dress\" in df[\"Dress_Description\"][i]:       \n",
    "        df.at[i, \"Product_details\"] = \"maxi.v-neckline. short sleeves\"\n",
    "    if \"tibi\" in df[\"Brand\"][i] and \"rolled sleeve shirtdress\" in df[\"Dress_Description\"][i]:       \n",
    "        df.at[i, \"Product_details\"] = \"shirt dress. collared neckline.  short sleeves\" \n",
    "    if \"jonathan simkhai\" in df[\"Brand\"][i] and \"lucy cutout midi dress\" in df[\"Dress_Description\"][i]:       \n",
    "        df.at[i, \"Product_details\"] = \"sheath. straight neckling. sleeveless\"   \n",
    "    if \"allsaints\" in df[\"Brand\"][i] and \"juela dress\" in df[\"Dress_Description\"][i]:       \n",
    "        df.at[i, \"Product_details\"] = \"shift dress. mock neck. long sleeves.\"   \n",
    "    if \"allsaints\" in df[\"Brand\"][i] and \"rosetta tinsel dress\" in df[\"Dress_Description\"][i]:       \n",
    "        df.at[i, \"Product_details\"] = \"maxi. crew neck. long sleeves.\"     \n",
    "    if \"tibi\" in df[\"Brand\"][i] and \"serpentine tank dress\" in df[\"Dress_Description\"][i]:\n",
    "         df.at[i, \"Product_details\"] = \" Sheath. sleeveless. crew neck.\"\n",
    "    if \"marchesa notte\" in df[\"Brand\"][i] and \"off the shoulder corset gown\" in df[\"Dress_Description\"][i]:\n",
    "         df.at[i, \"Product_details\"] = \" gown. sleeveless. off_shoulder. \" \n",
    "    if \"fifteen twenty\" in df[\"Brand\"][i] and \"green handkerchief hem dress\" in df[\"Dress_Description\"][i]:\n",
    "         df.at[i, \"Product_details\"] = \"Hourglass. sleeveless. Shift. V-neckline.\"\n",
    "    if \"elliatt\" in df[\"Brand\"][i] and \"paige sequin mesh dress\" in df[\"Dress_Description\"][i]:\n",
    "         df.at[i, \"Product_details\"] = \"sheath. sleeveless. Square neckline.\"\n",
    "    if \"badgley mischka\" in df[\"Brand\"][i] and \"butterfly belted gown\" in df[\"Dress_Description\"][i]:\n",
    "         df.at[i, \"Product_details\"] = \"gown. sleeveless. v-neck.\"\n",
    "    if \"rejina pyo\" in df[\"Brand\"][i] and \"astrid trench dress\" in df[\"Dress_Description\"][i]:\n",
    "         df.at[i, \"Product_details\"] = \"wrap. sleeveless. collared neckline.\"\n",
    "    if \"aidan aidan mattox\" in df[\"Brand\"][i] and \"floral print satin midi dress\" in df[\"Dress_Description\"][i]: \n",
    "        df.at[i, \"Product_details\"] = \"sleeveless. hourglass. square neck.\"\n",
    "    if \"hugo boss\" in df[\"Brand\"][i] and \"dalissa dress\" in df[\"Dress_Description\"][i]:\n",
    "        df.at[i, \"Product_details\"] = \"short_sleeves. hourglass.  v-neckline.\"\n",
    "    if \"allsaints\" in df[\"Brand\"][i] and \"lilliana kettu dress\" in df[\"Dress_Description\"][i]:\n",
    "        df.at[i, \"Product_details\"] = \"hourglass. short_sleeves. Hourglass. v-neckline.\"\n",
    "    if \"shoshanna\" in df[\"Brand\"][i] and \"catalaya sequin dress\" in df[\"Dress_Description\"][i]:\n",
    "        df.at[i, \"Product_details\"] = \"Sheath. sleeveless. off the shoulder.\"\n",
    "    if \"bardot\" in df[\"Brand\"][i] and \"beckett sequin dress\" in df[\"Dress_Description\"][i]:\n",
    "        df.at[i, \"Product_details\"] = \"Sheath. sleeveless. scoop neck.\"\n",
    "    if \"officine générale\" in df[\"Brand\"][i] and \"camo bonnie dress\"in df[\"Dress_Description\"][i]:\n",
    "        df.at[i, \"Product_details\"] = \"Shirtdress. Long sleeves. Shirt collar neckline.\"\n",
    "    if \"badgley mischka\" in df[\"Brand\"][i] and \"glitz gown\" in df[\"Dress_Description\"][i]:\n",
    "        df.at[i, \"Product_details\"] = \"gown. V-neckline. sleeveless.\"\n",
    "    if \"badgley mischka\" in df[\"Brand\"][i] and \"midnight glamour dress\" in df[\"Dress_Description\"][i]:\n",
    "        df.at[i, \"Product_details\"] = \"hourglass. Sleeveless. V neckline.\"\n",
    "    if \"aijek\" in df[\"Brand\"][i] and \"rylee lace toga dress\" in df[\"Dress_Description\"][i]:\n",
    "        df.at[i, \"Product_details\"] = \"Hourglass. One shoulder neckline. Sleeveless.\"\n",
    "    if \"mark & james by badgley mischka\" in df[\"Brand\"][i] and \"dancing til daylight dress\" in df[\"Dress_Description\"][i]:\n",
    "        df.at[i, \"Product_details\"] = \"Hourglass. Sleeveless. V neckline.\"\n",
    "    if \"slate & willow\" in df[\"Brand\"][i] and \"corey wrap dress\" in df[\"Dress_Description\"][i]:\n",
    "        df.at[i, \"Product_details\"] = \"Wrap dress. Long sleeves. V-neckline.\"\n",
    "    if \"badgley mischka\" in df[\"Brand\"][i] and \"miss mysterious gown\" in df[\"Dress_Description\"][i]:\n",
    "        df.at[i, \"Product_details\"] = \"gown. sleeveless. one shoulder\"\n",
    "    if \"badgley mischka\" in df[\"Brand\"][i] and \"sequin garden dress\" in df[\"Dress_Description\"][i]:\n",
    "        df.at[i, \"Product_details\"] = \"hourglass. sleeveless. V neckline\"\n",
    "    if \"parker\" in df[\"Brand\"][i] and \"clarisa dress\" in df[\"Dress_Description\"][i]:\n",
    "        df.at[i, \"Product_details\"] = \"hourglass. sleeveless. One shoulder.\"\n",
    "    if \"badgley mischka\" in df[\"Brand\"][i] and \"draped in gold dress\" in df[\"Dress_Description\"][i]:\n",
    "        df.at[i, \"Product_details\"] = \"hourglass. sleeveless. V neckline\"\n",
    "df['Product_details'] = df['Product_details'].str.lower()"
   ]
  },
  {
   "cell_type": "code",
   "execution_count": 910,
   "id": "8a7ce681",
   "metadata": {},
   "outputs": [],
   "source": [
    "#Break up the garment description into a list and call it \"Details\". \n",
    "df[\"Details\"] = \"unknown\" \n",
    "df[\"Details\"] = df[\"Details\"].astype('object')\n",
    "for i in range(df.shape[0]):\n",
    "    x = df[\"Product_details\"][i].split(\". \")\n",
    "    df.at[i, 'Details'] = x"
   ]
  },
  {
   "cell_type": "code",
   "execution_count": 911,
   "id": "c029bc18",
   "metadata": {},
   "outputs": [],
   "source": [
    "df[\"Sleeves\"] = \"unknown\"\n",
    "df[\"Sleeves\"] = df[\"Sleeves\"].astype('object')"
   ]
  },
  {
   "cell_type": "code",
   "execution_count": 912,
   "id": "a89eb8f1",
   "metadata": {},
   "outputs": [],
   "source": [
    "for i in range(df.shape[0]):\n",
    "     for k in reversed(range(len(df[\"Details\"][i]))):\n",
    "        if \"sleeveless\" in df[\"Details\"][i][k]:\n",
    "            df.at[i, \"Sleeves\"] = \"sleeveless\"\n",
    "        elif \"quarter\" in df[\"Details\"][i][k] or \"3/4\" in df[\"Details\"][i][k] or \"¾\" in df[\"Details\"][i][k] or \"elbow\" in df[\"Details\"][i][k]:\n",
    "            df.at[i, \"Sleeves\"] = \"three_quarter_sleeves\"\n",
    "        elif \"short\" in df[\"Details\"][i][k] and \"sleeve\" in df[\"Details\"][i][k]:\n",
    "            df.at[i, \"Sleeves\"] = \"short_sleeves\"\n",
    "        elif \"long\" in df[\"Details\"][i][k] and \"sleeve\" in df[\"Details\"][i][k]:\n",
    "            df.at[i, \"Sleeves\"] = \"long_sleeves\"\n",
    "        elif \"cap\" in df[\"Details\"][i][k] and \"sleeve\" in df[\"Details\"][i][k]:\n",
    "            df.at[i, \"Sleeves\"] = \"cap_sleeves\"\n",
    "        elif \"flutter\" in df[\"Details\"][i][k] and \"sleeve\" in df[\"Details\"][i][k]:\n",
    "            df.at[i, \"Sleeves\"] = \"cap_sleeves\"\n",
    "        elif \"three\" in df[\"Details\"][i][k] and \"sleeve\" in df[\"Details\"][i][k]:\n",
    "            df.at[i, \"Sleeves\"] = \"three_quarter_sleeves\"  \n",
    "        elif \"strapless\" in df[\"Details\"][i][k]:\n",
    "            df.at[i, \"Sleeves\"] = \"strapless\"  \n",
    "        elif \"halter\" in df[\"Details\"][i][k]:\n",
    "            df.at[i, \"Sleeves\"] = \"halter\" \n",
    "        elif \"convertible\" in df[\"Details\"][i][k]:\n",
    "            df.at[i, \"Sleeves\"] = \"sleeveless\"\n",
    "        elif \"one shoulder\" in df[\"Details\"][i][k]:\n",
    "            df.at[i, \"Sleeves\"] = \"sleeveless\"\n",
    "        elif \"white cotton with eyelet\" in df[\"Details\"][i][k]:\n",
    "            df.at[i, \"Sleeves\"] = \"sleeveless\""
   ]
  },
  {
   "cell_type": "code",
   "execution_count": 913,
   "id": "67e5ace8",
   "metadata": {},
   "outputs": [],
   "source": [
    "df[\"Neckline\"] = \"unknown\"\n",
    "df[\"Neckline\"] = df[\"Neckline\"].astype('object')"
   ]
  },
  {
   "cell_type": "code",
   "execution_count": 914,
   "id": "433baae7",
   "metadata": {},
   "outputs": [],
   "source": [
    "for i in range(df.shape[0]):\n",
    "     for k in reversed(range(len(df[\"Details\"][i]))):\n",
    "        if \"neck\" in df[\"Details\"][i][k] and \"v\" in df[\"Details\"][i][k]:\n",
    "            df.at[i, \"Neckline\"] = \"v_neckline\"\n",
    "        elif \"sweetheart\" in df[\"Details\"][i][k]:\n",
    "            df.at[i, \"Neckline\"] = \"sweetheart_neckline\"\n",
    "        elif \"scoop\" in df[\"Details\"][i][k]:\n",
    "            df.at[i, \"Neckline\"] = \"scoop_neckline\"\n",
    "        elif \"turtle\" in df[\"Details\"][i][k]:\n",
    "            df.at[i, \"Neckline\"] = \"turtleneck\"  \n",
    "        elif \"mock\" in df[\"Details\"][i][k]:\n",
    "            df.at[i, \"Neckline\"] = \"turtleneck\" \n",
    "        elif \"surplice\" in df[\"Details\"][i][k]:\n",
    "            df.at[i, \"Neckline\"] = \"v_neckline\" \n",
    "        elif \"straight\" in df[\"Details\"][i][k] and \"neck\" in df[\"Details\"][i][k]:\n",
    "            df.at[i, \"Neckline\"] = \"straight_neckline\"    \n",
    "        elif \"strapless\" in df[\"Details\"][i][k]:\n",
    "            df.at[i, \"Neckline\"] = \"straight_neckline\"    \n",
    "        elif \"crew\" in df[\"Details\"][i][k]:\n",
    "            df.at[i, \"Neckline\"] = \"crew_neckline\"\n",
    "        elif \"halter\" in df[\"Details\"][i][k]:\n",
    "            df.at[i, \"Neckline\"] = \"halter\"\n",
    "        elif \"high\" in df[\"Details\"][i][k] and \"neck\" in df[\"Details\"][i][k]:\n",
    "            df.at[i, \"Neckline\"] = \"high_neckline\"\n",
    "        elif \"asymmetric\" in df[\"Details\"][i][k] and \"neck\" in df[\"Details\"][i][k]:\n",
    "            df.at[i, \"Neckline\"] = \"assymetric_neckline\"\n",
    "        elif \"one\" in df[\"Details\"][i][k] and \"shoulder\" in df[\"Details\"][i][k]:\n",
    "            df.at[i, \"Neckline\"] = \"one_shoulder\"\n",
    "        elif \"boat\" in df[\"Details\"][i][k]:\n",
    "            df.at[i, \"Neckline\"] = \"boat_neckline\"\n",
    "        elif \"cowl\" in df[\"Details\"][i][k]:\n",
    "            df.at[i, \"Neckline\"] = \"cowl_neckline\" \n",
    "        elif \"square\" in df[\"Details\"][i][k]:\n",
    "            df.at[i, \"Neckline\"] = \"square_neckline\" \n",
    "        elif \"shirt\" in df[\"Details\"][i][k] or \"collar\" in df[\"Details\"][i][k]:\n",
    "            df.at[i, \"Neckline\"] = \"shirt_collar_neckline\" \n",
    "        elif \"off\" in df[\"Details\"][i][k] and \"shoulder\" in df[\"Details\"][i][k]:\n",
    "            df.at[i, \"Neckline\"] = \"off_shoulder_neckline\" \n",
    "        elif \"boat\" in df[\"Details\"][i][k]:\n",
    "            df.at[i, \"Neckline\"] = \"boat_neckline\" \n",
    "        elif \"scoop\" in df[\"Details\"][i][k]:\n",
    "            df.at[i, \"Neckline\"] = \"scoop_neckline\" \n",
    "        elif \"plunge\" in df[\"Details\"][i][k]:\n",
    "            df.at[i, \"Neckline\"] = \"plunge_neckline\"     \n"
   ]
  },
  {
   "cell_type": "code",
   "execution_count": 915,
   "id": "e6f2af67",
   "metadata": {},
   "outputs": [],
   "source": [
    "Missing_Desc =  pd.read_csv('../Data/missing_description.csv')\n",
    "for i in range(Missing_Desc.shape[0]):\n",
    "    num = df[df['Dress_Description'] == Missing_Desc[\"dress\"][i]].index[0]\n",
    "    df.at[num, \"Neckline\"] = Missing_Desc[\"neck\"][i]\n",
    "    df.at[num, \"Sleeves\"] = Missing_Desc[\"sleeves\"][i]"
   ]
  },
  {
   "cell_type": "code",
   "execution_count": 916,
   "id": "6041145c",
   "metadata": {},
   "outputs": [
    {
     "data": {
      "text/plain": [
       "Index(['Type_of_Customer', 'Size', 'Overall_fit', 'Rented_for',\n",
       "       'Size_usually_worn', 'Height', 'Age', 'Bust_size', 'Body_type',\n",
       "       'Weight', 'Rating', 'Date', 'Brand', 'Dress_Description',\n",
       "       'Retail_price', 'Rent_price', 'Product_details', 'Number_of_reviews',\n",
       "       'Band_Size', 'Cup_Size', 'BMI', 'Fabric', 'cotton', 'nylon',\n",
       "       'cellulose', 'silk', 'spandex', 'tencel', 'rayon', 'linen', 'cashmere',\n",
       "       'wool', 'leather', 'polyester', 'metallic_fibers', 'Length', 'Details',\n",
       "       'Sleeves', 'Neckline'],\n",
       "      dtype='object')"
      ]
     },
     "execution_count": 916,
     "metadata": {},
     "output_type": "execute_result"
    }
   ],
   "source": [
    "df.columns"
   ]
  },
  {
   "cell_type": "code",
   "execution_count": 917,
   "id": "de0c8986",
   "metadata": {},
   "outputs": [],
   "source": [
    "for i in range(df.shape[0]):\n",
    "    if isinstance(df[\"Length\"][i],int):\n",
    "        if df[\"Length\"][i] <=35: \n",
    "            df.at[i,\"Length\"] = \"mini\" \n",
    "        elif df[\"Length\"][i] > 35 and df[\"Length\"][i] <=45:\n",
    "            df.at[i,\"Length\"] = \"midi\" \n",
    "        elif df[\"Length\"][i]>45:\n",
    "            df.at[i,\"Length\"] = \"maxi\""
   ]
  },
  {
   "cell_type": "code",
   "execution_count": 918,
   "id": "597e8e64",
   "metadata": {},
   "outputs": [],
   "source": [
    "missing_dress_lengths_df =  pd.read_csv('../Data/missing_dress_lengths_df.csv')\n",
    "for i in range(missing_dress_lengths_df.shape[0]):\n",
    "    num = df[df['Dress_Description'] == missing_dress_lengths_df[\"dresses\"][i]].index[0]\n",
    "    df.at[num, \"Length\"] = missing_dress_lengths_df[\"lengths\"][i]"
   ]
  },
  {
   "cell_type": "code",
   "execution_count": 919,
   "id": "79011599",
   "metadata": {},
   "outputs": [],
   "source": [
    "for fabric in fabrics_columns:\n",
    "    df[fabric] = df[fabric].astype('int')"
   ]
  },
  {
   "cell_type": "code",
   "execution_count": null,
   "id": "acae8f7d",
   "metadata": {},
   "outputs": [],
   "source": [
    "df[fabric] = df[fabric].astype('int')"
   ]
  },
  {
   "cell_type": "code",
   "execution_count": 921,
   "id": "fe67947d",
   "metadata": {},
   "outputs": [
    {
     "data": {
      "text/plain": [
       "Index(['Type_of_Customer', 'Size', 'Overall_fit', 'Rented_for',\n",
       "       'Size_usually_worn', 'Height', 'Age', 'Bust_size', 'Body_type',\n",
       "       'Weight', 'Rating', 'Date', 'Brand', 'Dress_Description',\n",
       "       'Retail_price', 'Rent_price', 'Product_details', 'Number_of_reviews',\n",
       "       'Band_Size', 'Cup_Size', 'BMI', 'Fabric', 'cotton', 'nylon',\n",
       "       'cellulose', 'silk', 'spandex', 'tencel', 'rayon', 'linen', 'cashmere',\n",
       "       'wool', 'leather', 'polyester', 'metallic_fibers', 'Length', 'Details',\n",
       "       'Sleeves', 'Neckline'],\n",
       "      dtype='object')"
      ]
     },
     "execution_count": 921,
     "metadata": {},
     "output_type": "execute_result"
    }
   ],
   "source": [
    "df.columns"
   ]
  },
  {
   "cell_type": "code",
   "execution_count": 922,
   "id": "f34fb6ff",
   "metadata": {},
   "outputs": [],
   "source": [
    "df.drop(columns=['Type_of_Customer', 'Size', 'Overall_fit', 'Rented_for','Size_usually_worn', 'Height', 'Age','Bust_size', 'Body_type', 'Product_details','Weight', 'Rating', 'Date','Band_Size', 'Cup_Size', 'BMI', 'Fabric',\"Details\"],inplace=True)"
   ]
  },
  {
   "cell_type": "code",
   "execution_count": 923,
   "id": "56c452f2",
   "metadata": {},
   "outputs": [
    {
     "data": {
      "text/html": [
       "<div>\n",
       "<style scoped>\n",
       "    .dataframe tbody tr th:only-of-type {\n",
       "        vertical-align: middle;\n",
       "    }\n",
       "\n",
       "    .dataframe tbody tr th {\n",
       "        vertical-align: top;\n",
       "    }\n",
       "\n",
       "    .dataframe thead th {\n",
       "        text-align: right;\n",
       "    }\n",
       "</style>\n",
       "<table border=\"1\" class=\"dataframe\">\n",
       "  <thead>\n",
       "    <tr style=\"text-align: right;\">\n",
       "      <th></th>\n",
       "      <th>Brand</th>\n",
       "      <th>Dress_Description</th>\n",
       "      <th>Retail_price</th>\n",
       "      <th>Rent_price</th>\n",
       "      <th>Number_of_reviews</th>\n",
       "      <th>cotton</th>\n",
       "      <th>nylon</th>\n",
       "      <th>cellulose</th>\n",
       "      <th>silk</th>\n",
       "      <th>spandex</th>\n",
       "      <th>tencel</th>\n",
       "      <th>rayon</th>\n",
       "      <th>linen</th>\n",
       "      <th>cashmere</th>\n",
       "      <th>wool</th>\n",
       "      <th>leather</th>\n",
       "      <th>polyester</th>\n",
       "      <th>metallic_fibers</th>\n",
       "      <th>Length</th>\n",
       "      <th>Sleeves</th>\n",
       "      <th>Neckline</th>\n",
       "    </tr>\n",
       "  </thead>\n",
       "  <tbody>\n",
       "    <tr>\n",
       "      <th>0</th>\n",
       "      <td>tory burch</td>\n",
       "      <td>painted roses smocked dress</td>\n",
       "      <td>478</td>\n",
       "      <td>70</td>\n",
       "      <td>33</td>\n",
       "      <td>69</td>\n",
       "      <td>27</td>\n",
       "      <td>0</td>\n",
       "      <td>0</td>\n",
       "      <td>4</td>\n",
       "      <td>0</td>\n",
       "      <td>0</td>\n",
       "      <td>0</td>\n",
       "      <td>0</td>\n",
       "      <td>0</td>\n",
       "      <td>0</td>\n",
       "      <td>0</td>\n",
       "      <td>0</td>\n",
       "      <td>midi</td>\n",
       "      <td>sleeveless</td>\n",
       "      <td>square_neckline</td>\n",
       "    </tr>\n",
       "    <tr>\n",
       "      <th>1</th>\n",
       "      <td>tanya taylor</td>\n",
       "      <td>printed claudia dress</td>\n",
       "      <td>495</td>\n",
       "      <td>68</td>\n",
       "      <td>97</td>\n",
       "      <td>98</td>\n",
       "      <td>0</td>\n",
       "      <td>0</td>\n",
       "      <td>0</td>\n",
       "      <td>0</td>\n",
       "      <td>0</td>\n",
       "      <td>0</td>\n",
       "      <td>0</td>\n",
       "      <td>0</td>\n",
       "      <td>0</td>\n",
       "      <td>0</td>\n",
       "      <td>2</td>\n",
       "      <td>0</td>\n",
       "      <td>maxi</td>\n",
       "      <td>sleeveless</td>\n",
       "      <td>scoop_neckline</td>\n",
       "    </tr>\n",
       "    <tr>\n",
       "      <th>2</th>\n",
       "      <td>warm</td>\n",
       "      <td>wax poetic garden dress</td>\n",
       "      <td>350</td>\n",
       "      <td>60</td>\n",
       "      <td>83</td>\n",
       "      <td>100</td>\n",
       "      <td>0</td>\n",
       "      <td>0</td>\n",
       "      <td>0</td>\n",
       "      <td>0</td>\n",
       "      <td>0</td>\n",
       "      <td>0</td>\n",
       "      <td>0</td>\n",
       "      <td>0</td>\n",
       "      <td>0</td>\n",
       "      <td>0</td>\n",
       "      <td>0</td>\n",
       "      <td>0</td>\n",
       "      <td>mini</td>\n",
       "      <td>long_sleeves</td>\n",
       "      <td>crew_neckline</td>\n",
       "    </tr>\n",
       "    <tr>\n",
       "      <th>3</th>\n",
       "      <td>farm rio</td>\n",
       "      <td>macaw mix maxi</td>\n",
       "      <td>250</td>\n",
       "      <td>36</td>\n",
       "      <td>142</td>\n",
       "      <td>0</td>\n",
       "      <td>0</td>\n",
       "      <td>0</td>\n",
       "      <td>0</td>\n",
       "      <td>0</td>\n",
       "      <td>0</td>\n",
       "      <td>100</td>\n",
       "      <td>0</td>\n",
       "      <td>0</td>\n",
       "      <td>0</td>\n",
       "      <td>0</td>\n",
       "      <td>0</td>\n",
       "      <td>0</td>\n",
       "      <td>maxi</td>\n",
       "      <td>short_sleeves</td>\n",
       "      <td>v_neckline</td>\n",
       "    </tr>\n",
       "    <tr>\n",
       "      <th>4</th>\n",
       "      <td>peter som collective</td>\n",
       "      <td>chambray midi dress</td>\n",
       "      <td>395</td>\n",
       "      <td>33</td>\n",
       "      <td>59</td>\n",
       "      <td>55</td>\n",
       "      <td>0</td>\n",
       "      <td>0</td>\n",
       "      <td>0</td>\n",
       "      <td>0</td>\n",
       "      <td>0</td>\n",
       "      <td>45</td>\n",
       "      <td>0</td>\n",
       "      <td>0</td>\n",
       "      <td>0</td>\n",
       "      <td>0</td>\n",
       "      <td>0</td>\n",
       "      <td>0</td>\n",
       "      <td>maxi</td>\n",
       "      <td>short_sleeves</td>\n",
       "      <td>shirt_collar_neckline</td>\n",
       "    </tr>\n",
       "  </tbody>\n",
       "</table>\n",
       "</div>"
      ],
      "text/plain": [
       "                  Brand            Dress_Description  Retail_price  \\\n",
       "0            tory burch  painted roses smocked dress           478   \n",
       "1          tanya taylor        printed claudia dress           495   \n",
       "2                  warm      wax poetic garden dress           350   \n",
       "3              farm rio               macaw mix maxi           250   \n",
       "4  peter som collective          chambray midi dress           395   \n",
       "\n",
       "   Rent_price  Number_of_reviews  cotton  nylon  cellulose  silk  spandex  \\\n",
       "0          70                 33      69     27          0     0        4   \n",
       "1          68                 97      98      0          0     0        0   \n",
       "2          60                 83     100      0          0     0        0   \n",
       "3          36                142       0      0          0     0        0   \n",
       "4          33                 59      55      0          0     0        0   \n",
       "\n",
       "   tencel  rayon  linen  cashmere  wool  leather  polyester  metallic_fibers  \\\n",
       "0       0      0      0         0     0        0          0                0   \n",
       "1       0      0      0         0     0        0          2                0   \n",
       "2       0      0      0         0     0        0          0                0   \n",
       "3       0    100      0         0     0        0          0                0   \n",
       "4       0     45      0         0     0        0          0                0   \n",
       "\n",
       "  Length        Sleeves               Neckline  \n",
       "0   midi     sleeveless        square_neckline  \n",
       "1   maxi     sleeveless         scoop_neckline  \n",
       "2   mini   long_sleeves          crew_neckline  \n",
       "3   maxi  short_sleeves             v_neckline  \n",
       "4   maxi  short_sleeves  shirt_collar_neckline  "
      ]
     },
     "execution_count": 923,
     "metadata": {},
     "output_type": "execute_result"
    }
   ],
   "source": [
    "df.head()"
   ]
  },
  {
   "cell_type": "code",
   "execution_count": 924,
   "id": "29cc2b88",
   "metadata": {},
   "outputs": [],
   "source": [
    "#Export as an excel file \n",
    "df.to_csv('../Data/df_clean_dresses.csv', header=True, index=False)"
   ]
  },
  {
   "cell_type": "markdown",
   "id": "f401a20d",
   "metadata": {},
   "source": [
    "### Summary of this notebook: "
   ]
  },
  {
   "cell_type": "markdown",
   "id": "cdfcf3e1",
   "metadata": {},
   "source": [
    "#### In the next notebook, EDA, some visualizations are presented to get a better idea of the feature distributions. "
   ]
  }
 ],
 "metadata": {
  "kernelspec": {
   "display_name": "Python 3 (ipykernel)",
   "language": "python",
   "name": "python3"
  },
  "language_info": {
   "codemirror_mode": {
    "name": "ipython",
    "version": 3
   },
   "file_extension": ".py",
   "mimetype": "text/x-python",
   "name": "python",
   "nbconvert_exporter": "python",
   "pygments_lexer": "ipython3",
   "version": "3.9.11"
  }
 },
 "nbformat": 4,
 "nbformat_minor": 5
}
